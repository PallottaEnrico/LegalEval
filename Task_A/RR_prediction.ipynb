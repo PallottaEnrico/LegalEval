{
  "cells": [
    {
      "cell_type": "markdown",
      "metadata": {
        "id": "view-in-github",
        "colab_type": "text"
      },
      "source": [
        "<a href=\"https://colab.research.google.com/github/PallottaEnrico/LegalEval/blob/main/Task_A/RR_prediction.ipynb\" target=\"_parent\"><img src=\"https://colab.research.google.com/assets/colab-badge.svg\" alt=\"Open In Colab\"/></a>"
      ]
    },
    {
      "cell_type": "markdown",
      "source": [
        "## LegalEval: Understanding Legal Texts\n",
        "### Task A\n",
        "\n",
        "This notebook present a solution for the Task A of the LegalEval challenge from SemEval 2023.\n",
        "\n",
        "More info about the challenge can be found [here](https://sites.google.com/view/legaleval/home).\n",
        "\n",
        "[Github link](https://github.com/PallottaEnrico/LegalEval) to our paper and all the utils used here.\n",
        "\n",
        "Authors:\n",
        "- Yuri Noviello\n",
        "- Enrico Pallotta\n",
        "- Flavio Pinzarrone\n",
        "- Giuseppe Tanzi"
      ],
      "metadata": {
        "id": "uqiprcfLf8yh"
      }
    },
    {
      "cell_type": "markdown",
      "source": [
        "\n",
        "## Task overview\n",
        " The purpose of creating a rhetorical role prediction model is to enable automated understanding of legal documents by segmenting them into topically coherent units, referred to as Rhetorical Roles (RR). This segmentation is a fundamental building block for many legal AI applications like judgment summarizing, judgment outcome prediction, precedent search, etc."
      ],
      "metadata": {
        "id": "IZQKpD_GgB_D"
      }
    },
    {
      "cell_type": "markdown",
      "source": [
        "## Installations and Imports"
      ],
      "metadata": {
        "id": "0NqKSxaCf2bo"
      }
    },
    {
      "cell_type": "code",
      "source": [
        "!pip -qqq install dataset\n",
        "!pip -qqq install transformers\n",
        "!pip -qqq install wget\n",
        "!pip -qqq install evaluate\n",
        "!pip -qqq install accelerate"
      ],
      "metadata": {
        "id": "z0IX2IoMRC41",
        "colab": {
          "base_uri": "https://localhost:8080/"
        },
        "outputId": "17998d86-5ccb-4c2c-cb69-e6a180a3d277"
      },
      "execution_count": null,
      "outputs": [
        {
          "output_type": "stream",
          "name": "stdout",
          "text": [
            "\u001b[2K     \u001b[90m━━━━━━━━━━━━━━━━━━━━━━━━━━━━━━━━━━━━━━━\u001b[0m \u001b[32m210.6/210.6 KB\u001b[0m \u001b[31m5.3 MB/s\u001b[0m eta \u001b[36m0:00:00\u001b[0m\n",
            "\u001b[2K     \u001b[90m━━━━━━━━━━━━━━━━━━━━━━━━━━━━━━━━━━━━━━━━\u001b[0m \u001b[32m78.7/78.7 KB\u001b[0m \u001b[31m5.1 MB/s\u001b[0m eta \u001b[36m0:00:00\u001b[0m\n",
            "\u001b[2K     \u001b[90m━━━━━━━━━━━━━━━━━━━━━━━━━━━━━━━━━━━━━━━━\u001b[0m \u001b[32m6.3/6.3 MB\u001b[0m \u001b[31m19.4 MB/s\u001b[0m eta \u001b[36m0:00:00\u001b[0m\n",
            "\u001b[2K     \u001b[90m━━━━━━━━━━━━━━━━━━━━━━━━━━━━━━━━━━━━━━━\u001b[0m \u001b[32m190.3/190.3 KB\u001b[0m \u001b[31m4.5 MB/s\u001b[0m eta \u001b[36m0:00:00\u001b[0m\n",
            "\u001b[2K     \u001b[90m━━━━━━━━━━━━━━━━━━━━━━━━━━━━━━━━━━━━━━━━\u001b[0m \u001b[32m7.6/7.6 MB\u001b[0m \u001b[31m30.1 MB/s\u001b[0m eta \u001b[36m0:00:00\u001b[0m\n",
            "\u001b[?25h  Preparing metadata (setup.py) ... \u001b[?25l\u001b[?25hdone\n",
            "  Building wheel for wget (setup.py) ... \u001b[?25l\u001b[?25hdone\n",
            "\u001b[2K     \u001b[90m━━━━━━━━━━━━━━━━━━━━━━━━━━━━━━━━━━━━━━━━\u001b[0m \u001b[32m81.4/81.4 KB\u001b[0m \u001b[31m3.7 MB/s\u001b[0m eta \u001b[36m0:00:00\u001b[0m\n",
            "\u001b[2K     \u001b[90m━━━━━━━━━━━━━━━━━━━━━━━━━━━━━━━━━━━━━━━\u001b[0m \u001b[32m132.0/132.0 KB\u001b[0m \u001b[31m7.4 MB/s\u001b[0m eta \u001b[36m0:00:00\u001b[0m\n",
            "\u001b[2K     \u001b[90m━━━━━━━━━━━━━━━━━━━━━━━━━━━━━━━━━━━━━━\u001b[0m \u001b[32m213.0/213.0 KB\u001b[0m \u001b[31m20.4 MB/s\u001b[0m eta \u001b[36m0:00:00\u001b[0m\n",
            "\u001b[2K     \u001b[90m━━━━━━━━━━━━━━━━━━━━━━━━━━━━━━━━━━━━━━\u001b[0m \u001b[32m462.8/462.8 KB\u001b[0m \u001b[31m28.6 MB/s\u001b[0m eta \u001b[36m0:00:00\u001b[0m\n",
            "\u001b[2K     \u001b[90m━━━━━━━━━━━━━━━━━━━━━━━━━━━━━━━━━━━━━━\u001b[0m \u001b[32m140.6/140.6 KB\u001b[0m \u001b[31m13.7 MB/s\u001b[0m eta \u001b[36m0:00:00\u001b[0m\n",
            "\u001b[2K     \u001b[90m━━━━━━━━━━━━━━━━━━━━━━━━━━━━━━━━━━━━━━━\u001b[0m \u001b[32m199.7/199.7 KB\u001b[0m \u001b[31m5.9 MB/s\u001b[0m eta \u001b[36m0:00:00\u001b[0m\n",
            "\u001b[?25h"
          ]
        }
      ]
    },
    {
      "cell_type": "code",
      "execution_count": null,
      "metadata": {
        "id": "UQ3FQyT5cDkG"
      },
      "outputs": [],
      "source": [
        "import numpy as np\n",
        "import pandas as pd\n",
        "import matplotlib.pyplot as plt\n",
        "import wget\n",
        "import evaluate\n",
        "from accelerate import find_executable_batch_size\n",
        "\n",
        "import torch\n",
        "import torch.nn as nn\n",
        "from torch.cuda import empty_cache\n",
        "from torch.utils.data import DataLoader\n",
        "\n",
        "import gc\n",
        "import json\n",
        "import re\n",
        "import random\n",
        "import os\n",
        "\n",
        "from datasets import Dataset\n",
        "from tqdm import tqdm\n",
        "\n",
        "from sklearn.model_selection import GroupShuffleSplit\n",
        "from sklearn.metrics import classification_report\n",
        "\n",
        "from transformers import (AutoTokenizer,\n",
        "                          AutoModelForSequenceClassification,\n",
        "                          BatchEncoding,\n",
        "                          BertModel,\n",
        "                          TrainingArguments,\n",
        "                          Trainer)"
      ]
    },
    {
      "cell_type": "markdown",
      "source": [
        "Long and boring functions have been moved to python modules in our github repo.\n",
        "\n",
        "The main module are:\n",
        "- [utils.py](https://github.com/PallottaEnrico/LegalEval/blob/main/Task_A/utils.py) : contains some utility functions e.g. to plot graphs, examples and confusion matrices.\n",
        "- [data_preprocessing.py](https://github.com/PallottaEnrico/LegalEval/blob/main/Task_A/data_preprocessing.py) : contains a function to remap char indexes to word indexes in documents, a function to retrieve the context of a setence inside a document and one to rearrange the dataset into a DataFrame.\n",
        "- [CustomModel.py](https://github.com/PallottaEnrico/LegalEval/blob/main/Task_A/CustomModel.py) : contains the implementation of our InLegalBERT + BiLSTM model."
      ],
      "metadata": {
        "id": "4rM00lzZWyJ0"
      }
    },
    {
      "cell_type": "code",
      "source": [
        "if os.path.exists(\"LegalEval\"):\n",
        "  !rm -rf LegalEval\n",
        "\n",
        "!git clone https://github.com/PallottaEnrico/LegalEval.git\n",
        "\n",
        "from LegalEval.Task_A.data_preprocessing import rearrange_df\n",
        "from LegalEval.Task_A.utils import (set_reproducibility,\n",
        "                   labels_frequency,\n",
        "                   compute_metrics,\n",
        "                   plot_confusion_matrix,\n",
        "                   print_document)\n",
        "from LegalEval.Task_A.CustomModel import BertSequenceClassifier"
      ],
      "metadata": {
        "colab": {
          "base_uri": "https://localhost:8080/"
        },
        "id": "djSsaSzkBjpk",
        "outputId": "35125f58-e503-464f-dcc3-3b8f1a8f5a17"
      },
      "execution_count": null,
      "outputs": [
        {
          "output_type": "stream",
          "name": "stdout",
          "text": [
            "Cloning into 'LegalEval'...\n",
            "remote: Enumerating objects: 332, done.\u001b[K\n",
            "remote: Counting objects: 100% (142/142), done.\u001b[K\n",
            "remote: Compressing objects: 100% (123/123), done.\u001b[K\n",
            "remote: Total 332 (delta 68), reused 45 (delta 13), pack-reused 190\u001b[K\n",
            "Receiving objects: 100% (332/332), 429.14 KiB | 8.94 MiB/s, done.\n",
            "Resolving deltas: 100% (146/146), done.\n"
          ]
        }
      ]
    },
    {
      "cell_type": "code",
      "execution_count": null,
      "metadata": {
        "colab": {
          "base_uri": "https://localhost:8080/"
        },
        "id": "kksaT1ESYnxf",
        "outputId": "a8905fb9-9611-46b1-9103-b9ddd0e96f5a"
      },
      "outputs": [
        {
          "output_type": "stream",
          "name": "stdout",
          "text": [
            "Please set GPU via Edit -> Notebook Settings.\n"
          ]
        }
      ],
      "source": [
        "device = \"cpu\"\n",
        "if torch.cuda.is_available():\n",
        "    print('All good, a Gpu is available')\n",
        "    device = torch.device(\"cuda:0\")\n",
        "\n",
        "else:\n",
        "    print('Please set GPU via Edit -> Notebook Settings.')"
      ]
    },
    {
      "cell_type": "code",
      "execution_count": null,
      "metadata": {
        "id": "iMr0tyhtURuw"
      },
      "outputs": [],
      "source": [
        "# Run this cell to guarantee reproducibility.\n",
        "seed = 42\n",
        "set_reproducibility(seed)"
      ]
    },
    {
      "cell_type": "markdown",
      "source": [
        "## Dataset Download"
      ],
      "metadata": {
        "id": "Td43sGfjgf9e"
      }
    },
    {
      "cell_type": "code",
      "execution_count": null,
      "metadata": {
        "colab": {
          "base_uri": "https://localhost:8080/"
        },
        "id": "v_8jjfu07kr9",
        "outputId": "663cbd50-a029-4d00-8372-ebfcd7b46ba2"
      },
      "outputs": [
        {
          "output_type": "stream",
          "name": "stdout",
          "text": [
            "--2023-01-31 17:13:27--  https://storage.googleapis.com/indianlegalbert/OPEN_SOURCED_FILES/Rhetorical_Role_Benchmark/Data/train.json\n",
            "Resolving storage.googleapis.com (storage.googleapis.com)... 142.251.167.128, 172.253.62.128, 172.253.115.128, ...\n",
            "Connecting to storage.googleapis.com (storage.googleapis.com)|142.251.167.128|:443... connected.\n",
            "HTTP request sent, awaiting response... 200 OK\n",
            "Length: 13645789 (13M) [application/json]\n",
            "Saving to: ‘train.json’\n",
            "\n",
            "train.json          100%[===================>]  13.01M  --.-KB/s    in 0.1s    \n",
            "\n",
            "2023-01-31 17:13:27 (133 MB/s) - ‘train.json’ saved [13645789/13645789]\n",
            "\n",
            "--2023-01-31 17:13:27--  https://storage.googleapis.com/indianlegalbert/OPEN_SOURCED_FILES/Rhetorical_Role_Benchmark/Data/dev.json\n",
            "Resolving storage.googleapis.com (storage.googleapis.com)... 142.251.167.128, 172.253.62.128, 172.253.115.128, ...\n",
            "Connecting to storage.googleapis.com (storage.googleapis.com)|142.251.167.128|:443... connected.\n",
            "HTTP request sent, awaiting response... 200 OK\n",
            "Length: 1265870 (1.2M) [application/json]\n",
            "Saving to: ‘dev.json’\n",
            "\n",
            "dev.json            100%[===================>]   1.21M  --.-KB/s    in 0.01s   \n",
            "\n",
            "2023-01-31 17:13:27 (86.6 MB/s) - ‘dev.json’ saved [1265870/1265870]\n",
            "\n"
          ]
        }
      ],
      "source": [
        "!wget 'https://storage.googleapis.com/indianlegalbert/OPEN_SOURCED_FILES/Rhetorical_Role_Benchmark/Data/train.json'\n",
        "!wget 'https://storage.googleapis.com/indianlegalbert/OPEN_SOURCED_FILES/Rhetorical_Role_Benchmark/Data/dev.json'"
      ]
    },
    {
      "cell_type": "code",
      "execution_count": null,
      "metadata": {
        "id": "mQVwO6GdcSd7"
      },
      "outputs": [],
      "source": [
        "train_json = open('train.json')\n",
        "train = json.load(train_json)\n",
        "\n",
        "test_json = open('dev.json')\n",
        "test = json.load(test_json)"
      ]
    },
    {
      "cell_type": "markdown",
      "metadata": {
        "id": "40e42311"
      },
      "source": [
        "## Data Inspection\n"
      ]
    },
    {
      "cell_type": "markdown",
      "source": [
        "Spend some time in checking accurately the dataset format and how to retrieve the tasks' inputs and outputs"
      ],
      "metadata": {
        "id": "BGOJgV9AoJw5"
      }
    },
    {
      "cell_type": "code",
      "source": [
        "print(f\"There are {len(train)} documents in the train set\")\n",
        "print(f\"There are {len(test)} documents in the test set\")"
      ],
      "metadata": {
        "colab": {
          "base_uri": "https://localhost:8080/"
        },
        "id": "Nt7lj32XaYcw",
        "outputId": "1d290a0f-074d-4e9e-d9cd-ef97c29929da"
      },
      "execution_count": null,
      "outputs": [
        {
          "output_type": "stream",
          "name": "stdout",
          "text": [
            "There are 247 documents in the train set\n",
            "There are 30 documents in the test set\n"
          ]
        }
      ]
    },
    {
      "cell_type": "markdown",
      "metadata": {
        "id": "Tcen2xcnuNDa"
      },
      "source": [
        "### Conversion in DataFrame format"
      ]
    },
    {
      "cell_type": "markdown",
      "metadata": {
        "id": "d-z4fHIcoB4-"
      },
      "source": [
        "Let's fix the format of the dataset, passing from json to a structured pandas dataframe containing the useful information.\n",
        "\n",
        "*i.e. Doc_ID, Full document text, Context, Sentence , Label (RR).* \n",
        "\n",
        "- We generate the context of the sentence since we will be using it in some of our experimentations.\n",
        "- We drop all the duplicates of a `(text, sentence)` pair"
      ]
    },
    {
      "cell_type": "code",
      "source": [
        "# Define the max length of the input sequence to give to the transformers\n",
        "MAX_SEQUENCE_LENGTH = 512"
      ],
      "metadata": {
        "id": "ptOvFRc5UUsD"
      },
      "execution_count": null,
      "outputs": []
    },
    {
      "cell_type": "code",
      "execution_count": null,
      "metadata": {
        "colab": {
          "base_uri": "https://localhost:8080/"
        },
        "id": "jFceUAvK_gka",
        "outputId": "9de00487-6c98-4bdd-8b2b-abd77952079e"
      },
      "outputs": [
        {
          "output_type": "stream",
          "name": "stdout",
          "text": [
            "Rearranging train..\n"
          ]
        },
        {
          "output_type": "stream",
          "name": "stderr",
          "text": [
            "100%|██████████| 247/247 [01:06<00:00,  3.69it/s]\n"
          ]
        },
        {
          "output_type": "stream",
          "name": "stdout",
          "text": [
            "Rearranging test..\n"
          ]
        },
        {
          "output_type": "stream",
          "name": "stderr",
          "text": [
            "100%|██████████| 30/30 [00:05<00:00,  5.83it/s]\n"
          ]
        }
      ],
      "source": [
        "print(\"Rearranging train..\")\n",
        "train_df = rearrange_df(train, max_len_context=MAX_SEQUENCE_LENGTH)\n",
        "\n",
        "print(\"Rearranging test..\")\n",
        "test_df = rearrange_df(test, max_len_context=MAX_SEQUENCE_LENGTH)"
      ]
    },
    {
      "cell_type": "markdown",
      "source": [
        "### Exploration"
      ],
      "metadata": {
        "id": "GadE7bhbvzAO"
      }
    },
    {
      "cell_type": "markdown",
      "metadata": {
        "id": "PG_SFtvo_eu4"
      },
      "source": [
        "Let's see the final format"
      ]
    },
    {
      "cell_type": "code",
      "source": [
        "train_df.head()"
      ],
      "metadata": {
        "colab": {
          "base_uri": "https://localhost:8080/",
          "height": 206
        },
        "id": "qJLuzASfw4RN",
        "outputId": "e143b4d9-8cfa-4544-ff4c-c386a9863359"
      },
      "execution_count": null,
      "outputs": [
        {
          "output_type": "execute_result",
          "data": {
            "text/plain": [
              "   doc_id                                               text  \\\n",
              "0    1735        IN THE HIGH COURT OF KARNATAKA,\\n       ...   \n",
              "1    1735        IN THE HIGH COURT OF KARNATAKA,\\n       ...   \n",
              "2    1735        IN THE HIGH COURT OF KARNATAKA,\\n       ...   \n",
              "3    1735        IN THE HIGH COURT OF KARNATAKA,\\n       ...   \n",
              "4    1735        IN THE HIGH COURT OF KARNATAKA,\\n       ...   \n",
              "\n",
              "                                             context  \\\n",
              "0  IN THE HIGH COURT OF KARNATAKA CIRCUIT BENCH A...   \n",
              "1  IN THE HIGH COURT OF KARNATAKA CIRCUIT BENCH A...   \n",
              "2  IN THE HIGH COURT OF KARNATAKA CIRCUIT BENCH A...   \n",
              "3  IN THE HIGH COURT OF KARNATAKA CIRCUIT BENCH A...   \n",
              "4  IN THE HIGH COURT OF KARNATAKA CIRCUIT BENCH A...   \n",
              "\n",
              "                                            sentence     label  \n",
              "0        IN THE HIGH COURT OF KARNATAKA,\\n       ...  PREAMBLE  \n",
              "1  \\n\\n      BEFORE\\n\\nTHE HON'BLE MR.JUSTICE ANA...  PREAMBLE  \n",
              "2  This Criminal Appeal is filed under Section 37...  PREAMBLE  \n",
              "3  \\n\\n       This appeal coming on for hearing t...  PREAMBLE  \n",
              "4  \\n       Heard the learned Counsel for the app...      NONE  "
            ],
            "text/html": [
              "\n",
              "  <div id=\"df-6eb3000f-4fa8-483c-b538-c49b56c66da7\">\n",
              "    <div class=\"colab-df-container\">\n",
              "      <div>\n",
              "<style scoped>\n",
              "    .dataframe tbody tr th:only-of-type {\n",
              "        vertical-align: middle;\n",
              "    }\n",
              "\n",
              "    .dataframe tbody tr th {\n",
              "        vertical-align: top;\n",
              "    }\n",
              "\n",
              "    .dataframe thead th {\n",
              "        text-align: right;\n",
              "    }\n",
              "</style>\n",
              "<table border=\"1\" class=\"dataframe\">\n",
              "  <thead>\n",
              "    <tr style=\"text-align: right;\">\n",
              "      <th></th>\n",
              "      <th>doc_id</th>\n",
              "      <th>text</th>\n",
              "      <th>context</th>\n",
              "      <th>sentence</th>\n",
              "      <th>label</th>\n",
              "    </tr>\n",
              "  </thead>\n",
              "  <tbody>\n",
              "    <tr>\n",
              "      <th>0</th>\n",
              "      <td>1735</td>\n",
              "      <td>IN THE HIGH COURT OF KARNATAKA,\\n       ...</td>\n",
              "      <td>IN THE HIGH COURT OF KARNATAKA CIRCUIT BENCH A...</td>\n",
              "      <td>IN THE HIGH COURT OF KARNATAKA,\\n       ...</td>\n",
              "      <td>PREAMBLE</td>\n",
              "    </tr>\n",
              "    <tr>\n",
              "      <th>1</th>\n",
              "      <td>1735</td>\n",
              "      <td>IN THE HIGH COURT OF KARNATAKA,\\n       ...</td>\n",
              "      <td>IN THE HIGH COURT OF KARNATAKA CIRCUIT BENCH A...</td>\n",
              "      <td>\\n\\n      BEFORE\\n\\nTHE HON'BLE MR.JUSTICE ANA...</td>\n",
              "      <td>PREAMBLE</td>\n",
              "    </tr>\n",
              "    <tr>\n",
              "      <th>2</th>\n",
              "      <td>1735</td>\n",
              "      <td>IN THE HIGH COURT OF KARNATAKA,\\n       ...</td>\n",
              "      <td>IN THE HIGH COURT OF KARNATAKA CIRCUIT BENCH A...</td>\n",
              "      <td>This Criminal Appeal is filed under Section 37...</td>\n",
              "      <td>PREAMBLE</td>\n",
              "    </tr>\n",
              "    <tr>\n",
              "      <th>3</th>\n",
              "      <td>1735</td>\n",
              "      <td>IN THE HIGH COURT OF KARNATAKA,\\n       ...</td>\n",
              "      <td>IN THE HIGH COURT OF KARNATAKA CIRCUIT BENCH A...</td>\n",
              "      <td>\\n\\n       This appeal coming on for hearing t...</td>\n",
              "      <td>PREAMBLE</td>\n",
              "    </tr>\n",
              "    <tr>\n",
              "      <th>4</th>\n",
              "      <td>1735</td>\n",
              "      <td>IN THE HIGH COURT OF KARNATAKA,\\n       ...</td>\n",
              "      <td>IN THE HIGH COURT OF KARNATAKA CIRCUIT BENCH A...</td>\n",
              "      <td>\\n       Heard the learned Counsel for the app...</td>\n",
              "      <td>NONE</td>\n",
              "    </tr>\n",
              "  </tbody>\n",
              "</table>\n",
              "</div>\n",
              "      <button class=\"colab-df-convert\" onclick=\"convertToInteractive('df-6eb3000f-4fa8-483c-b538-c49b56c66da7')\"\n",
              "              title=\"Convert this dataframe to an interactive table.\"\n",
              "              style=\"display:none;\">\n",
              "        \n",
              "  <svg xmlns=\"http://www.w3.org/2000/svg\" height=\"24px\"viewBox=\"0 0 24 24\"\n",
              "       width=\"24px\">\n",
              "    <path d=\"M0 0h24v24H0V0z\" fill=\"none\"/>\n",
              "    <path d=\"M18.56 5.44l.94 2.06.94-2.06 2.06-.94-2.06-.94-.94-2.06-.94 2.06-2.06.94zm-11 1L8.5 8.5l.94-2.06 2.06-.94-2.06-.94L8.5 2.5l-.94 2.06-2.06.94zm10 10l.94 2.06.94-2.06 2.06-.94-2.06-.94-.94-2.06-.94 2.06-2.06.94z\"/><path d=\"M17.41 7.96l-1.37-1.37c-.4-.4-.92-.59-1.43-.59-.52 0-1.04.2-1.43.59L10.3 9.45l-7.72 7.72c-.78.78-.78 2.05 0 2.83L4 21.41c.39.39.9.59 1.41.59.51 0 1.02-.2 1.41-.59l7.78-7.78 2.81-2.81c.8-.78.8-2.07 0-2.86zM5.41 20L4 18.59l7.72-7.72 1.47 1.35L5.41 20z\"/>\n",
              "  </svg>\n",
              "      </button>\n",
              "      \n",
              "  <style>\n",
              "    .colab-df-container {\n",
              "      display:flex;\n",
              "      flex-wrap:wrap;\n",
              "      gap: 12px;\n",
              "    }\n",
              "\n",
              "    .colab-df-convert {\n",
              "      background-color: #E8F0FE;\n",
              "      border: none;\n",
              "      border-radius: 50%;\n",
              "      cursor: pointer;\n",
              "      display: none;\n",
              "      fill: #1967D2;\n",
              "      height: 32px;\n",
              "      padding: 0 0 0 0;\n",
              "      width: 32px;\n",
              "    }\n",
              "\n",
              "    .colab-df-convert:hover {\n",
              "      background-color: #E2EBFA;\n",
              "      box-shadow: 0px 1px 2px rgba(60, 64, 67, 0.3), 0px 1px 3px 1px rgba(60, 64, 67, 0.15);\n",
              "      fill: #174EA6;\n",
              "    }\n",
              "\n",
              "    [theme=dark] .colab-df-convert {\n",
              "      background-color: #3B4455;\n",
              "      fill: #D2E3FC;\n",
              "    }\n",
              "\n",
              "    [theme=dark] .colab-df-convert:hover {\n",
              "      background-color: #434B5C;\n",
              "      box-shadow: 0px 1px 3px 1px rgba(0, 0, 0, 0.15);\n",
              "      filter: drop-shadow(0px 1px 2px rgba(0, 0, 0, 0.3));\n",
              "      fill: #FFFFFF;\n",
              "    }\n",
              "  </style>\n",
              "\n",
              "      <script>\n",
              "        const buttonEl =\n",
              "          document.querySelector('#df-6eb3000f-4fa8-483c-b538-c49b56c66da7 button.colab-df-convert');\n",
              "        buttonEl.style.display =\n",
              "          google.colab.kernel.accessAllowed ? 'block' : 'none';\n",
              "\n",
              "        async function convertToInteractive(key) {\n",
              "          const element = document.querySelector('#df-6eb3000f-4fa8-483c-b538-c49b56c66da7');\n",
              "          const dataTable =\n",
              "            await google.colab.kernel.invokeFunction('convertToInteractive',\n",
              "                                                     [key], {});\n",
              "          if (!dataTable) return;\n",
              "\n",
              "          const docLinkHtml = 'Like what you see? Visit the ' +\n",
              "            '<a target=\"_blank\" href=https://colab.research.google.com/notebooks/data_table.ipynb>data table notebook</a>'\n",
              "            + ' to learn more about interactive tables.';\n",
              "          element.innerHTML = '';\n",
              "          dataTable['output_type'] = 'display_data';\n",
              "          await google.colab.output.renderOutput(dataTable, element);\n",
              "          const docLink = document.createElement('div');\n",
              "          docLink.innerHTML = docLinkHtml;\n",
              "          element.appendChild(docLink);\n",
              "        }\n",
              "      </script>\n",
              "    </div>\n",
              "  </div>\n",
              "  "
            ]
          },
          "metadata": {},
          "execution_count": 10
        }
      ]
    },
    {
      "cell_type": "markdown",
      "source": [
        "Let's see how many sentences there are on average in each document."
      ],
      "metadata": {
        "id": "Vd5NcIzoYsmT"
      }
    },
    {
      "cell_type": "code",
      "source": [
        "mean_sentences = train_df[['doc_id', 'sentence']].groupby(['doc_id']).count().mean()\n",
        "\n",
        "print(f'There are about {int(mean_sentences)} sentences in a document.')"
      ],
      "metadata": {
        "colab": {
          "base_uri": "https://localhost:8080/"
        },
        "id": "1wgeix76Y_HW",
        "outputId": "6c651087-24d2-4c31-9d71-66d5443fdeab"
      },
      "execution_count": null,
      "outputs": [
        {
          "output_type": "stream",
          "name": "stdout",
          "text": [
            "There are about 115 sentences in a document.\n"
          ]
        }
      ]
    },
    {
      "cell_type": "markdown",
      "metadata": {
        "id": "BtsEUoQFani2"
      },
      "source": [
        "Let's take a closer look at the distribution of the classes"
      ]
    },
    {
      "cell_type": "code",
      "execution_count": null,
      "metadata": {
        "id": "P6w7qWtoOwAC",
        "colab": {
          "base_uri": "https://localhost:8080/"
        },
        "outputId": "f338d780-5be2-472c-b642-abd8377897d2"
      },
      "outputs": [
        {
          "output_type": "stream",
          "name": "stdout",
          "text": [
            "There are 13 labels in the dataset.\n"
          ]
        }
      ],
      "source": [
        "labels = train_df['label'].unique().tolist()\n",
        "n_classes = len(labels)\n",
        "\n",
        "print(f\"There are {n_classes} labels in the dataset.\")"
      ]
    },
    {
      "cell_type": "code",
      "execution_count": null,
      "outputs": [
        {
          "output_type": "display_data",
          "data": {
            "text/plain": [
              "<Figure size 1584x360 with 1 Axes>"
            ],
            "image/png": "[encoded data removed]"
          },
          "metadata": {
            "needs_background": "light"
          }
        }
      ],
      "source": [
        "labels_frequency(train_df)"
      ],
      "metadata": {
        "colab": {
          "base_uri": "https://localhost:8080/",
          "height": 321
        },
        "id": "66oF2FlOA3vo",
        "outputId": "5bc60d81-b64e-4637-c065-2444a94176f2"
      }
    },
    {
      "cell_type": "code",
      "source": [
        "labels_frequency(test_df)"
      ],
      "metadata": {
        "colab": {
          "base_uri": "https://localhost:8080/",
          "height": 321
        },
        "id": "S6O2r8zy04Ox",
        "outputId": "1df03ec0-f123-4a42-bca9-8b259468f832"
      },
      "execution_count": null,
      "outputs": [
        {
          "output_type": "display_data",
          "data": {
            "text/plain": [
              "<Figure size 1584x360 with 1 Axes>"
            ],
            "image/png": "[encoded data removed]"
          },
          "metadata": {
            "needs_background": "light"
          }
        }
      ]
    },
    {
      "cell_type": "markdown",
      "source": [
        "Let's now look at the mean length in words of the sentences of each class."
      ],
      "metadata": {
        "id": "rc7BJkZA4DYn"
      }
    },
    {
      "cell_type": "code",
      "source": [
        "train_df['len_sentence'] = train_df['sentence'].apply(lambda x: len(re.findall(r'\\b\\S+\\b', x)))\n",
        "train_df.groupby(['label']).mean(['len_sentence'])"
      ],
      "metadata": {
        "id": "uYVY3Y12078q",
        "colab": {
          "base_uri": "https://localhost:8080/",
          "height": 488
        },
        "outputId": "9dc92729-375b-4e1c-e89e-613ec2c4e706"
      },
      "execution_count": null,
      "outputs": [
        {
          "output_type": "execute_result",
          "data": {
            "text/plain": [
              "                     doc_id  len_sentence\n",
              "label                                    \n",
              "ANALYSIS        3349.340937     29.235719\n",
              "ARG_PETITIONER  3484.182186     33.051012\n",
              "ARG_RESPONDENT  3240.173723     32.525547\n",
              "FAC             3267.932721     25.904114\n",
              "ISSUE           3482.766484     36.271978\n",
              "NONE            3784.358531     12.338373\n",
              "PREAMBLE        3670.658401     18.800607\n",
              "PRE_NOT_RELIED  3420.256410     38.596154\n",
              "PRE_RELIED      3320.390171     37.549516\n",
              "RATIO           3419.960961     32.466967\n",
              "RLC             3684.682561     33.004087\n",
              "RPC             3701.867675     20.256144\n",
              "STA             3278.902128     56.785106"
            ],
            "text/html": [
              "\n",
              "  <div id=\"df-4bc03597-589e-4ed3-a04d-407bde6af0ae\">\n",
              "    <div class=\"colab-df-container\">\n",
              "      <div>\n",
              "<style scoped>\n",
              "    .dataframe tbody tr th:only-of-type {\n",
              "        vertical-align: middle;\n",
              "    }\n",
              "\n",
              "    .dataframe tbody tr th {\n",
              "        vertical-align: top;\n",
              "    }\n",
              "\n",
              "    .dataframe thead th {\n",
              "        text-align: right;\n",
              "    }\n",
              "</style>\n",
              "<table border=\"1\" class=\"dataframe\">\n",
              "  <thead>\n",
              "    <tr style=\"text-align: right;\">\n",
              "      <th></th>\n",
              "      <th>doc_id</th>\n",
              "      <th>len_sentence</th>\n",
              "    </tr>\n",
              "    <tr>\n",
              "      <th>label</th>\n",
              "      <th></th>\n",
              "      <th></th>\n",
              "    </tr>\n",
              "  </thead>\n",
              "  <tbody>\n",
              "    <tr>\n",
              "      <th>ANALYSIS</th>\n",
              "      <td>3349.340937</td>\n",
              "      <td>29.235719</td>\n",
              "    </tr>\n",
              "    <tr>\n",
              "      <th>ARG_PETITIONER</th>\n",
              "      <td>3484.182186</td>\n",
              "      <td>33.051012</td>\n",
              "    </tr>\n",
              "    <tr>\n",
              "      <th>ARG_RESPONDENT</th>\n",
              "      <td>3240.173723</td>\n",
              "      <td>32.525547</td>\n",
              "    </tr>\n",
              "    <tr>\n",
              "      <th>FAC</th>\n",
              "      <td>3267.932721</td>\n",
              "      <td>25.904114</td>\n",
              "    </tr>\n",
              "    <tr>\n",
              "      <th>ISSUE</th>\n",
              "      <td>3482.766484</td>\n",
              "      <td>36.271978</td>\n",
              "    </tr>\n",
              "    <tr>\n",
              "      <th>NONE</th>\n",
              "      <td>3784.358531</td>\n",
              "      <td>12.338373</td>\n",
              "    </tr>\n",
              "    <tr>\n",
              "      <th>PREAMBLE</th>\n",
              "      <td>3670.658401</td>\n",
              "      <td>18.800607</td>\n",
              "    </tr>\n",
              "    <tr>\n",
              "      <th>PRE_NOT_RELIED</th>\n",
              "      <td>3420.256410</td>\n",
              "      <td>38.596154</td>\n",
              "    </tr>\n",
              "    <tr>\n",
              "      <th>PRE_RELIED</th>\n",
              "      <td>3320.390171</td>\n",
              "      <td>37.549516</td>\n",
              "    </tr>\n",
              "    <tr>\n",
              "      <th>RATIO</th>\n",
              "      <td>3419.960961</td>\n",
              "      <td>32.466967</td>\n",
              "    </tr>\n",
              "    <tr>\n",
              "      <th>RLC</th>\n",
              "      <td>3684.682561</td>\n",
              "      <td>33.004087</td>\n",
              "    </tr>\n",
              "    <tr>\n",
              "      <th>RPC</th>\n",
              "      <td>3701.867675</td>\n",
              "      <td>20.256144</td>\n",
              "    </tr>\n",
              "    <tr>\n",
              "      <th>STA</th>\n",
              "      <td>3278.902128</td>\n",
              "      <td>56.785106</td>\n",
              "    </tr>\n",
              "  </tbody>\n",
              "</table>\n",
              "</div>\n",
              "      <button class=\"colab-df-convert\" onclick=\"convertToInteractive('df-4bc03597-589e-4ed3-a04d-407bde6af0ae')\"\n",
              "              title=\"Convert this dataframe to an interactive table.\"\n",
              "              style=\"display:none;\">\n",
              "        \n",
              "  <svg xmlns=\"http://www.w3.org/2000/svg\" height=\"24px\"viewBox=\"0 0 24 24\"\n",
              "       width=\"24px\">\n",
              "    <path d=\"M0 0h24v24H0V0z\" fill=\"none\"/>\n",
              "    <path d=\"M18.56 5.44l.94 2.06.94-2.06 2.06-.94-2.06-.94-.94-2.06-.94 2.06-2.06.94zm-11 1L8.5 8.5l.94-2.06 2.06-.94-2.06-.94L8.5 2.5l-.94 2.06-2.06.94zm10 10l.94 2.06.94-2.06 2.06-.94-2.06-.94-.94-2.06-.94 2.06-2.06.94z\"/><path d=\"M17.41 7.96l-1.37-1.37c-.4-.4-.92-.59-1.43-.59-.52 0-1.04.2-1.43.59L10.3 9.45l-7.72 7.72c-.78.78-.78 2.05 0 2.83L4 21.41c.39.39.9.59 1.41.59.51 0 1.02-.2 1.41-.59l7.78-7.78 2.81-2.81c.8-.78.8-2.07 0-2.86zM5.41 20L4 18.59l7.72-7.72 1.47 1.35L5.41 20z\"/>\n",
              "  </svg>\n",
              "      </button>\n",
              "      \n",
              "  <style>\n",
              "    .colab-df-container {\n",
              "      display:flex;\n",
              "      flex-wrap:wrap;\n",
              "      gap: 12px;\n",
              "    }\n",
              "\n",
              "    .colab-df-convert {\n",
              "      background-color: #E8F0FE;\n",
              "      border: none;\n",
              "      border-radius: 50%;\n",
              "      cursor: pointer;\n",
              "      display: none;\n",
              "      fill: #1967D2;\n",
              "      height: 32px;\n",
              "      padding: 0 0 0 0;\n",
              "      width: 32px;\n",
              "    }\n",
              "\n",
              "    .colab-df-convert:hover {\n",
              "      background-color: #E2EBFA;\n",
              "      box-shadow: 0px 1px 2px rgba(60, 64, 67, 0.3), 0px 1px 3px 1px rgba(60, 64, 67, 0.15);\n",
              "      fill: #174EA6;\n",
              "    }\n",
              "\n",
              "    [theme=dark] .colab-df-convert {\n",
              "      background-color: #3B4455;\n",
              "      fill: #D2E3FC;\n",
              "    }\n",
              "\n",
              "    [theme=dark] .colab-df-convert:hover {\n",
              "      background-color: #434B5C;\n",
              "      box-shadow: 0px 1px 3px 1px rgba(0, 0, 0, 0.15);\n",
              "      filter: drop-shadow(0px 1px 2px rgba(0, 0, 0, 0.3));\n",
              "      fill: #FFFFFF;\n",
              "    }\n",
              "  </style>\n",
              "\n",
              "      <script>\n",
              "        const buttonEl =\n",
              "          document.querySelector('#df-4bc03597-589e-4ed3-a04d-407bde6af0ae button.colab-df-convert');\n",
              "        buttonEl.style.display =\n",
              "          google.colab.kernel.accessAllowed ? 'block' : 'none';\n",
              "\n",
              "        async function convertToInteractive(key) {\n",
              "          const element = document.querySelector('#df-4bc03597-589e-4ed3-a04d-407bde6af0ae');\n",
              "          const dataTable =\n",
              "            await google.colab.kernel.invokeFunction('convertToInteractive',\n",
              "                                                     [key], {});\n",
              "          if (!dataTable) return;\n",
              "\n",
              "          const docLinkHtml = 'Like what you see? Visit the ' +\n",
              "            '<a target=\"_blank\" href=https://colab.research.google.com/notebooks/data_table.ipynb>data table notebook</a>'\n",
              "            + ' to learn more about interactive tables.';\n",
              "          element.innerHTML = '';\n",
              "          dataTable['output_type'] = 'display_data';\n",
              "          await google.colab.output.renderOutput(dataTable, element);\n",
              "          const docLink = document.createElement('div');\n",
              "          docLink.innerHTML = docLinkHtml;\n",
              "          element.appendChild(docLink);\n",
              "        }\n",
              "      </script>\n",
              "    </div>\n",
              "  </div>\n",
              "  "
            ]
          },
          "metadata": {},
          "execution_count": 15
        }
      ]
    },
    {
      "cell_type": "markdown",
      "source": [
        "As one can see there are some classes that are characterized by longer sentences like Statute (STA) and Precedent Not Relied (PRE_NOT_RELIED)."
      ],
      "metadata": {
        "id": "2uyJiMIG4Vp-"
      }
    },
    {
      "cell_type": "markdown",
      "source": [
        "When creating the context we included also the center sentence. This means that if a sentence has more than 256 words, the context will be missing.\n",
        "\n",
        "Let's take a look at the examples that have no context."
      ],
      "metadata": {
        "id": "RxfrYkgWej-0"
      }
    },
    {
      "cell_type": "code",
      "source": [
        "train_df[train_df['context'] == \"\"]"
      ],
      "metadata": {
        "colab": {
          "base_uri": "https://localhost:8080/",
          "height": 394
        },
        "id": "rIZIsBliekSj",
        "outputId": "5fb324cb-e0c3-49a8-a65d-f7e6fa49335c"
      },
      "execution_count": null,
      "outputs": [
        {
          "output_type": "execute_result",
          "data": {
            "text/plain": [
              "       doc_id                                               text context  \\\n",
              "2474     4236  IN THE COURT OF THE IV ADDL DISTRICT AND\\n    ...           \n",
              "2887     4157                                 Non-Reportable\\...           \n",
              "3483     4173  PETITIONER:\\nSALES TAX OFFICER, SPECIAL CIRCLE...           \n",
              "4823     1729                                                ...           \n",
              "9757     1777                                                ...           \n",
              "16785    1754  $~23 & 24 (common order)\\n     IN THE HIGH COU...           \n",
              "19260    4265  PETITIONER:\\nCOMMISSIONER OF INCOME-TAX, NEW D...           \n",
              "19261    4265  PETITIONER:\\nCOMMISSIONER OF INCOME-TAX, NEW D...           \n",
              "24102    1743  PETITIONER:\\nSTATE OF TAMIL NADU\\n\\n    Vs.\\n\\...           \n",
              "26133    4194  $~\\n*       IN THE HIGH COURT OF DELHI AT NEW ...           \n",
              "28660    4185  PETITIONER:\\nPANDIT BANARSI DAS BHANOT\\n\\nVs.\\...           \n",
              "\n",
              "                                                sentence     label  \\\n",
              "2474   Ex.P.  1  Complaint Ex.P.\\nEx.P.  1(a) Signatu...      NONE   \n",
              "2887   \\n Charges 5 & 6 are as follows: \"\\n     Fifth...  ANALYSIS   \n",
              "3483   Subsection (3) of section 20-A of the Bihar Sa...  ANALYSIS   \n",
              "4823   The Public Prosecutor or Assistant Public Pros...       STA   \n",
              "9757   Death sentence must be imposed only when life ...  ANALYSIS   \n",
              "16785  \\n 11.     The prosecution led evidence by exa...       FAC   \n",
              "19260  These read thus: S. 16(2)-For the purposes of ...       STA   \n",
              "19261  \\nIf the Central Government considers it neces...       STA   \n",
              "24102  Sub-section (1) of section 10A which is materi...       STA   \n",
              "26133  \\n 6. Para 4 of the Memorandum of the Assessee...       FAC   \n",
              "28660  , the Government\\nissued a notification on Sep...  PREAMBLE   \n",
              "\n",
              "       len_sentence  \n",
              "2474            258  \n",
              "2887            278  \n",
              "3483            259  \n",
              "4823            267  \n",
              "9757            306  \n",
              "16785           335  \n",
              "19260           370  \n",
              "19261           331  \n",
              "24102           258  \n",
              "26133           268  \n",
              "28660           256  "
            ],
            "text/html": [
              "\n",
              "  <div id=\"df-b7d37b3a-18bf-4137-b86e-1e93ebf05a96\">\n",
              "    <div class=\"colab-df-container\">\n",
              "      <div>\n",
              "<style scoped>\n",
              "    .dataframe tbody tr th:only-of-type {\n",
              "        vertical-align: middle;\n",
              "    }\n",
              "\n",
              "    .dataframe tbody tr th {\n",
              "        vertical-align: top;\n",
              "    }\n",
              "\n",
              "    .dataframe thead th {\n",
              "        text-align: right;\n",
              "    }\n",
              "</style>\n",
              "<table border=\"1\" class=\"dataframe\">\n",
              "  <thead>\n",
              "    <tr style=\"text-align: right;\">\n",
              "      <th></th>\n",
              "      <th>doc_id</th>\n",
              "      <th>text</th>\n",
              "      <th>context</th>\n",
              "      <th>sentence</th>\n",
              "      <th>label</th>\n",
              "      <th>len_sentence</th>\n",
              "    </tr>\n",
              "  </thead>\n",
              "  <tbody>\n",
              "    <tr>\n",
              "      <th>2474</th>\n",
              "      <td>4236</td>\n",
              "      <td>IN THE COURT OF THE IV ADDL DISTRICT AND\\n    ...</td>\n",
              "      <td></td>\n",
              "      <td>Ex.P.  1  Complaint Ex.P.\\nEx.P.  1(a) Signatu...</td>\n",
              "      <td>NONE</td>\n",
              "      <td>258</td>\n",
              "    </tr>\n",
              "    <tr>\n",
              "      <th>2887</th>\n",
              "      <td>4157</td>\n",
              "      <td>Non-Reportable\\...</td>\n",
              "      <td></td>\n",
              "      <td>\\n Charges 5 &amp; 6 are as follows: \"\\n     Fifth...</td>\n",
              "      <td>ANALYSIS</td>\n",
              "      <td>278</td>\n",
              "    </tr>\n",
              "    <tr>\n",
              "      <th>3483</th>\n",
              "      <td>4173</td>\n",
              "      <td>PETITIONER:\\nSALES TAX OFFICER, SPECIAL CIRCLE...</td>\n",
              "      <td></td>\n",
              "      <td>Subsection (3) of section 20-A of the Bihar Sa...</td>\n",
              "      <td>ANALYSIS</td>\n",
              "      <td>259</td>\n",
              "    </tr>\n",
              "    <tr>\n",
              "      <th>4823</th>\n",
              "      <td>1729</td>\n",
              "      <td>...</td>\n",
              "      <td></td>\n",
              "      <td>The Public Prosecutor or Assistant Public Pros...</td>\n",
              "      <td>STA</td>\n",
              "      <td>267</td>\n",
              "    </tr>\n",
              "    <tr>\n",
              "      <th>9757</th>\n",
              "      <td>1777</td>\n",
              "      <td>...</td>\n",
              "      <td></td>\n",
              "      <td>Death sentence must be imposed only when life ...</td>\n",
              "      <td>ANALYSIS</td>\n",
              "      <td>306</td>\n",
              "    </tr>\n",
              "    <tr>\n",
              "      <th>16785</th>\n",
              "      <td>1754</td>\n",
              "      <td>$~23 &amp; 24 (common order)\\n     IN THE HIGH COU...</td>\n",
              "      <td></td>\n",
              "      <td>\\n 11.     The prosecution led evidence by exa...</td>\n",
              "      <td>FAC</td>\n",
              "      <td>335</td>\n",
              "    </tr>\n",
              "    <tr>\n",
              "      <th>19260</th>\n",
              "      <td>4265</td>\n",
              "      <td>PETITIONER:\\nCOMMISSIONER OF INCOME-TAX, NEW D...</td>\n",
              "      <td></td>\n",
              "      <td>These read thus: S. 16(2)-For the purposes of ...</td>\n",
              "      <td>STA</td>\n",
              "      <td>370</td>\n",
              "    </tr>\n",
              "    <tr>\n",
              "      <th>19261</th>\n",
              "      <td>4265</td>\n",
              "      <td>PETITIONER:\\nCOMMISSIONER OF INCOME-TAX, NEW D...</td>\n",
              "      <td></td>\n",
              "      <td>\\nIf the Central Government considers it neces...</td>\n",
              "      <td>STA</td>\n",
              "      <td>331</td>\n",
              "    </tr>\n",
              "    <tr>\n",
              "      <th>24102</th>\n",
              "      <td>1743</td>\n",
              "      <td>PETITIONER:\\nSTATE OF TAMIL NADU\\n\\n    Vs.\\n\\...</td>\n",
              "      <td></td>\n",
              "      <td>Sub-section (1) of section 10A which is materi...</td>\n",
              "      <td>STA</td>\n",
              "      <td>258</td>\n",
              "    </tr>\n",
              "    <tr>\n",
              "      <th>26133</th>\n",
              "      <td>4194</td>\n",
              "      <td>$~\\n*       IN THE HIGH COURT OF DELHI AT NEW ...</td>\n",
              "      <td></td>\n",
              "      <td>\\n 6. Para 4 of the Memorandum of the Assessee...</td>\n",
              "      <td>FAC</td>\n",
              "      <td>268</td>\n",
              "    </tr>\n",
              "    <tr>\n",
              "      <th>28660</th>\n",
              "      <td>4185</td>\n",
              "      <td>PETITIONER:\\nPANDIT BANARSI DAS BHANOT\\n\\nVs.\\...</td>\n",
              "      <td></td>\n",
              "      <td>, the Government\\nissued a notification on Sep...</td>\n",
              "      <td>PREAMBLE</td>\n",
              "      <td>256</td>\n",
              "    </tr>\n",
              "  </tbody>\n",
              "</table>\n",
              "</div>\n",
              "      <button class=\"colab-df-convert\" onclick=\"convertToInteractive('df-b7d37b3a-18bf-4137-b86e-1e93ebf05a96')\"\n",
              "              title=\"Convert this dataframe to an interactive table.\"\n",
              "              style=\"display:none;\">\n",
              "        \n",
              "  <svg xmlns=\"http://www.w3.org/2000/svg\" height=\"24px\"viewBox=\"0 0 24 24\"\n",
              "       width=\"24px\">\n",
              "    <path d=\"M0 0h24v24H0V0z\" fill=\"none\"/>\n",
              "    <path d=\"M18.56 5.44l.94 2.06.94-2.06 2.06-.94-2.06-.94-.94-2.06-.94 2.06-2.06.94zm-11 1L8.5 8.5l.94-2.06 2.06-.94-2.06-.94L8.5 2.5l-.94 2.06-2.06.94zm10 10l.94 2.06.94-2.06 2.06-.94-2.06-.94-.94-2.06-.94 2.06-2.06.94z\"/><path d=\"M17.41 7.96l-1.37-1.37c-.4-.4-.92-.59-1.43-.59-.52 0-1.04.2-1.43.59L10.3 9.45l-7.72 7.72c-.78.78-.78 2.05 0 2.83L4 21.41c.39.39.9.59 1.41.59.51 0 1.02-.2 1.41-.59l7.78-7.78 2.81-2.81c.8-.78.8-2.07 0-2.86zM5.41 20L4 18.59l7.72-7.72 1.47 1.35L5.41 20z\"/>\n",
              "  </svg>\n",
              "      </button>\n",
              "      \n",
              "  <style>\n",
              "    .colab-df-container {\n",
              "      display:flex;\n",
              "      flex-wrap:wrap;\n",
              "      gap: 12px;\n",
              "    }\n",
              "\n",
              "    .colab-df-convert {\n",
              "      background-color: #E8F0FE;\n",
              "      border: none;\n",
              "      border-radius: 50%;\n",
              "      cursor: pointer;\n",
              "      display: none;\n",
              "      fill: #1967D2;\n",
              "      height: 32px;\n",
              "      padding: 0 0 0 0;\n",
              "      width: 32px;\n",
              "    }\n",
              "\n",
              "    .colab-df-convert:hover {\n",
              "      background-color: #E2EBFA;\n",
              "      box-shadow: 0px 1px 2px rgba(60, 64, 67, 0.3), 0px 1px 3px 1px rgba(60, 64, 67, 0.15);\n",
              "      fill: #174EA6;\n",
              "    }\n",
              "\n",
              "    [theme=dark] .colab-df-convert {\n",
              "      background-color: #3B4455;\n",
              "      fill: #D2E3FC;\n",
              "    }\n",
              "\n",
              "    [theme=dark] .colab-df-convert:hover {\n",
              "      background-color: #434B5C;\n",
              "      box-shadow: 0px 1px 3px 1px rgba(0, 0, 0, 0.15);\n",
              "      filter: drop-shadow(0px 1px 2px rgba(0, 0, 0, 0.3));\n",
              "      fill: #FFFFFF;\n",
              "    }\n",
              "  </style>\n",
              "\n",
              "      <script>\n",
              "        const buttonEl =\n",
              "          document.querySelector('#df-b7d37b3a-18bf-4137-b86e-1e93ebf05a96 button.colab-df-convert');\n",
              "        buttonEl.style.display =\n",
              "          google.colab.kernel.accessAllowed ? 'block' : 'none';\n",
              "\n",
              "        async function convertToInteractive(key) {\n",
              "          const element = document.querySelector('#df-b7d37b3a-18bf-4137-b86e-1e93ebf05a96');\n",
              "          const dataTable =\n",
              "            await google.colab.kernel.invokeFunction('convertToInteractive',\n",
              "                                                     [key], {});\n",
              "          if (!dataTable) return;\n",
              "\n",
              "          const docLinkHtml = 'Like what you see? Visit the ' +\n",
              "            '<a target=\"_blank\" href=https://colab.research.google.com/notebooks/data_table.ipynb>data table notebook</a>'\n",
              "            + ' to learn more about interactive tables.';\n",
              "          element.innerHTML = '';\n",
              "          dataTable['output_type'] = 'display_data';\n",
              "          await google.colab.output.renderOutput(dataTable, element);\n",
              "          const docLink = document.createElement('div');\n",
              "          docLink.innerHTML = docLinkHtml;\n",
              "          element.appendChild(docLink);\n",
              "        }\n",
              "      </script>\n",
              "    </div>\n",
              "  </div>\n",
              "  "
            ]
          },
          "metadata": {},
          "execution_count": 16
        }
      ]
    },
    {
      "cell_type": "code",
      "source": [
        "print(\"Number of sentence without context: \", len(train_df[train_df['context'] == \"\"]))"
      ],
      "metadata": {
        "colab": {
          "base_uri": "https://localhost:8080/"
        },
        "id": "PEFXr9Azj6wD",
        "outputId": "a295e33c-ec0f-42d2-b959-d02c5299bc1d"
      },
      "execution_count": null,
      "outputs": [
        {
          "output_type": "stream",
          "name": "stdout",
          "text": [
            "Number of sentence without context:  11\n"
          ]
        }
      ]
    },
    {
      "cell_type": "markdown",
      "source": [
        "## Train val split\n"
      ],
      "metadata": {
        "id": "wHiABz1Fv5e-"
      }
    },
    {
      "cell_type": "markdown",
      "source": [
        "The authors of the challenge provided two annotated dataset:\n",
        "- a training set\n",
        "- a development set\n",
        "\n",
        "A non annotated test set was also provided in order to compute the metrics for the leaderboard.\n",
        "\n",
        "While testing our solutions we splitted the train set into train and validation (90:10) and used the development set to evaluate the generalization of our model on unseen data."
      ],
      "metadata": {
        "id": "HMge9Um9OYQZ"
      }
    },
    {
      "cell_type": "code",
      "execution_count": null,
      "metadata": {
        "id": "dhL9RSImLptD"
      },
      "outputs": [],
      "source": [
        "splitter = GroupShuffleSplit(test_size=.1, n_splits=1)  # 90% train, 10% val\n",
        "split = splitter.split(train_df, groups=train_df['text'])\n",
        "train_inds, test_inds = next(split)\n",
        "\n",
        "train_set_df = train_df.iloc[train_inds]\n",
        "val_set_df = train_df.iloc[test_inds]"
      ]
    },
    {
      "cell_type": "markdown",
      "source": [
        "## Preprocessing functions"
      ],
      "metadata": {
        "id": "36CYTNw7fsGI"
      }
    },
    {
      "cell_type": "markdown",
      "source": [
        "In this section we define all the functions that are needed in order to transform the raw text in the dataframe into batch of token sequences to be processed by the models. In particular:\n",
        "- a function that tokenizes a batch of samples with a given tokenizer\n",
        "- a function that transforms the training set and the validation set from the DataFrame format to the HuggingFace Dataset format"
      ],
      "metadata": {
        "id": "7Olu_HQgbwp5"
      }
    },
    {
      "cell_type": "code",
      "execution_count": null,
      "metadata": {
        "id": "pkF94lfCOfO1"
      },
      "outputs": [],
      "source": [
        "# Maps the labels to id and viceversa\n",
        "id2label = {i: x for i, x in enumerate(labels)}\n",
        "label2id = {i: x for x, i in enumerate(labels)}\n",
        "\n",
        "labels_true = test_df['label'].apply(lambda x: label2id[x]).to_list()\n",
        "\n",
        "# Max sentence length for the single sentence baseline models\n",
        "max_sentence_length = int(np.quantile([len(seq.split(' ')) for seq in train_df['sentence']], 0.99))"
      ]
    },
    {
      "cell_type": "code",
      "execution_count": null,
      "metadata": {
        "id": "DUZJpPkFJOSJ"
      },
      "outputs": [],
      "source": [
        "def preprocess_function(batch,\n",
        "                        tokenizer: AutoTokenizer,\n",
        "                        context: bool) -> BatchEncoding:\n",
        "    \"\"\"\n",
        "      Preprocesses a batch of samples to get the tokenized input to give to the transformer\n",
        "\n",
        "      Params:\n",
        "        batch: batch of samples\n",
        "        tokenizer: tokenizer used for the tokenization of the input\n",
        "\n",
        "      Returns:\n",
        "        inputs: a BatchEncoding instance to give as input to the transformer\n",
        "    \"\"\"\n",
        "\n",
        "    if context:\n",
        "        inputs = tokenizer(batch['sentence'],\n",
        "                           batch['context'],\n",
        "                           padding=\"max_length\",\n",
        "                           truncation=True,  # truncate the longest\n",
        "                           max_length=MAX_SEQUENCE_LENGTH)\n",
        "    else:\n",
        "        inputs = tokenizer(batch['sentence'],\n",
        "                           padding=\"max_length\",\n",
        "                           truncation=True,  # truncate the longest\n",
        "                           max_length=max_sentence_length)\n",
        "\n",
        "    return inputs"
      ]
    },
    {
      "cell_type": "code",
      "execution_count": null,
      "metadata": {
        "id": "_KDcF5nvJ6aS"
      },
      "outputs": [],
      "source": [
        "def get_processed_datasets(train_set_df: pd.DataFrame,\n",
        "                           val_set_df: pd.DataFrame,\n",
        "                           tokenizer: AutoTokenizer,\n",
        "                           context: bool) -> (Dataset, Dataset):\n",
        "    \"\"\"\n",
        "      Preprocesses the dataset given as input with the tokenizer and it converts them in Dataset format\n",
        "\n",
        "      Params:\n",
        "        train_set_df: train-set in DataFrame format\n",
        "        val_set_df: validation-set in DataFrame format\n",
        "\n",
        "      Returns:\n",
        "        the train data and the validation data in Dataset format with the input format useful for the transformer\n",
        "    \"\"\"\n",
        "\n",
        "    # avoid possible confilct with other training\n",
        "    train_set = train_set_df.copy()\n",
        "    val_set = val_set_df.copy()\n",
        "\n",
        "    print(\"Processing training data\")\n",
        "\n",
        "    # remap labels to ids\n",
        "    train_set['label'] = train_set_df['label'].apply(lambda x: label2id[x])\n",
        "    train_set_ds = Dataset.from_pandas(train_set)\n",
        "\n",
        "    train_data = train_set_ds.map(\n",
        "        preprocess_function,\n",
        "        fn_kwargs={'tokenizer': tokenizer, 'context': context},\n",
        "        batched=True,\n",
        "        remove_columns=[col for col in train_set_ds.column_names if col != 'label']\n",
        "    )\n",
        "\n",
        "    print(\"Processing validation data\")\n",
        "\n",
        "    # remap labels to ids\n",
        "    val_set['label'] = val_set_df['label'].apply(lambda x: label2id[x])\n",
        "    val_set_ds = Dataset.from_pandas(val_set)\n",
        "\n",
        "    val_data = val_set_ds.map(\n",
        "        preprocess_function,\n",
        "        fn_kwargs={'tokenizer': tokenizer, 'context': context},\n",
        "        batched=True,\n",
        "        remove_columns=[col for col in val_set_ds.column_names if col != 'label']\n",
        "    )\n",
        "\n",
        "    return train_data, val_data"
      ]
    },
    {
      "cell_type": "markdown",
      "source": [
        "## Models Definition\n"
      ],
      "metadata": {
        "id": "nnTOVoDIfXly"
      }
    },
    {
      "cell_type": "markdown",
      "source": [
        "In this section we define all the models on which we will perform our experiments, together with a function to retrieve a model and its respective tokenizer through the HuggingFace API."
      ],
      "metadata": {
        "id": "TpIc3dtwbzrv"
      }
    },
    {
      "cell_type": "code",
      "source": [
        "model_name_M0 = 'bert-base-uncased'\n",
        "model_name_M1 = 'roberta-base'\n",
        "model_name_M2 = 'saibo/legal-roberta-base'\n",
        "model_name_M3 = 'law-ai/InLegalBERT'\n",
        "\n",
        "baseline_1 = 'single_sentence_bert'\n",
        "baseline_2 = 'single_sentence_roberta'\n",
        "model_0 = 'single_sentence_inlegalbert_bilstm'\n",
        "model_1 = 'context_aware_legal_roberta'\n",
        "model_2 = 'context_aware_inlegalbert'"
      ],
      "metadata": {
        "id": "gPgalndnfEA_"
      },
      "execution_count": null,
      "outputs": []
    },
    {
      "cell_type": "code",
      "execution_count": null,
      "metadata": {
        "id": "nUKUWy0AIpC6"
      },
      "outputs": [],
      "source": [
        "def get_model_tok(bert_name: str,\n",
        "                  num_labels: int,\n",
        "                  context: bool,\n",
        "                  model_path: str = None,\n",
        "                  is_custom: bool = False,\n",
        "                  ) -> (AutoModelForSequenceClassification, AutoTokenizer):\n",
        "    \"\"\"\n",
        "    Returns the model and the tokenizer loaded from huggingface, if no model_path\n",
        "    is provided, otherwise it load the model from the given directory.\n",
        "\n",
        "    Params:\n",
        "      bert_name: model name from huggingface\n",
        "      num_labels: number of classes\n",
        "      model_path: [optional] path of the saved model\n",
        "\n",
        "    Returns:\n",
        "      the transformer model and its corresponding tokenizer\n",
        "    \"\"\"\n",
        "\n",
        "    if model_path is None:\n",
        "        model_path = bert_name\n",
        "\n",
        "    tokenizer = AutoTokenizer.from_pretrained(bert_name,\n",
        "                                              use_cache=False)\n",
        "\n",
        "    print(\"Downloading :\", bert_name)\n",
        "    if is_custom:\n",
        "        model = BertSequenceClassifier(bert_name=model_path,\n",
        "                                       num_classes=n_classes,\n",
        "                                       id2label = id2label,\n",
        "                                       label2id = label2id)\n",
        "        model.bert.config.eos_token_id = tokenizer.eos_token_id\n",
        "        model.bert.config.pad_token_id = tokenizer.pad_token_id\n",
        "        model.bert.config.cls_token_id = tokenizer.cls_token_id\n",
        "        model.bert.config.max_new_tokens = model.bert.config.max_length = MAX_SEQUENCE_LENGTH\n",
        "\n",
        "    else:\n",
        "        model = AutoModelForSequenceClassification.from_pretrained(model_path,\n",
        "                                                                   num_labels=num_labels,\n",
        "                                                                   id2label=id2label,\n",
        "                                                                   label2id=label2id,\n",
        "                                                                   use_cache=False)\n",
        "        model.config.eos_token_id = tokenizer.eos_token_id\n",
        "        model.config.pad_token_id = tokenizer.pad_token_id\n",
        "        model.config.cls_token_id = tokenizer.cls_token_id\n",
        "        model.config.max_new_tokens = model.config.max_length = MAX_SEQUENCE_LENGTH if context else max_sentence_length\n",
        "\n",
        "    return model, tokenizer"
      ]
    },
    {
      "cell_type": "markdown",
      "metadata": {
        "id": "Yj0NqOQGjpBN"
      },
      "source": [
        "## Training & Evaluation functions"
      ]
    },
    {
      "cell_type": "markdown",
      "source": [
        "In this section we define two functions to execute either the training or the evaluation pipeline.\n",
        "\n",
        "In both pipelines we use the HuggingFace Trainer object to perform both the training and the inference. The Trainer needs to be configured with some TrainingArguments which are defined in the training pipeline before its instantiation.\n",
        "\n",
        "Default hyperparameters:\n",
        "- Number of epochs: 3\n",
        "- Batch Size: 16\n",
        "- Learning rate: 2e-5\n",
        "- Optimizer: AdamW\n",
        "- Scheduler: linear\n",
        "- Weight decay: 0.01\n",
        "- Label smoothing: 0.02\n",
        "- Precision: 16-bit"
      ],
      "metadata": {
        "id": "Mdj4WzOEhEuO"
      }
    },
    {
      "cell_type": "code",
      "execution_count": null,
      "metadata": {
        "id": "Q8JohWMuIR01"
      },
      "outputs": [],
      "source": [
        "def exec_train_pipeline(model_name: str,\n",
        "                        output_dir: str,\n",
        "                        num_labels: int,\n",
        "                        batch_size: int = 16,\n",
        "                        n_epochs: int = 3,\n",
        "                        context: bool = True,\n",
        "                        is_custom: bool = False,\n",
        "                        model_trained: bool = False,\n",
        "                        num_workers: int = 2):\n",
        "    \"\"\"\n",
        "    Params:\n",
        "      model_name : official name of the model\n",
        "      output_dir : directory where the model will be saved\n",
        "      num_labels : num_labels : number of classes\n",
        "      model_trained : whether the model was already trained or not\n",
        "    Returns:\n",
        "      trainer: the trainer used to train the model\n",
        "      tokenizer: the tokenizer used to tokenize the train and the validation set\n",
        "    \"\"\"\n",
        "\n",
        "    # removing cached file to avoid any possible conflict between consecutive model trainings\n",
        "    print(\"Cleaning memory...\")\n",
        "    !rm -rf ./root/.cache/huggingface/hub/model*\n",
        "    empty_cache()\n",
        "    gc.collect()\n",
        "\n",
        "    if model_trained:\n",
        "        try:\n",
        "            model, tokenizer = get_model_tok(model_name,\n",
        "                                             num_labels=num_labels,\n",
        "                                             model_path=output_dir,\n",
        "                                             is_custom=is_custom,\n",
        "                                             context=context)\n",
        "        except:\n",
        "            print('No model found!')\n",
        "            return None, None\n",
        "    else:\n",
        "        model, tokenizer = get_model_tok(model_name,\n",
        "                                         num_labels=num_labels,\n",
        "                                         is_custom=is_custom,\n",
        "                                         context=context)\n",
        "\n",
        "    # tokenization and conversion to dataset format\n",
        "    train_data, val_data = get_processed_datasets(train_set_df, val_set_df, tokenizer,\n",
        "                                                  context=context)\n",
        "\n",
        "    training_args = TrainingArguments(\n",
        "        output_dir=output_dir,\n",
        "        learning_rate=2e-5,\n",
        "        per_device_train_batch_size=batch_size,\n",
        "        per_device_eval_batch_size=batch_size,\n",
        "        num_train_epochs=n_epochs,\n",
        "        weight_decay=0.01,\n",
        "        evaluation_strategy=\"epoch\",\n",
        "        save_strategy=\"epoch\",\n",
        "        load_best_model_at_end=True,\n",
        "        eval_steps=1, # evaluate at each epoch\n",
        "        fp16=True,  # speed up a bit the training\n",
        "        auto_find_batch_size=True,  # Starts from given batch size, decreases it if needed\n",
        "        dataloader_num_workers=num_workers,\n",
        "        optim = 'adamw_torch', # avoids optimizer warnings\n",
        "        full_determinism=True,\n",
        "        label_smoothing_factor=0.2 if not is_custom else 0,\n",
        "        logging_steps=100\n",
        "    )\n",
        "\n",
        "    # instantiate trainer\n",
        "    trainer = Trainer(\n",
        "        model=model,\n",
        "        args=training_args,\n",
        "        train_dataset=train_data,\n",
        "        eval_dataset=val_data,\n",
        "        tokenizer=tokenizer,\n",
        "        compute_metrics=compute_metrics,\n",
        "    )\n",
        "\n",
        "    if not model_trained:\n",
        "        trainer.train()\n",
        "        trainer.save_model()\n",
        "\n",
        "    # important to avoid out of memory errors\n",
        "    del model\n",
        "\n",
        "    # return both the trainer and the tokenizer since they will be\n",
        "    # reused during the evaluation pipeline to perform predictions\n",
        "    return trainer, tokenizer"
      ]
    },
    {
      "cell_type": "markdown",
      "source": [
        "Define a function that performs inference on the test set computing model predictions."
      ],
      "metadata": {
        "id": "i_RccR12fYfY"
      }
    },
    {
      "cell_type": "code",
      "source": [
        "def exec_eval_pipeline(trainer: Trainer,\n",
        "                       tokenizer: AutoTokenizer,\n",
        "                       test_set_df: pd.DataFrame,\n",
        "                       context: bool):\n",
        "    \"\"\"\n",
        "    Params:\n",
        "      trainer : the trainer used to the train the model (will be used in predict mode)\n",
        "      tokenizer : the tokenizer used for the train set\n",
        "      test_set_df : pandas DataFrame containing the test set\n",
        "    Returns:\n",
        "      predictions: the predictions of the trained model on the test dataset\n",
        "    \"\"\"\n",
        "\n",
        "    print(\"Processing test data\")\n",
        "    test_set = test_set_df.copy()\n",
        "    test_set_ds = Dataset.from_pandas(test_set)\n",
        "\n",
        "    test_data = test_set_ds.map(\n",
        "        preprocess_function,\n",
        "        fn_kwargs={'tokenizer': tokenizer, 'context': context},\n",
        "        batched=True,\n",
        "        remove_columns=test_set_ds.column_names\n",
        "    )\n",
        "\n",
        "    predictions, _, _ = trainer.predict(test_data)\n",
        "\n",
        "    return predictions"
      ],
      "metadata": {
        "id": "fH2tS0mAjhFi"
      },
      "execution_count": null,
      "outputs": []
    },
    {
      "cell_type": "markdown",
      "source": [
        "## Models Performance"
      ],
      "metadata": {
        "id": "B9kflxMQrdOe"
      }
    },
    {
      "cell_type": "markdown",
      "source": [
        "Now we proceed with the training of all the models. The baselines and Model 0 have been trained with a higher batch size (128) in order to speed up a bit the training process. Unfortunately this wasn't possible with the context aware models, since their input is bigger and doesn't fit in the GPU memory provided by Colab.\n",
        "\n",
        "For each model we also evaluated its performances on the test set and printed its classification report."
      ],
      "metadata": {
        "id": "Nh2nCAgNexZG"
      }
    },
    {
      "cell_type": "markdown",
      "source": [
        "## Baseline models\n",
        "First we define two baseline models consisting of a simple transformer with a linear layer on top of it for sentence classification. Following the experiments done in the [corpus paper](https://arxiv.org/pdf/2201.13125.pdf)  we reproduced the results obtained with the mentioned baseline, using both BERT and RoBERTa as transformers modules."
      ],
      "metadata": {
        "id": "8uewIjXos20G"
      }
    },
    {
      "cell_type": "markdown",
      "source": [
        "### Baseline 1 - Single Sentence BERT"
      ],
      "metadata": {
        "id": "6KgSoDLFH_Bo"
      }
    },
    {
      "cell_type": "markdown",
      "source": [
        "##### Training"
      ],
      "metadata": {
        "id": "CN-BwrOCH_Bo"
      }
    },
    {
      "cell_type": "code",
      "source": [
        "trainer_baseline_1, tokenizer_baseline_1 = exec_train_pipeline(model_name_M0, baseline_1, n_classes, batch_size=128, context = False)"
      ],
      "metadata": {
        "colab": {
          "base_uri": "https://localhost:8080/",
          "height": 1000,
          "referenced_widgets": [
            "c1b9f41d2a6d4699ac31a4328130dafc",
            "fefbd531670141cb90f9e6925cdd62c4",
            "ff71990489004c41b51969de13eca612",
            "89caeaf8c0df45448db0a3686af590d8",
            "e79ef6bee86e4836a52fa52188318f04",
            "710ea3ee74d04d548b7148ce5385df19",
            "47600fc4ec164bf492d563679a8ac804",
            "cbb596a6cc22451abfea3a206dce403b",
            "2a6adfda35b240e6916eaae89925d3ac",
            "ebc07185fd18443d969d8c385f5489ab",
            "2207e747d72348b0b888737b1a6b702b",
            "8190db34807e4741a17e311d026bed64",
            "66e59a7a53f04a9bac252bf76a1bb38e",
            "a4e5730a6e714c91a45cede7e5dc4517",
            "cc4cf3e4258146228d354d0d7dc3cda3",
            "a831eb148da641b89c0a47e4e7b0ce19",
            "77562a4d845a4f59a4e884885fc991e2",
            "695603d2d4974ace8b8d5d151032e544",
            "4258fe36d14f4c89bf221a8dee0e4680",
            "07bbdd6f302d42f0aadb345969dcbec7",
            "ee26c95551d74e8a91d85c1a50530d45",
            "594eafdf4f8b45a3ada7a26ee3abe1bf",
            "7532ba0779e54fc3b995a74de2d6bcbc",
            "0016e66a6c5d49d99bda8130392f3eeb",
            "ca909d9a9ef749b8af14c620a6a86867",
            "c01647104058402a85a8a54af4a05c41",
            "7af61a2a9c814c02865e65eab5259688",
            "64c3f94eea58437ab7b59112b0985906",
            "f8e47950a309408786647774451e90ee",
            "363f11aca19a45c1a670a834f93608dc",
            "43e3c1c5c6884ecc894cff3fbe471cc2",
            "d1d69d8b226842b186383b3dab0befef",
            "308e962425354244922568406c6043c2",
            "2ba293e90f2b4d5b80d6e1177699c501",
            "af2f7a4d0b8e49f38c4447fb688ea0f9",
            "f0a1c9ce45bb456ab2b53b8b61a13741",
            "3be8d7aed77d4db4bdf8367b9bf36f1f",
            "8eac4c311a0648baa9a1ea1ee77b4c42",
            "ada42913ce1f41e7b6c9ef9619675038",
            "506cb7f7cf564468b00ce0ac47a13037",
            "2e8deaccddbe4c5282e1071e7097f11a",
            "08de002c12434894bc4f3ff1ffef8325",
            "88c742f7b8454a138411fd18e361224c",
            "cb1ecbcaf04f40f7bb4c5833b52a3791",
            "44b548e06be34869b453fc894fbdb3a5",
            "7a9ea3d3a39444149cb95184369d6206",
            "c42e752aba624b918547fe38b2e0fab7",
            "e0f759e499074d7999c483b447aa00cc",
            "42c8dda57f904ea2ba6c90b010b57ce8",
            "dbaeb4ab94a64b968f075b0855bb5576",
            "e92daee259af412f8c573de69df5fdc2",
            "ccfb2001c6e5471eb58ad57973d04653",
            "1161673c3a554a89897dcdeed9d610fa",
            "e76879d8ada54ec89eef0db7779620db",
            "f37149f6ca7f4383bee0bd197546cd14",
            "9ed079753c7246d294e58a2962a493d9",
            "a38833b4944a4aff90c55817ddf10820",
            "df4ee825ab4f469184108e91ee71fa32",
            "4443f068aa0d43a08fcd44026e35a771",
            "79443edb603943d38856aad797212ceb",
            "66115a26d32641fca6e31500c2d4b9c8",
            "6dcdfe50ca4c4a218429828d5622964b",
            "ea4d392626b544a88219d593f84574ed",
            "72f9d0641f6f44988740e39fa32ff835",
            "201397c9212b4daaad31da3d22927d96",
            "45fc149ec81d4c55b26afeae4e702ebe",
            "c323c7a424e24f9ea0bbf7fbea05eb7c",
            "33ef2f776c664649bf66d51223061df4",
            "aa10e9893f094779bc3c6c9d546cbb33",
            "bf0343b743ea44e28600eab1c9b5ca54",
            "5ea78d1c2d8c497caf30c00eb75aca54",
            "474e947b6eb04061a64a0301c047ede4",
            "dac3b94c652e4089bf481d5be61b9b4c",
            "a551a396483944cb8bd55ff1444057c5",
            "e44d5e83c30a4b799c7a2de2151c8490",
            "7add389e28854897b8daf8417e1f108e",
            "2bc0cf4457674820a034ed9be6be9695",
            "a81f08e2409b46f59dc7bead5cd0e39f",
            "8d31948e408e4091bc40d6895f60be97",
            "dd947d733369490c9861efaa12b44d90",
            "75e165bfcab6492bae6f456b8c2b568a",
            "b0022d914b95415588cb823e7264a3af",
            "5ad9437affd04fd58bb5701f123b93ea",
            "5326b7bdf25d4a78ac326aab83f13043",
            "dd2579ef982c42d6a88137f2c5079ca4",
            "7997626882c54609835c874f4e312080",
            "524e01a26a8444c78c470816b6ddc7a4",
            "d12448512db4490893bcb6a96566a5bb",
            "def291722b8945db838cfbc8b8e6d992",
            "9c063672c36e46ea90ff36653f2eeceb",
            "ae7464d4fc4a401e8511b74b2f2c5bc9",
            "966648affbb946e6bed9c42dae4b6887",
            "b92b34012e7a44db8b77b5b392c5c05c",
            "693fbb9f32f0403397946cae53d3a608",
            "c93215db5af341719e4aa2a5e05da1f2",
            "b722a15df1b84b89abb2ea1fa4a2fb15",
            "333db73154f94d108ea8e507438fa989",
            "0e1bcacbed384c51a14c875c6c3cff12",
            "6bf2ac842ab24592ac379e3f60eb22be"
          ]
        },
        "outputId": "e7c98e64-a27e-4f8b-c082-081572c9d871",
        "id": "6uCSAwSWH_Bp"
      },
      "execution_count": null,
      "outputs": [
        {
          "output_type": "stream",
          "name": "stdout",
          "text": [
            "Cleaning memory...\n"
          ]
        },
        {
          "output_type": "display_data",
          "data": {
            "text/plain": [
              "Downloading (…)okenizer_config.json:   0%|          | 0.00/28.0 [00:00<?, ?B/s]"
            ],
            "application/vnd.jupyter.widget-view+json": {
              "version_major": 2,
              "version_minor": 0,
              "model_id": "c1b9f41d2a6d4699ac31a4328130dafc"
            }
          },
          "metadata": {}
        },
        {
          "output_type": "display_data",
          "data": {
            "text/plain": [
              "Downloading (…)lve/main/config.json:   0%|          | 0.00/570 [00:00<?, ?B/s]"
            ],
            "application/vnd.jupyter.widget-view+json": {
              "version_major": 2,
              "version_minor": 0,
              "model_id": "8190db34807e4741a17e311d026bed64"
            }
          },
          "metadata": {}
        },
        {
          "output_type": "display_data",
          "data": {
            "text/plain": [
              "Downloading (…)solve/main/vocab.txt:   0%|          | 0.00/232k [00:00<?, ?B/s]"
            ],
            "application/vnd.jupyter.widget-view+json": {
              "version_major": 2,
              "version_minor": 0,
              "model_id": "7532ba0779e54fc3b995a74de2d6bcbc"
            }
          },
          "metadata": {}
        },
        {
          "output_type": "display_data",
          "data": {
            "text/plain": [
              "Downloading (…)/main/tokenizer.json:   0%|          | 0.00/466k [00:00<?, ?B/s]"
            ],
            "application/vnd.jupyter.widget-view+json": {
              "version_major": 2,
              "version_minor": 0,
              "model_id": "2ba293e90f2b4d5b80d6e1177699c501"
            }
          },
          "metadata": {}
        },
        {
          "output_type": "stream",
          "name": "stdout",
          "text": [
            "Downloading : bert-base-uncased\n"
          ]
        },
        {
          "output_type": "display_data",
          "data": {
            "text/plain": [
              "Downloading (…)\"pytorch_model.bin\";:   0%|          | 0.00/440M [00:00<?, ?B/s]"
            ],
            "application/vnd.jupyter.widget-view+json": {
              "version_major": 2,
              "version_minor": 0,
              "model_id": "44b548e06be34869b453fc894fbdb3a5"
            }
          },
          "metadata": {}
        },
        {
          "output_type": "stream",
          "name": "stderr",
          "text": [
            "Some weights of the model checkpoint at bert-base-uncased were not used when initializing BertForSequenceClassification: ['cls.predictions.transform.LayerNorm.weight', 'cls.predictions.transform.dense.weight', 'cls.predictions.bias', 'cls.predictions.transform.dense.bias', 'cls.seq_relationship.weight', 'cls.predictions.transform.LayerNorm.bias', 'cls.predictions.decoder.weight', 'cls.seq_relationship.bias']\n",
            "- This IS expected if you are initializing BertForSequenceClassification from the checkpoint of a model trained on another task or with another architecture (e.g. initializing a BertForSequenceClassification model from a BertForPreTraining model).\n",
            "- This IS NOT expected if you are initializing BertForSequenceClassification from the checkpoint of a model that you expect to be exactly identical (initializing a BertForSequenceClassification model from a BertForSequenceClassification model).\n",
            "Some weights of BertForSequenceClassification were not initialized from the model checkpoint at bert-base-uncased and are newly initialized: ['classifier.bias', 'classifier.weight']\n",
            "You should probably TRAIN this model on a down-stream task to be able to use it for predictions and inference.\n"
          ]
        },
        {
          "output_type": "stream",
          "name": "stdout",
          "text": [
            "Processing training data\n"
          ]
        },
        {
          "output_type": "display_data",
          "data": {
            "text/plain": [
              "  0%|          | 0/26 [00:00<?, ?ba/s]"
            ],
            "application/vnd.jupyter.widget-view+json": {
              "version_major": 2,
              "version_minor": 0,
              "model_id": "9ed079753c7246d294e58a2962a493d9"
            }
          },
          "metadata": {}
        },
        {
          "output_type": "stream",
          "name": "stdout",
          "text": [
            "Processing validation data\n"
          ]
        },
        {
          "output_type": "display_data",
          "data": {
            "text/plain": [
              "  0%|          | 0/4 [00:00<?, ?ba/s]"
            ],
            "application/vnd.jupyter.widget-view+json": {
              "version_major": 2,
              "version_minor": 0,
              "model_id": "c323c7a424e24f9ea0bbf7fbea05eb7c"
            }
          },
          "metadata": {}
        },
        {
          "output_type": "stream",
          "name": "stderr",
          "text": [
            "Using cuda_amp half precision backend\n",
            "/usr/local/lib/python3.8/dist-packages/accelerate/memory_utils.py:23: FutureWarning: memory_utils has been reorganized to utils.memory. Import `find_executable_batchsize` from the main `__init__`: `from accelerate import find_executable_batch_size` to avoid this warning.\n",
            "  warnings.warn(\n",
            "***** Running training *****\n",
            "  Num examples = 25178\n",
            "  Num Epochs = 3\n",
            "  Instantaneous batch size per device = 128\n",
            "  Total train batch size (w. parallel, distributed & accumulation) = 128\n",
            "  Gradient Accumulation steps = 1\n",
            "  Total optimization steps = 591\n",
            "  Number of trainable parameters = 109492237\n",
            "You're using a BertTokenizerFast tokenizer. Please note that with a fast tokenizer, using the `__call__` method is faster than using a method to encode the text followed by a call to the `pad` method to get a padded encoding.\n",
            "You're using a BertTokenizerFast tokenizer. Please note that with a fast tokenizer, using the `__call__` method is faster than using a method to encode the text followed by a call to the `pad` method to get a padded encoding.\n"
          ]
        },
        {
          "output_type": "display_data",
          "data": {
            "text/plain": [
              "<IPython.core.display.HTML object>"
            ],
            "text/html": [
              "\n",
              "    <div>\n",
              "      \n",
              "      <progress value='591' max='591' style='width:300px; height:20px; vertical-align: middle;'></progress>\n",
              "      [591/591 11:29, Epoch 3/3]\n",
              "    </div>\n",
              "    <table border=\"1\" class=\"dataframe\">\n",
              "  <thead>\n",
              " <tr style=\"text-align: left;\">\n",
              "      <th>Epoch</th>\n",
              "      <th>Training Loss</th>\n",
              "      <th>Validation Loss</th>\n",
              "      <th>Accuracy</th>\n",
              "      <th>Weighted f1</th>\n",
              "    </tr>\n",
              "  </thead>\n",
              "  <tbody>\n",
              "    <tr>\n",
              "      <td>1</td>\n",
              "      <td>2.019300</td>\n",
              "      <td>1.646237</td>\n",
              "      <td>0.652714</td>\n",
              "      <td>0.630991</td>\n",
              "    </tr>\n",
              "    <tr>\n",
              "      <td>2</td>\n",
              "      <td>1.660700</td>\n",
              "      <td>1.609034</td>\n",
              "      <td>0.652714</td>\n",
              "      <td>0.638742</td>\n",
              "    </tr>\n",
              "    <tr>\n",
              "      <td>3</td>\n",
              "      <td>1.572200</td>\n",
              "      <td>1.616276</td>\n",
              "      <td>0.649117</td>\n",
              "      <td>0.637228</td>\n",
              "    </tr>\n",
              "  </tbody>\n",
              "</table><p>"
            ]
          },
          "metadata": {}
        },
        {
          "output_type": "stream",
          "name": "stderr",
          "text": [
            "***** Running Evaluation *****\n",
            "  Num examples = 3058\n",
            "  Batch size = 128\n",
            "You're using a BertTokenizerFast tokenizer. Please note that with a fast tokenizer, using the `__call__` method is faster than using a method to encode the text followed by a call to the `pad` method to get a padded encoding.\n",
            "You're using a BertTokenizerFast tokenizer. Please note that with a fast tokenizer, using the `__call__` method is faster than using a method to encode the text followed by a call to the `pad` method to get a padded encoding.\n"
          ]
        },
        {
          "output_type": "display_data",
          "data": {
            "text/plain": [
              "Downloading builder script:   0%|          | 0.00/4.20k [00:00<?, ?B/s]"
            ],
            "application/vnd.jupyter.widget-view+json": {
              "version_major": 2,
              "version_minor": 0,
              "model_id": "a81f08e2409b46f59dc7bead5cd0e39f"
            }
          },
          "metadata": {}
        },
        {
          "output_type": "display_data",
          "data": {
            "text/plain": [
              "Downloading builder script:   0%|          | 0.00/6.77k [00:00<?, ?B/s]"
            ],
            "application/vnd.jupyter.widget-view+json": {
              "version_major": 2,
              "version_minor": 0,
              "model_id": "def291722b8945db838cfbc8b8e6d992"
            }
          },
          "metadata": {}
        },
        {
          "output_type": "stream",
          "name": "stderr",
          "text": [
            "Saving model checkpoint to single_sentence_bert/checkpoint-197\n",
            "Configuration saved in single_sentence_bert/checkpoint-197/config.json\n",
            "Model weights saved in single_sentence_bert/checkpoint-197/pytorch_model.bin\n",
            "tokenizer config file saved in single_sentence_bert/checkpoint-197/tokenizer_config.json\n",
            "Special tokens file saved in single_sentence_bert/checkpoint-197/special_tokens_map.json\n",
            "You're using a BertTokenizerFast tokenizer. Please note that with a fast tokenizer, using the `__call__` method is faster than using a method to encode the text followed by a call to the `pad` method to get a padded encoding.\n",
            "You're using a BertTokenizerFast tokenizer. Please note that with a fast tokenizer, using the `__call__` method is faster than using a method to encode the text followed by a call to the `pad` method to get a padded encoding.\n",
            "***** Running Evaluation *****\n",
            "  Num examples = 3058\n",
            "  Batch size = 128\n",
            "You're using a BertTokenizerFast tokenizer. Please note that with a fast tokenizer, using the `__call__` method is faster than using a method to encode the text followed by a call to the `pad` method to get a padded encoding.\n",
            "You're using a BertTokenizerFast tokenizer. Please note that with a fast tokenizer, using the `__call__` method is faster than using a method to encode the text followed by a call to the `pad` method to get a padded encoding.\n",
            "Saving model checkpoint to single_sentence_bert/checkpoint-394\n",
            "Configuration saved in single_sentence_bert/checkpoint-394/config.json\n",
            "Model weights saved in single_sentence_bert/checkpoint-394/pytorch_model.bin\n",
            "tokenizer config file saved in single_sentence_bert/checkpoint-394/tokenizer_config.json\n",
            "Special tokens file saved in single_sentence_bert/checkpoint-394/special_tokens_map.json\n",
            "You're using a BertTokenizerFast tokenizer. Please note that with a fast tokenizer, using the `__call__` method is faster than using a method to encode the text followed by a call to the `pad` method to get a padded encoding.\n",
            "You're using a BertTokenizerFast tokenizer. Please note that with a fast tokenizer, using the `__call__` method is faster than using a method to encode the text followed by a call to the `pad` method to get a padded encoding.\n",
            "***** Running Evaluation *****\n",
            "  Num examples = 3058\n",
            "  Batch size = 128\n",
            "You're using a BertTokenizerFast tokenizer. Please note that with a fast tokenizer, using the `__call__` method is faster than using a method to encode the text followed by a call to the `pad` method to get a padded encoding.\n",
            "You're using a BertTokenizerFast tokenizer. Please note that with a fast tokenizer, using the `__call__` method is faster than using a method to encode the text followed by a call to the `pad` method to get a padded encoding.\n",
            "Saving model checkpoint to single_sentence_bert/checkpoint-591\n",
            "Configuration saved in single_sentence_bert/checkpoint-591/config.json\n",
            "Model weights saved in single_sentence_bert/checkpoint-591/pytorch_model.bin\n",
            "tokenizer config file saved in single_sentence_bert/checkpoint-591/tokenizer_config.json\n",
            "Special tokens file saved in single_sentence_bert/checkpoint-591/special_tokens_map.json\n",
            "\n",
            "\n",
            "Training completed. Do not forget to share your model on huggingface.co/models =)\n",
            "\n",
            "\n",
            "Loading best model from single_sentence_bert/checkpoint-394 (score: 1.6090344190597534).\n",
            "Saving model checkpoint to single_sentence_bert\n",
            "Configuration saved in single_sentence_bert/config.json\n",
            "Model weights saved in single_sentence_bert/pytorch_model.bin\n",
            "tokenizer config file saved in single_sentence_bert/tokenizer_config.json\n",
            "Special tokens file saved in single_sentence_bert/special_tokens_map.json\n"
          ]
        }
      ]
    },
    {
      "cell_type": "markdown",
      "source": [
        "##### Evaluation"
      ],
      "metadata": {
        "id": "cxmwXwywH_Bp"
      }
    },
    {
      "cell_type": "code",
      "execution_count": null,
      "metadata": {
        "colab": {
          "base_uri": "https://localhost:8080/",
          "height": 173,
          "referenced_widgets": [
            "46a822b7a08246f78ad154819f044117",
            "7338e4e3908c4f1687a931a29d72388d",
            "0a5a34dc55d3490aa6929cce786a81c1",
            "71574ade35644644b88c093134259c7e",
            "8d279f75548242d4b7ece477b6504f3a",
            "917e2ce9963a4dbfb1c2dd0eae905b68",
            "1a8368bbe2304f139369d840f49d8364",
            "8b914e42b69e40008e6ecb0130d23d2a",
            "bca00498350c4ba78f8758b8815ed260",
            "1b9d4710ac0646a58c4ff8e118d740d1",
            "aae3e1cf53bd400fa31113d4d4f8e746"
          ]
        },
        "outputId": "9e55bf37-ef8f-4da8-904b-2c69c39b89cb",
        "id": "8075oDgvH_Bp"
      },
      "outputs": [
        {
          "output_type": "stream",
          "name": "stdout",
          "text": [
            "Processing test data\n"
          ]
        },
        {
          "output_type": "display_data",
          "data": {
            "text/plain": [
              "  0%|          | 0/3 [00:00<?, ?ba/s]"
            ],
            "application/vnd.jupyter.widget-view+json": {
              "version_major": 2,
              "version_minor": 0,
              "model_id": "46a822b7a08246f78ad154819f044117"
            }
          },
          "metadata": {}
        },
        {
          "output_type": "stream",
          "name": "stderr",
          "text": [
            "***** Running Prediction *****\n",
            "  Num examples = 2878\n",
            "  Batch size = 128\n",
            "You're using a BertTokenizerFast tokenizer. Please note that with a fast tokenizer, using the `__call__` method is faster than using a method to encode the text followed by a call to the `pad` method to get a padded encoding.\n",
            "You're using a BertTokenizerFast tokenizer. Please note that with a fast tokenizer, using the `__call__` method is faster than using a method to encode the text followed by a call to the `pad` method to get a padded encoding.\n"
          ]
        },
        {
          "output_type": "display_data",
          "data": {
            "text/plain": [
              "<IPython.core.display.HTML object>"
            ],
            "text/html": []
          },
          "metadata": {}
        }
      ],
      "source": [
        "logits_b1 = exec_eval_pipeline(trainer_baseline_1, tokenizer_baseline_1, test_df, context=False)"
      ]
    },
    {
      "cell_type": "code",
      "execution_count": null,
      "metadata": {
        "colab": {
          "base_uri": "https://localhost:8080/"
        },
        "outputId": "9ad61139-6672-4a91-87f5-13233f7b18eb",
        "id": "JsMwCfhzH_Bp"
      },
      "outputs": [
        {
          "output_type": "stream",
          "name": "stdout",
          "text": [
            "                precision    recall  f1-score   support\n",
            "\n",
            "      PREAMBLE       0.89      0.62      0.73       507\n",
            "          NONE       0.92      0.78      0.84       190\n",
            "           FAC       0.61      0.74      0.67       581\n",
            "ARG_RESPONDENT       0.00      0.00      0.00        38\n",
            "           RLC       0.45      0.16      0.23       116\n",
            "ARG_PETITIONER       0.24      0.23      0.24        65\n",
            "      ANALYSIS       0.60      0.80      0.69       985\n",
            "    PRE_RELIED       0.62      0.32      0.42       142\n",
            "         RATIO       0.00      0.00      0.00        71\n",
            "           RPC       0.67      0.80      0.73        92\n",
            "         ISSUE       0.83      0.67      0.74        51\n",
            "           STA       0.62      0.54      0.58        28\n",
            "PRE_NOT_RELIED       0.00      0.00      0.00        12\n",
            "\n",
            "      accuracy                           0.65      2878\n",
            "     macro avg       0.50      0.43      0.45      2878\n",
            "  weighted avg       0.64      0.65      0.63      2878\n",
            "\n"
          ]
        },
        {
          "output_type": "stream",
          "name": "stderr",
          "text": [
            "/usr/local/lib/python3.8/dist-packages/sklearn/metrics/_classification.py:1318: UndefinedMetricWarning: Precision and F-score are ill-defined and being set to 0.0 in labels with no predicted samples. Use `zero_division` parameter to control this behavior.\n",
            "  _warn_prf(average, modifier, msg_start, len(result))\n",
            "/usr/local/lib/python3.8/dist-packages/sklearn/metrics/_classification.py:1318: UndefinedMetricWarning: Precision and F-score are ill-defined and being set to 0.0 in labels with no predicted samples. Use `zero_division` parameter to control this behavior.\n",
            "  _warn_prf(average, modifier, msg_start, len(result))\n",
            "/usr/local/lib/python3.8/dist-packages/sklearn/metrics/_classification.py:1318: UndefinedMetricWarning: Precision and F-score are ill-defined and being set to 0.0 in labels with no predicted samples. Use `zero_division` parameter to control this behavior.\n",
            "  _warn_prf(average, modifier, msg_start, len(result))\n"
          ]
        }
      ],
      "source": [
        "predictions_b1 = [np.argmax(pred) for pred in logits_b1]\n",
        "print(classification_report(labels_true, predictions_b1, target_names=label2id.keys()))"
      ]
    },
    {
      "cell_type": "markdown",
      "source": [
        "### Baseline 2 - Single sentence RoBERTa\n"
      ],
      "metadata": {
        "id": "PtlpvRqIkIoj"
      }
    },
    {
      "cell_type": "markdown",
      "source": [
        "##### Training"
      ],
      "metadata": {
        "id": "4Y0TUHAw8tAd"
      }
    },
    {
      "cell_type": "code",
      "source": [
        "trainer_baseline_2, tokenizer_baseline_2 = exec_train_pipeline(model_name_M1, baseline_2, n_classes, batch_size=128, context=False)"
      ],
      "metadata": {
        "colab": {
          "base_uri": "https://localhost:8080/",
          "height": 1000,
          "referenced_widgets": [
            "7ab548e9ead441e38eb65f4e46a2e09f",
            "cf60d6f486f048e1b1390c1f75548973",
            "233a8c5545d240af9b0b28cfe44e9808",
            "2cbaf77eef804828821335846852965a",
            "73ae0710d3114b64aecd092551c866f8",
            "e892e0fd581c44459dba2534ea73a5b4",
            "509b027fcbed4259a38cf340445b6836",
            "b9f595c77d92481db099b81b0661be70",
            "7031b5a8dc9b4642a4afd583286c8035",
            "1d53f31ab19e4859b782f63cdfc906d1",
            "1f839aedc8c047b2a10ac6261d881003",
            "61def1d0381c4fd79ea9180dba02017f",
            "ffe7defc6ac3419fa2ada3b696470556",
            "83e6a46ceeba4d46a4ad809445eb692c",
            "e8cde69096f04b8a8352b85ac71428ea",
            "99683da7ddca47e98f6bc6cf8a9b66cf",
            "8a605062c0d74015a408c5e3ac2d7fa7",
            "15360df181ed4aedb463ad305cf62777",
            "fcfbd5fd740444519691e5c39ae2444c",
            "e7dda74cb6f0476f83c05ebe0de2d030",
            "b575f2ad1c2741b1baa64999b8476091",
            "7fce3e59485b48088691011cce1fc7b1",
            "afd07db152fc4d4ebf56244560ac5625",
            "a170b5b1a8b74b79a78654e6f99f6bb1",
            "67dac6445c994c91b0318628a56570a8",
            "31937dec79b645d68d5a43970b8aab97",
            "176c6be262644197839998e750c8d54d",
            "6e5d33d986954589afdfd152c6fd3b9a",
            "370ac423933c46f48e08e4e6d7fd775a",
            "fec287ead3074a8ca74c17c75ade7b8e",
            "1a79b40b99c846419c131aebb2cd638d",
            "4525330b767d42fdb4df9b7b0fe17482",
            "ba467ef3bdf04b9ba29aeb9d6c307478",
            "8c6e4e90d22541c49b54154c31d7fdb3",
            "5e069286d1f240b884cca834b2f7ae2c",
            "e12276f32b1343cfb044bd8f84995526",
            "53ca0a49a2bd42acac4f612aa109ca23",
            "4b03a64bec394303b5a9cd11dd0c4833",
            "661f23b74056486c990df0cfb5847394",
            "ca5bb45cba6c40b7aa56d6bc8cf1cd6d",
            "dcdb301b779d447c91500485c4f67537",
            "ac9063ede8e14d4a8e5564e827fc6658",
            "e752a3ec83884772b1e29adeffda1bd2",
            "feec854eee5244fcb4b297b8ca4ce677",
            "512dd0fe1667439a9c2b525d8aecd39f",
            "86cf979291294a3daa1468e816eb67cc",
            "dc89e22f9dcc4c2ab1b3dacb4f88307f",
            "2a1fc96b0f214ba88dc8d8dcf99c99aa",
            "f6c761bf7a514916aed5534bb6130fd7",
            "bc11b35a558c494798443d205545f00d",
            "7adada6e76734c6cb074f743224318ba",
            "88daa32efd7549b798ff3210ac2b27b8",
            "fbae0a84a47c47d4959b71323391090a",
            "7ed004692fd947039a96130b3690f2ae",
            "a51ad852c0034638b7eb63a50eccb6c9",
            "8a6444d5d7b94ae499edbb511c7d9b82",
            "28c6119879b54b2983de967b0285aa6d",
            "c7045de9c93a430bad8a2cb687bb644e",
            "37d31d5e150d4bd79c2de9c5ea00b64e",
            "967d0a9a498747f398a3d41c3f23f3bf",
            "52ccad86798045399eb2e838ebeeace4",
            "24e18fd5efcc40cf8f1e80139bc9b6dd",
            "9d009ef78a874459bc286cc5aa649576",
            "257bb460dbfc46c0a304d2917867291f",
            "765feb73f7124729a105938fcf839cac",
            "bba6d5fa2e2f4ce4bd38993aa640fce7",
            "6aaa62528dc54e959834fe470dbd1abf",
            "babc29c5c9544159b9f6369505fe40d4",
            "341d5b2b3caf4242a8baad567f14a0ae",
            "6c586bbc297348b3b4e6cc9cc7366606",
            "18a85d9c33574c7b9596f301e9f10eb8",
            "ce2029d3d3ac4efa93d46f23c1deb9cf",
            "9d8f23d777d743e0861957d8bdbf343e",
            "0f46a0cadaa14e9fbebc6702aeea61bf",
            "cea84e8df1a1450ebf04be69fec7118b",
            "152de54dbd4943d18263358b65400988",
            "fdf45c8eee7a487680bf4e7177ab50d5",
            "c02fa046804a4d6d85d055defb894c50",
            "ba40525a6a97478a9904e397f3322324",
            "0fdfc84f03054e6aaefea440f9195b85",
            "6d9a0e38faac43cbb80353d753ecf76a",
            "c4c601f07585480989a7d4f208cf831e",
            "39c5e37e2d0e497ab9bbab8b7c6d10a0",
            "e1e06f51d37b4edebfb8c41711a17a42",
            "10abcff118984d99b58d759bae0bca33",
            "354b2c0eb5b848db9a4f1b3b6870c040",
            "8c025e3580c54275b2bdf4e62314b7f5",
            "8bf0464f2a1645ab8931f34ca86729a7",
            "273345162f8e46e29058723bb39f6e06",
            "99a73727097e4d41b937cb58221d5d59",
            "f62164b76e9d4579adef01c0ae4d4c82",
            "14584cba2bea442fbaed3d4f870caf26",
            "58a91388663849a9acf4f98993f3be51",
            "0114e31040184ffaabecc8400c5d7602",
            "89ff8592137047c8bc93b50844c58639",
            "74ae5c3f7a0b481b937abb5e1edb2730",
            "beba33915d2646fe9a7c41d86f4b5996",
            "1c82afa14dc046bbb50488b312c76597",
            "34c15207b88f464b8aa574a84458df27"
          ]
        },
        "id": "H9bb9XYekOW6",
        "outputId": "a7400c7a-d6d3-4b7d-980d-b929305f1ab9"
      },
      "execution_count": null,
      "outputs": [
        {
          "output_type": "stream",
          "name": "stdout",
          "text": [
            "Cleaning memory...\n"
          ]
        },
        {
          "output_type": "display_data",
          "data": {
            "text/plain": [
              "Downloading (…)lve/main/config.json:   0%|          | 0.00/481 [00:00<?, ?B/s]"
            ],
            "application/vnd.jupyter.widget-view+json": {
              "version_major": 2,
              "version_minor": 0,
              "model_id": "7ab548e9ead441e38eb65f4e46a2e09f"
            }
          },
          "metadata": {}
        },
        {
          "output_type": "display_data",
          "data": {
            "text/plain": [
              "Downloading (…)olve/main/vocab.json:   0%|          | 0.00/899k [00:00<?, ?B/s]"
            ],
            "application/vnd.jupyter.widget-view+json": {
              "version_major": 2,
              "version_minor": 0,
              "model_id": "61def1d0381c4fd79ea9180dba02017f"
            }
          },
          "metadata": {}
        },
        {
          "output_type": "display_data",
          "data": {
            "text/plain": [
              "Downloading (…)olve/main/merges.txt:   0%|          | 0.00/456k [00:00<?, ?B/s]"
            ],
            "application/vnd.jupyter.widget-view+json": {
              "version_major": 2,
              "version_minor": 0,
              "model_id": "afd07db152fc4d4ebf56244560ac5625"
            }
          },
          "metadata": {}
        },
        {
          "output_type": "display_data",
          "data": {
            "text/plain": [
              "Downloading (…)/main/tokenizer.json:   0%|          | 0.00/1.36M [00:00<?, ?B/s]"
            ],
            "application/vnd.jupyter.widget-view+json": {
              "version_major": 2,
              "version_minor": 0,
              "model_id": "8c6e4e90d22541c49b54154c31d7fdb3"
            }
          },
          "metadata": {}
        },
        {
          "output_type": "stream",
          "name": "stdout",
          "text": [
            "Downloading : roberta-base\n"
          ]
        },
        {
          "output_type": "display_data",
          "data": {
            "text/plain": [
              "Downloading (…)\"pytorch_model.bin\";:   0%|          | 0.00/501M [00:00<?, ?B/s]"
            ],
            "application/vnd.jupyter.widget-view+json": {
              "version_major": 2,
              "version_minor": 0,
              "model_id": "512dd0fe1667439a9c2b525d8aecd39f"
            }
          },
          "metadata": {}
        },
        {
          "output_type": "stream",
          "name": "stderr",
          "text": [
            "Some weights of the model checkpoint at roberta-base were not used when initializing RobertaForSequenceClassification: ['roberta.pooler.dense.weight', 'lm_head.decoder.weight', 'lm_head.layer_norm.weight', 'roberta.pooler.dense.bias', 'lm_head.layer_norm.bias', 'lm_head.bias', 'lm_head.dense.weight', 'lm_head.dense.bias']\n",
            "- This IS expected if you are initializing RobertaForSequenceClassification from the checkpoint of a model trained on another task or with another architecture (e.g. initializing a BertForSequenceClassification model from a BertForPreTraining model).\n",
            "- This IS NOT expected if you are initializing RobertaForSequenceClassification from the checkpoint of a model that you expect to be exactly identical (initializing a BertForSequenceClassification model from a BertForSequenceClassification model).\n",
            "Some weights of RobertaForSequenceClassification were not initialized from the model checkpoint at roberta-base and are newly initialized: ['classifier.dense.bias', 'classifier.out_proj.weight', 'classifier.dense.weight', 'classifier.out_proj.bias']\n",
            "You should probably TRAIN this model on a down-stream task to be able to use it for predictions and inference.\n"
          ]
        },
        {
          "output_type": "stream",
          "name": "stdout",
          "text": [
            "Processing training data\n"
          ]
        },
        {
          "output_type": "display_data",
          "data": {
            "text/plain": [
              "  0%|          | 0/26 [00:00<?, ?ba/s]"
            ],
            "application/vnd.jupyter.widget-view+json": {
              "version_major": 2,
              "version_minor": 0,
              "model_id": "8a6444d5d7b94ae499edbb511c7d9b82"
            }
          },
          "metadata": {}
        },
        {
          "output_type": "stream",
          "name": "stdout",
          "text": [
            "Processing validation data\n"
          ]
        },
        {
          "output_type": "display_data",
          "data": {
            "text/plain": [
              "  0%|          | 0/4 [00:00<?, ?ba/s]"
            ],
            "application/vnd.jupyter.widget-view+json": {
              "version_major": 2,
              "version_minor": 0,
              "model_id": "6aaa62528dc54e959834fe470dbd1abf"
            }
          },
          "metadata": {}
        },
        {
          "output_type": "stream",
          "name": "stderr",
          "text": [
            "Using cuda_amp half precision backend\n",
            "/usr/local/lib/python3.8/dist-packages/accelerate/memory_utils.py:23: FutureWarning: memory_utils has been reorganized to utils.memory. Import `find_executable_batchsize` from the main `__init__`: `from accelerate import find_executable_batch_size` to avoid this warning.\n",
            "  warnings.warn(\n",
            "***** Running training *****\n",
            "  Num examples = 25178\n",
            "  Num Epochs = 3\n",
            "  Instantaneous batch size per device = 128\n",
            "  Total train batch size (w. parallel, distributed & accumulation) = 128\n",
            "  Gradient Accumulation steps = 1\n",
            "  Total optimization steps = 591\n",
            "  Number of trainable parameters = 124655629\n",
            "You're using a RobertaTokenizerFast tokenizer. Please note that with a fast tokenizer, using the `__call__` method is faster than using a method to encode the text followed by a call to the `pad` method to get a padded encoding.\n",
            "You're using a RobertaTokenizerFast tokenizer. Please note that with a fast tokenizer, using the `__call__` method is faster than using a method to encode the text followed by a call to the `pad` method to get a padded encoding.\n"
          ]
        },
        {
          "output_type": "display_data",
          "data": {
            "text/plain": [
              "<IPython.core.display.HTML object>"
            ],
            "text/html": [
              "\n",
              "    <div>\n",
              "      \n",
              "      <progress value='591' max='591' style='width:300px; height:20px; vertical-align: middle;'></progress>\n",
              "      [591/591 11:39, Epoch 3/3]\n",
              "    </div>\n",
              "    <table border=\"1\" class=\"dataframe\">\n",
              "  <thead>\n",
              " <tr style=\"text-align: left;\">\n",
              "      <th>Epoch</th>\n",
              "      <th>Training Loss</th>\n",
              "      <th>Validation Loss</th>\n",
              "      <th>Accuracy</th>\n",
              "      <th>Weighted f1</th>\n",
              "    </tr>\n",
              "  </thead>\n",
              "  <tbody>\n",
              "    <tr>\n",
              "      <td>1</td>\n",
              "      <td>1.961300</td>\n",
              "      <td>1.551706</td>\n",
              "      <td>0.679202</td>\n",
              "      <td>0.662026</td>\n",
              "    </tr>\n",
              "    <tr>\n",
              "      <td>2</td>\n",
              "      <td>1.560600</td>\n",
              "      <td>1.517500</td>\n",
              "      <td>0.685088</td>\n",
              "      <td>0.670459</td>\n",
              "    </tr>\n",
              "    <tr>\n",
              "      <td>3</td>\n",
              "      <td>1.486000</td>\n",
              "      <td>1.531061</td>\n",
              "      <td>0.678875</td>\n",
              "      <td>0.670369</td>\n",
              "    </tr>\n",
              "  </tbody>\n",
              "</table><p>"
            ]
          },
          "metadata": {}
        },
        {
          "output_type": "stream",
          "name": "stderr",
          "text": [
            "***** Running Evaluation *****\n",
            "  Num examples = 3058\n",
            "  Batch size = 128\n",
            "You're using a RobertaTokenizerFast tokenizer. Please note that with a fast tokenizer, using the `__call__` method is faster than using a method to encode the text followed by a call to the `pad` method to get a padded encoding.\n",
            "You're using a RobertaTokenizerFast tokenizer. Please note that with a fast tokenizer, using the `__call__` method is faster than using a method to encode the text followed by a call to the `pad` method to get a padded encoding.\n"
          ]
        },
        {
          "output_type": "display_data",
          "data": {
            "text/plain": [
              "Downloading builder script:   0%|          | 0.00/4.20k [00:00<?, ?B/s]"
            ],
            "application/vnd.jupyter.widget-view+json": {
              "version_major": 2,
              "version_minor": 0,
              "model_id": "c02fa046804a4d6d85d055defb894c50"
            }
          },
          "metadata": {}
        },
        {
          "output_type": "display_data",
          "data": {
            "text/plain": [
              "Downloading builder script:   0%|          | 0.00/6.77k [00:00<?, ?B/s]"
            ],
            "application/vnd.jupyter.widget-view+json": {
              "version_major": 2,
              "version_minor": 0,
              "model_id": "273345162f8e46e29058723bb39f6e06"
            }
          },
          "metadata": {}
        },
        {
          "output_type": "stream",
          "name": "stderr",
          "text": [
            "Saving model checkpoint to single_sentence_roberta/checkpoint-197\n",
            "Configuration saved in single_sentence_roberta/checkpoint-197/config.json\n",
            "Model weights saved in single_sentence_roberta/checkpoint-197/pytorch_model.bin\n",
            "tokenizer config file saved in single_sentence_roberta/checkpoint-197/tokenizer_config.json\n",
            "Special tokens file saved in single_sentence_roberta/checkpoint-197/special_tokens_map.json\n",
            "You're using a RobertaTokenizerFast tokenizer. Please note that with a fast tokenizer, using the `__call__` method is faster than using a method to encode the text followed by a call to the `pad` method to get a padded encoding.\n",
            "You're using a RobertaTokenizerFast tokenizer. Please note that with a fast tokenizer, using the `__call__` method is faster than using a method to encode the text followed by a call to the `pad` method to get a padded encoding.\n",
            "***** Running Evaluation *****\n",
            "  Num examples = 3058\n",
            "  Batch size = 128\n",
            "You're using a RobertaTokenizerFast tokenizer. Please note that with a fast tokenizer, using the `__call__` method is faster than using a method to encode the text followed by a call to the `pad` method to get a padded encoding.\n",
            "You're using a RobertaTokenizerFast tokenizer. Please note that with a fast tokenizer, using the `__call__` method is faster than using a method to encode the text followed by a call to the `pad` method to get a padded encoding.\n",
            "Saving model checkpoint to single_sentence_roberta/checkpoint-394\n",
            "Configuration saved in single_sentence_roberta/checkpoint-394/config.json\n",
            "Model weights saved in single_sentence_roberta/checkpoint-394/pytorch_model.bin\n",
            "tokenizer config file saved in single_sentence_roberta/checkpoint-394/tokenizer_config.json\n",
            "Special tokens file saved in single_sentence_roberta/checkpoint-394/special_tokens_map.json\n",
            "You're using a RobertaTokenizerFast tokenizer. Please note that with a fast tokenizer, using the `__call__` method is faster than using a method to encode the text followed by a call to the `pad` method to get a padded encoding.\n",
            "You're using a RobertaTokenizerFast tokenizer. Please note that with a fast tokenizer, using the `__call__` method is faster than using a method to encode the text followed by a call to the `pad` method to get a padded encoding.\n",
            "***** Running Evaluation *****\n",
            "  Num examples = 3058\n",
            "  Batch size = 128\n",
            "You're using a RobertaTokenizerFast tokenizer. Please note that with a fast tokenizer, using the `__call__` method is faster than using a method to encode the text followed by a call to the `pad` method to get a padded encoding.\n",
            "You're using a RobertaTokenizerFast tokenizer. Please note that with a fast tokenizer, using the `__call__` method is faster than using a method to encode the text followed by a call to the `pad` method to get a padded encoding.\n",
            "Saving model checkpoint to single_sentence_roberta/checkpoint-591\n",
            "Configuration saved in single_sentence_roberta/checkpoint-591/config.json\n",
            "Model weights saved in single_sentence_roberta/checkpoint-591/pytorch_model.bin\n",
            "tokenizer config file saved in single_sentence_roberta/checkpoint-591/tokenizer_config.json\n",
            "Special tokens file saved in single_sentence_roberta/checkpoint-591/special_tokens_map.json\n",
            "\n",
            "\n",
            "Training completed. Do not forget to share your model on huggingface.co/models =)\n",
            "\n",
            "\n",
            "Loading best model from single_sentence_roberta/checkpoint-394 (score: 1.517499566078186).\n",
            "Saving model checkpoint to single_sentence_roberta\n",
            "Configuration saved in single_sentence_roberta/config.json\n",
            "Model weights saved in single_sentence_roberta/pytorch_model.bin\n",
            "tokenizer config file saved in single_sentence_roberta/tokenizer_config.json\n",
            "Special tokens file saved in single_sentence_roberta/special_tokens_map.json\n"
          ]
        }
      ]
    },
    {
      "cell_type": "markdown",
      "source": [
        "##### Evaluation"
      ],
      "metadata": {
        "id": "JkAssy9C8u-y"
      }
    },
    {
      "cell_type": "code",
      "source": [
        "logits_b2 = exec_eval_pipeline(trainer_baseline_2, tokenizer_baseline_2, test_df, context=False)"
      ],
      "metadata": {
        "id": "OEZshhH6Kvnf",
        "colab": {
          "base_uri": "https://localhost:8080/",
          "height": 173,
          "referenced_widgets": [
            "5bc51e7b435e4d17a520e2480784d028",
            "455e4b3032f942bf8a0e400a2946509b",
            "d0a857ba47af4ae4ac63a2a37b1f834f",
            "a1660ef1fcc84f189c26e10537639999",
            "3f619fd3150b453f83b52eaa03e88be7",
            "81377debaa6e49b69d2c60034046a3fb",
            "6259f26e1a3d457099b391028ac4ff9a",
            "386fc0e283bc40f49af9cd1d9a6f3f3c",
            "3fce8790c6664e52be55fe93ae8ec8f9",
            "6db42f0d78004f8c940eb1b4a637fbee",
            "bd4440eab1b74942ba1e13eb385517dd"
          ]
        },
        "outputId": "c1d45a14-6489-49ca-a956-7d13fac3a04f"
      },
      "execution_count": null,
      "outputs": [
        {
          "output_type": "stream",
          "name": "stdout",
          "text": [
            "Processing test data\n"
          ]
        },
        {
          "output_type": "display_data",
          "data": {
            "text/plain": [
              "  0%|          | 0/3 [00:00<?, ?ba/s]"
            ],
            "application/vnd.jupyter.widget-view+json": {
              "version_major": 2,
              "version_minor": 0,
              "model_id": "5bc51e7b435e4d17a520e2480784d028"
            }
          },
          "metadata": {}
        },
        {
          "output_type": "stream",
          "name": "stderr",
          "text": [
            "***** Running Prediction *****\n",
            "  Num examples = 2878\n",
            "  Batch size = 128\n",
            "You're using a RobertaTokenizerFast tokenizer. Please note that with a fast tokenizer, using the `__call__` method is faster than using a method to encode the text followed by a call to the `pad` method to get a padded encoding.\n",
            "You're using a RobertaTokenizerFast tokenizer. Please note that with a fast tokenizer, using the `__call__` method is faster than using a method to encode the text followed by a call to the `pad` method to get a padded encoding.\n"
          ]
        },
        {
          "output_type": "display_data",
          "data": {
            "text/plain": [
              "<IPython.core.display.HTML object>"
            ],
            "text/html": []
          },
          "metadata": {}
        }
      ]
    },
    {
      "cell_type": "code",
      "execution_count": null,
      "metadata": {
        "colab": {
          "base_uri": "https://localhost:8080/"
        },
        "id": "44X6HZRIuHon",
        "outputId": "2a49a789-0221-41fb-8849-b9702529f469"
      },
      "outputs": [
        {
          "output_type": "stream",
          "name": "stdout",
          "text": [
            "                precision    recall  f1-score   support\n",
            "\n",
            "      PREAMBLE       0.97      0.93      0.95       507\n",
            "          NONE       0.91      0.85      0.88       190\n",
            "           FAC       0.67      0.71      0.69       581\n",
            "ARG_RESPONDENT       0.00      0.00      0.00        38\n",
            "           RLC       0.64      0.24      0.35       116\n",
            "ARG_PETITIONER       0.25      0.29      0.27        65\n",
            "      ANALYSIS       0.64      0.81      0.72       985\n",
            "    PRE_RELIED       0.80      0.30      0.44       142\n",
            "         RATIO       1.00      0.01      0.03        71\n",
            "           RPC       0.73      0.79      0.76        92\n",
            "         ISSUE       0.73      0.71      0.72        51\n",
            "           STA       0.57      0.57      0.57        28\n",
            "PRE_NOT_RELIED       0.00      0.00      0.00        12\n",
            "\n",
            "      accuracy                           0.72      2878\n",
            "     macro avg       0.61      0.48      0.49      2878\n",
            "  weighted avg       0.72      0.72      0.70      2878\n",
            "\n"
          ]
        },
        {
          "output_type": "stream",
          "name": "stderr",
          "text": [
            "/usr/local/lib/python3.8/dist-packages/sklearn/metrics/_classification.py:1318: UndefinedMetricWarning: Precision and F-score are ill-defined and being set to 0.0 in labels with no predicted samples. Use `zero_division` parameter to control this behavior.\n",
            "  _warn_prf(average, modifier, msg_start, len(result))\n",
            "/usr/local/lib/python3.8/dist-packages/sklearn/metrics/_classification.py:1318: UndefinedMetricWarning: Precision and F-score are ill-defined and being set to 0.0 in labels with no predicted samples. Use `zero_division` parameter to control this behavior.\n",
            "  _warn_prf(average, modifier, msg_start, len(result))\n",
            "/usr/local/lib/python3.8/dist-packages/sklearn/metrics/_classification.py:1318: UndefinedMetricWarning: Precision and F-score are ill-defined and being set to 0.0 in labels with no predicted samples. Use `zero_division` parameter to control this behavior.\n",
            "  _warn_prf(average, modifier, msg_start, len(result))\n"
          ]
        }
      ],
      "source": [
        "predictions_b2 = [np.argmax(pred) for pred in logits_b2]\n",
        "print(classification_report(labels_true, predictions_b2, target_names=label2id.keys()))"
      ]
    },
    {
      "cell_type": "markdown",
      "source": [
        "### Model 0 - Single Sentence InLegalBert + BiLSTM\n",
        "\n",
        "We then consider a model that utilizes a\n",
        "pre-trained BERT embedding module, specifically\n",
        "InLegalBERT, which was trained on Indian\n",
        "legal documents. The module is then followed by\n",
        "the integration of two Bi-LSTM layers and a linear\n",
        "classifier, with an average pooling operation performed at token level between the two LSTM layers"
      ],
      "metadata": {
        "id": "Xs_o3RLTxJTu"
      }
    },
    {
      "cell_type": "markdown",
      "source": [
        "#### Training"
      ],
      "metadata": {
        "id": "BM7RMoPWzWQb"
      }
    },
    {
      "cell_type": "code",
      "source": [
        "trainer_model_0, tokenizer_model_0 = exec_train_pipeline(model_name_M3, model_0, n_classes, batch_size=128, context = False, is_custom = True)"
      ],
      "metadata": {
        "colab": {
          "base_uri": "https://localhost:8080/",
          "height": 1000,
          "referenced_widgets": [
            "6c713a1b97ec4b838dd08dc5966d0089",
            "60e350a8067149c1851e1e8ec605e599",
            "8bfc9e9c19514aa1beb390a7c4de5098",
            "e418b23b195f4a11bd9ce123de990a29",
            "70c6f9487fb742fcbedc0d84b98280b6",
            "e608eb737ce248acacf8653de12d558b",
            "fc88bef1a5914e43ab8cd9cdd71a2f53",
            "306341e12c014e1fbeb817afac8e2ab4",
            "b08f0d4b815743a998aa09229e4069be",
            "20b9062636f74edf8d92e4e466cba1c9",
            "23610f958d05406faefce1eb81bf94ad",
            "09eca135e8ba4dcc9210d938377836d1",
            "543ee1c3add44e818ee6ee84cef58e35",
            "503d6799b26147779940e7a8138f4d79",
            "b64de85a97b74e51a9613996aeafd624",
            "c58ef69b00fa4a129bb2d0a7d44fffb9",
            "88e0260ecbab4dce9fb50961237d97e1",
            "27ed9b0478dd4966844b09ef89787ae5",
            "10a85b7574484fa2b8819cf649c4680a",
            "3f0b17c4043146ac901addf141124c90",
            "fcef858ca85e4f489e8ad554dcb7ddd2",
            "df994bfdf14d475889473a536ef9b679",
            "19ad2a4260df476d88b2e49152e78c13",
            "d4e991f519974e0784a9a628b6244d59",
            "ae4835a6ba554d37a2b33cde6afc2730",
            "3961c699cdfc4389b3e04e779db951f1",
            "bb2c8aca1a1d4c09a905cd4c1cef952b",
            "22d7afc9b3b04c738c59d36a2ef1bf24",
            "42099afa7e3e49da9f5e163228b43a86",
            "6d3a523c77384c83a9b6ed7551f5c915",
            "b4e4851bb46f47cbba25cb2eb6fced72",
            "9059b2ef1e844ebd951e6984f799cd29",
            "869f4fe3e1844e6a8e624974ff2d280a",
            "b01423d479f84048a9768feb16f1742e",
            "40981b075c9e43c1a0125616dd6500ea",
            "18bf582a240e461da598dddd87551a37",
            "e8f4f742108348b9a98e63fb8d32702d",
            "6e967d82b536408fae00569fdb964629",
            "69b96203a1be4c05a22040ef5dbdb66f",
            "49470fcb88fc4d8aa1d2961995258620",
            "5ceebc9a60b24aa3857c7edf0b072670",
            "2fa2e7d2c4304029867ec1478682f65a",
            "79278eb6b78f422b95efa673d641fbbf",
            "f7762fbe5b574b5392e143f055d41b07",
            "dafe1463d3624e999209c9b17a66645c",
            "3078d4d3e2144c3caae4818f9d4cac93",
            "e3817eb2143b4e388e22c7beaccd3d02",
            "b694fef2ba3e402caa5ba5430584ca61",
            "dcd406b9a33e436a99cc89c85171d988",
            "c1b589f639ea40c7a365fbc2ce593493",
            "10c1929e70fd4b39a9bbe8197267809d",
            "57a5042f3a284e7281cf1795fc5bff05",
            "3f8d4b3d1e9c4aa8b98807a296b391cb",
            "8e916b87632840c99c39f054cbc46e9b",
            "ec1ca79260ee47e292522c29abcd36b9",
            "50ba213b292941bebfd7dcce39442b6a",
            "077d6845c82b425aa7470052a8d68906",
            "dbb0032aef6a46e983556b05d0272ade",
            "5457996253db483a91dfd6d3335c365c",
            "95527bcf2a88468cad5ca8cc99576997",
            "7bf1bbe5065d4ad0bc6addf184cde047",
            "b53c147e0aef4adc8507e20c27163773",
            "6e1c675ed24b4998aec695dc7b766aac",
            "5ec5fa6aa77f47fda41bcae076579ed3",
            "187d263a42a041a68cf0a0c991fc0162",
            "3575fa8e3c2e41f0a09c500445f2eb79",
            "4d4040dbd8ea4c28a742e996d66003b4",
            "674a136d656f42c8953daf545144ccfa",
            "c895f4791e2b407b938c5646c1433ea7",
            "6f3c4a8aa805402db5d5ae04b3f9b5d6",
            "b09e594052754b6f86ffc16dd7a3c427",
            "28ed1aeeb8374bc5ae0a0dcb6bacd368",
            "5995ae74b8c349289c14caa4634c1789",
            "bda38965b9634725a6d9ad29e5e47474",
            "244a87112680424d98dce735135d0f8e",
            "af40ad85fb5f465fbd780a27bf2515e3",
            "a396cb8fd31c439dbfc19c4ec6ee49bf"
          ]
        },
        "id": "9-rv1fX3xIxh",
        "outputId": "010399e0-1100-47bb-f0a9-f1f75c08fddd"
      },
      "execution_count": null,
      "outputs": [
        {
          "output_type": "stream",
          "name": "stdout",
          "text": [
            "Cleaning memory...\n"
          ]
        },
        {
          "output_type": "display_data",
          "data": {
            "text/plain": [
              "Downloading (…)okenizer_config.json:   0%|          | 0.00/516 [00:00<?, ?B/s]"
            ],
            "application/vnd.jupyter.widget-view+json": {
              "version_major": 2,
              "version_minor": 0,
              "model_id": "6c713a1b97ec4b838dd08dc5966d0089"
            }
          },
          "metadata": {}
        },
        {
          "output_type": "display_data",
          "data": {
            "text/plain": [
              "Downloading (…)solve/main/vocab.txt:   0%|          | 0.00/222k [00:00<?, ?B/s]"
            ],
            "application/vnd.jupyter.widget-view+json": {
              "version_major": 2,
              "version_minor": 0,
              "model_id": "09eca135e8ba4dcc9210d938377836d1"
            }
          },
          "metadata": {}
        },
        {
          "output_type": "display_data",
          "data": {
            "text/plain": [
              "Downloading (…)cial_tokens_map.json:   0%|          | 0.00/112 [00:00<?, ?B/s]"
            ],
            "application/vnd.jupyter.widget-view+json": {
              "version_major": 2,
              "version_minor": 0,
              "model_id": "19ad2a4260df476d88b2e49152e78c13"
            }
          },
          "metadata": {}
        },
        {
          "output_type": "stream",
          "name": "stderr",
          "text": [
            "loading file vocab.txt from cache at /root/.cache/huggingface/hub/models--law-ai--InLegalBERT/snapshots/6dc9118c93627cca0137cf1df0fade4e84d5020e/vocab.txt\n",
            "loading file tokenizer.json from cache at None\n",
            "loading file added_tokens.json from cache at None\n",
            "loading file special_tokens_map.json from cache at /root/.cache/huggingface/hub/models--law-ai--InLegalBERT/snapshots/6dc9118c93627cca0137cf1df0fade4e84d5020e/special_tokens_map.json\n",
            "loading file tokenizer_config.json from cache at /root/.cache/huggingface/hub/models--law-ai--InLegalBERT/snapshots/6dc9118c93627cca0137cf1df0fade4e84d5020e/tokenizer_config.json\n"
          ]
        },
        {
          "output_type": "stream",
          "name": "stdout",
          "text": [
            "Downloading : law-ai/InLegalBERT\n"
          ]
        },
        {
          "output_type": "display_data",
          "data": {
            "text/plain": [
              "Downloading (…)lve/main/config.json:   0%|          | 0.00/671 [00:00<?, ?B/s]"
            ],
            "application/vnd.jupyter.widget-view+json": {
              "version_major": 2,
              "version_minor": 0,
              "model_id": "b01423d479f84048a9768feb16f1742e"
            }
          },
          "metadata": {}
        },
        {
          "output_type": "stream",
          "name": "stderr",
          "text": [
            "loading configuration file config.json from cache at /root/.cache/huggingface/hub/models--law-ai--InLegalBERT/snapshots/6dc9118c93627cca0137cf1df0fade4e84d5020e/config.json\n",
            "Model config BertConfig {\n",
            "  \"_name_or_path\": \"law-ai/InLegalBERT\",\n",
            "  \"architectures\": [\n",
            "    \"BertForPreTraining\"\n",
            "  ],\n",
            "  \"attention_probs_dropout_prob\": 0.1,\n",
            "  \"bos_token_id\": 0,\n",
            "  \"classifier_dropout\": null,\n",
            "  \"eos_token_ids\": 0,\n",
            "  \"hidden_act\": \"gelu\",\n",
            "  \"hidden_dropout_prob\": 0.1,\n",
            "  \"hidden_size\": 768,\n",
            "  \"id2label\": {\n",
            "    \"0\": \"PREAMBLE\",\n",
            "    \"1\": \"NONE\",\n",
            "    \"2\": \"FAC\",\n",
            "    \"3\": \"ARG_RESPONDENT\",\n",
            "    \"4\": \"RLC\",\n",
            "    \"5\": \"ARG_PETITIONER\",\n",
            "    \"6\": \"ANALYSIS\",\n",
            "    \"7\": \"PRE_RELIED\",\n",
            "    \"8\": \"RATIO\",\n",
            "    \"9\": \"RPC\",\n",
            "    \"10\": \"ISSUE\",\n",
            "    \"11\": \"STA\",\n",
            "    \"12\": \"PRE_NOT_RELIED\"\n",
            "  },\n",
            "  \"initializer_range\": 0.02,\n",
            "  \"intermediate_size\": 3072,\n",
            "  \"label2id\": {\n",
            "    \"ANALYSIS\": 6,\n",
            "    \"ARG_PETITIONER\": 5,\n",
            "    \"ARG_RESPONDENT\": 3,\n",
            "    \"FAC\": 2,\n",
            "    \"ISSUE\": 10,\n",
            "    \"NONE\": 1,\n",
            "    \"PREAMBLE\": 0,\n",
            "    \"PRE_NOT_RELIED\": 12,\n",
            "    \"PRE_RELIED\": 7,\n",
            "    \"RATIO\": 8,\n",
            "    \"RLC\": 4,\n",
            "    \"RPC\": 9,\n",
            "    \"STA\": 11\n",
            "  },\n",
            "  \"layer_norm_eps\": 1e-12,\n",
            "  \"max_position_embeddings\": 512,\n",
            "  \"model_type\": \"bert\",\n",
            "  \"num_attention_heads\": 12,\n",
            "  \"num_hidden_layers\": 12,\n",
            "  \"output_past\": true,\n",
            "  \"pad_token_id\": 0,\n",
            "  \"position_embedding_type\": \"absolute\",\n",
            "  \"transformers_version\": \"4.26.0\",\n",
            "  \"type_vocab_size\": 2,\n",
            "  \"use_cache\": false,\n",
            "  \"vocab_size\": 30522\n",
            "}\n",
            "\n"
          ]
        },
        {
          "output_type": "display_data",
          "data": {
            "text/plain": [
              "Downloading (…)\"pytorch_model.bin\";:   0%|          | 0.00/534M [00:00<?, ?B/s]"
            ],
            "application/vnd.jupyter.widget-view+json": {
              "version_major": 2,
              "version_minor": 0,
              "model_id": "dafe1463d3624e999209c9b17a66645c"
            }
          },
          "metadata": {}
        },
        {
          "output_type": "stream",
          "name": "stderr",
          "text": [
            "loading weights file pytorch_model.bin from cache at /root/.cache/huggingface/hub/models--law-ai--InLegalBERT/snapshots/6dc9118c93627cca0137cf1df0fade4e84d5020e/pytorch_model.bin\n",
            "Some weights of the model checkpoint at law-ai/InLegalBERT were not used when initializing BertModel: ['cls.predictions.transform.LayerNorm.weight', 'cls.predictions.decoder.bias', 'cls.predictions.transform.dense.weight', 'cls.predictions.bias', 'cls.predictions.transform.dense.bias', 'cls.seq_relationship.weight', 'cls.predictions.transform.LayerNorm.bias', 'cls.predictions.decoder.weight', 'cls.seq_relationship.bias']\n",
            "- This IS expected if you are initializing BertModel from the checkpoint of a model trained on another task or with another architecture (e.g. initializing a BertForSequenceClassification model from a BertForPreTraining model).\n",
            "- This IS NOT expected if you are initializing BertModel from the checkpoint of a model that you expect to be exactly identical (initializing a BertForSequenceClassification model from a BertForSequenceClassification model).\n",
            "All the weights of BertModel were initialized from the model checkpoint at law-ai/InLegalBERT.\n",
            "If your task is similar to the task the model of the checkpoint was trained on, you can already use BertModel for predictions without further training.\n"
          ]
        },
        {
          "output_type": "stream",
          "name": "stdout",
          "text": [
            "Processing training data\n"
          ]
        },
        {
          "output_type": "display_data",
          "data": {
            "text/plain": [
              "  0%|          | 0/26 [00:00<?, ?ba/s]"
            ],
            "application/vnd.jupyter.widget-view+json": {
              "version_major": 2,
              "version_minor": 0,
              "model_id": "50ba213b292941bebfd7dcce39442b6a"
            }
          },
          "metadata": {}
        },
        {
          "output_type": "stream",
          "name": "stdout",
          "text": [
            "Processing validation data\n"
          ]
        },
        {
          "output_type": "display_data",
          "data": {
            "text/plain": [
              "  0%|          | 0/4 [00:00<?, ?ba/s]"
            ],
            "application/vnd.jupyter.widget-view+json": {
              "version_major": 2,
              "version_minor": 0,
              "model_id": "4d4040dbd8ea4c28a742e996d66003b4"
            }
          },
          "metadata": {}
        },
        {
          "output_type": "stream",
          "name": "stderr",
          "text": [
            "PyTorch: setting up devices\n",
            "The default value for the training argument `--report_to` will change in v5 (from all installed integrations to none). In v5, you will need to use `--report_to all` to get the same behavior as now. You should start updating your code and make this info disappear :-).\n",
            "Using cuda_amp half precision backend\n",
            "The following columns in the training set don't have a corresponding argument in `BertSequenceClassifier.forward` and have been ignored: token_type_ids. If token_type_ids are not expected by `BertSequenceClassifier.forward`,  you can safely ignore this message.\n",
            "***** Running training *****\n",
            "  Num examples = 25178\n",
            "  Num Epochs = 3\n",
            "  Instantaneous batch size per device = 128\n",
            "  Total train batch size (w. parallel, distributed & accumulation) = 128\n",
            "  Gradient Accumulation steps = 1\n",
            "  Total optimization steps = 591\n",
            "  Number of trainable parameters = 113167117\n",
            "You're using a BertTokenizerFast tokenizer. Please note that with a fast tokenizer, using the `__call__` method is faster than using a method to encode the text followed by a call to the `pad` method to get a padded encoding.\n",
            "You're using a BertTokenizerFast tokenizer. Please note that with a fast tokenizer, using the `__call__` method is faster than using a method to encode the text followed by a call to the `pad` method to get a padded encoding.\n"
          ]
        },
        {
          "output_type": "display_data",
          "data": {
            "text/plain": [
              "<IPython.core.display.HTML object>"
            ],
            "text/html": [
              "\n",
              "    <div>\n",
              "      \n",
              "      <progress value='591' max='591' style='width:300px; height:20px; vertical-align: middle;'></progress>\n",
              "      [591/591 12:28, Epoch 3/3]\n",
              "    </div>\n",
              "    <table border=\"1\" class=\"dataframe\">\n",
              "  <thead>\n",
              " <tr style=\"text-align: left;\">\n",
              "      <th>Epoch</th>\n",
              "      <th>Training Loss</th>\n",
              "      <th>Validation Loss</th>\n",
              "      <th>Accuracy</th>\n",
              "      <th>Weighted f1</th>\n",
              "    </tr>\n",
              "  </thead>\n",
              "  <tbody>\n",
              "    <tr>\n",
              "      <td>1</td>\n",
              "      <td>2.210600</td>\n",
              "      <td>1.671797</td>\n",
              "      <td>0.615435</td>\n",
              "      <td>0.549958</td>\n",
              "    </tr>\n",
              "    <tr>\n",
              "      <td>2</td>\n",
              "      <td>1.845900</td>\n",
              "      <td>1.609665</td>\n",
              "      <td>0.650752</td>\n",
              "      <td>0.606160</td>\n",
              "    </tr>\n",
              "    <tr>\n",
              "      <td>3</td>\n",
              "      <td>1.740000</td>\n",
              "      <td>1.601834</td>\n",
              "      <td>0.654676</td>\n",
              "      <td>0.619234</td>\n",
              "    </tr>\n",
              "  </tbody>\n",
              "</table><p>"
            ]
          },
          "metadata": {}
        },
        {
          "output_type": "stream",
          "name": "stderr",
          "text": [
            "The following columns in the evaluation set don't have a corresponding argument in `BertSequenceClassifier.forward` and have been ignored: token_type_ids. If token_type_ids are not expected by `BertSequenceClassifier.forward`,  you can safely ignore this message.\n",
            "***** Running Evaluation *****\n",
            "  Num examples = 3058\n",
            "  Batch size = 128\n",
            "You're using a BertTokenizerFast tokenizer. Please note that with a fast tokenizer, using the `__call__` method is faster than using a method to encode the text followed by a call to the `pad` method to get a padded encoding.\n",
            "You're using a BertTokenizerFast tokenizer. Please note that with a fast tokenizer, using the `__call__` method is faster than using a method to encode the text followed by a call to the `pad` method to get a padded encoding.\n",
            "Saving model checkpoint to single_sentence_inlegalbert_bilstm/checkpoint-197\n",
            "Trainer.model is not a `PreTrainedModel`, only saving its state dict.\n",
            "tokenizer config file saved in single_sentence_inlegalbert_bilstm/checkpoint-197/tokenizer_config.json\n",
            "Special tokens file saved in single_sentence_inlegalbert_bilstm/checkpoint-197/special_tokens_map.json\n",
            "You're using a BertTokenizerFast tokenizer. Please note that with a fast tokenizer, using the `__call__` method is faster than using a method to encode the text followed by a call to the `pad` method to get a padded encoding.\n",
            "You're using a BertTokenizerFast tokenizer. Please note that with a fast tokenizer, using the `__call__` method is faster than using a method to encode the text followed by a call to the `pad` method to get a padded encoding.\n",
            "The following columns in the evaluation set don't have a corresponding argument in `BertSequenceClassifier.forward` and have been ignored: token_type_ids. If token_type_ids are not expected by `BertSequenceClassifier.forward`,  you can safely ignore this message.\n",
            "***** Running Evaluation *****\n",
            "  Num examples = 3058\n",
            "  Batch size = 128\n",
            "You're using a BertTokenizerFast tokenizer. Please note that with a fast tokenizer, using the `__call__` method is faster than using a method to encode the text followed by a call to the `pad` method to get a padded encoding.\n",
            "You're using a BertTokenizerFast tokenizer. Please note that with a fast tokenizer, using the `__call__` method is faster than using a method to encode the text followed by a call to the `pad` method to get a padded encoding.\n",
            "Saving model checkpoint to single_sentence_inlegalbert_bilstm/checkpoint-394\n",
            "Trainer.model is not a `PreTrainedModel`, only saving its state dict.\n",
            "tokenizer config file saved in single_sentence_inlegalbert_bilstm/checkpoint-394/tokenizer_config.json\n",
            "Special tokens file saved in single_sentence_inlegalbert_bilstm/checkpoint-394/special_tokens_map.json\n",
            "You're using a BertTokenizerFast tokenizer. Please note that with a fast tokenizer, using the `__call__` method is faster than using a method to encode the text followed by a call to the `pad` method to get a padded encoding.\n",
            "You're using a BertTokenizerFast tokenizer. Please note that with a fast tokenizer, using the `__call__` method is faster than using a method to encode the text followed by a call to the `pad` method to get a padded encoding.\n",
            "The following columns in the evaluation set don't have a corresponding argument in `BertSequenceClassifier.forward` and have been ignored: token_type_ids. If token_type_ids are not expected by `BertSequenceClassifier.forward`,  you can safely ignore this message.\n",
            "***** Running Evaluation *****\n",
            "  Num examples = 3058\n",
            "  Batch size = 128\n",
            "You're using a BertTokenizerFast tokenizer. Please note that with a fast tokenizer, using the `__call__` method is faster than using a method to encode the text followed by a call to the `pad` method to get a padded encoding.\n",
            "You're using a BertTokenizerFast tokenizer. Please note that with a fast tokenizer, using the `__call__` method is faster than using a method to encode the text followed by a call to the `pad` method to get a padded encoding.\n",
            "Saving model checkpoint to single_sentence_inlegalbert_bilstm/checkpoint-591\n",
            "Trainer.model is not a `PreTrainedModel`, only saving its state dict.\n",
            "tokenizer config file saved in single_sentence_inlegalbert_bilstm/checkpoint-591/tokenizer_config.json\n",
            "Special tokens file saved in single_sentence_inlegalbert_bilstm/checkpoint-591/special_tokens_map.json\n",
            "\n",
            "\n",
            "Training completed. Do not forget to share your model on huggingface.co/models =)\n",
            "\n",
            "\n",
            "Loading best model from single_sentence_inlegalbert_bilstm/checkpoint-591 (score: 1.6018335819244385).\n",
            "Saving model checkpoint to single_sentence_inlegalbert_bilstm\n",
            "Trainer.model is not a `PreTrainedModel`, only saving its state dict.\n",
            "tokenizer config file saved in single_sentence_inlegalbert_bilstm/tokenizer_config.json\n",
            "Special tokens file saved in single_sentence_inlegalbert_bilstm/special_tokens_map.json\n"
          ]
        }
      ]
    },
    {
      "cell_type": "markdown",
      "source": [
        "#### Evaluation"
      ],
      "metadata": {
        "id": "XC1yXbmtzX1l"
      }
    },
    {
      "cell_type": "code",
      "source": [
        "logits_m0 = exec_eval_pipeline(trainer_model_0, tokenizer_model_0, test_df, context=False)"
      ],
      "metadata": {
        "id": "x1Bsp5vYyE6A",
        "colab": {
          "base_uri": "https://localhost:8080/",
          "height": 190,
          "referenced_widgets": [
            "3d81869dfcdb486cb89780b6f0abc3c0",
            "f79f410a28fc4c829101f8716974436c",
            "6020c957f79d4509bb593ae2dea09b73",
            "0a2a7f9622cb4ce797b309536046e9da",
            "e2a253b67eef4cdcb396a47524b8ad54",
            "f5e69dc46bef436cbaaa6dac09147ba2",
            "9c09e3e8283346bb802a0b5756b1ce0a",
            "2b0c3de24e74421eabab45b18fbec295",
            "cd333d618a944385a49cc61f451a0936",
            "1c8cdac4e14e471c9da59f3a0bf0274f",
            "116b834fcfa34880a11460ba9840678b"
          ]
        },
        "outputId": "4b516130-b125-46c9-d2ff-1859fadedaac"
      },
      "execution_count": null,
      "outputs": [
        {
          "output_type": "stream",
          "name": "stdout",
          "text": [
            "Processing test data\n"
          ]
        },
        {
          "output_type": "display_data",
          "data": {
            "text/plain": [
              "  0%|          | 0/3 [00:00<?, ?ba/s]"
            ],
            "application/vnd.jupyter.widget-view+json": {
              "version_major": 2,
              "version_minor": 0,
              "model_id": "3d81869dfcdb486cb89780b6f0abc3c0"
            }
          },
          "metadata": {}
        },
        {
          "output_type": "stream",
          "name": "stderr",
          "text": [
            "The following columns in the test set don't have a corresponding argument in `BertSequenceClassifier.forward` and have been ignored: token_type_ids. If token_type_ids are not expected by `BertSequenceClassifier.forward`,  you can safely ignore this message.\n",
            "***** Running Prediction *****\n",
            "  Num examples = 2878\n",
            "  Batch size = 128\n",
            "You're using a BertTokenizerFast tokenizer. Please note that with a fast tokenizer, using the `__call__` method is faster than using a method to encode the text followed by a call to the `pad` method to get a padded encoding.\n",
            "You're using a BertTokenizerFast tokenizer. Please note that with a fast tokenizer, using the `__call__` method is faster than using a method to encode the text followed by a call to the `pad` method to get a padded encoding.\n"
          ]
        },
        {
          "output_type": "display_data",
          "data": {
            "text/plain": [
              "<IPython.core.display.HTML object>"
            ],
            "text/html": []
          },
          "metadata": {}
        }
      ]
    },
    {
      "cell_type": "code",
      "source": [
        "predictions_m0 = [np.argmax(pred) for pred in logits_m0]\n",
        "print(classification_report(labels_true, predictions_m0, target_names=label2id.keys()))"
      ],
      "metadata": {
        "id": "4d-pacCayIWT",
        "colab": {
          "base_uri": "https://localhost:8080/"
        },
        "outputId": "b03e9b11-7969-4337-e9cc-d43ec77ff0de"
      },
      "execution_count": null,
      "outputs": [
        {
          "output_type": "stream",
          "name": "stdout",
          "text": [
            "                precision    recall  f1-score   support\n",
            "\n",
            "      PREAMBLE       0.89      0.66      0.76       507\n",
            "          NONE       0.89      0.83      0.86       190\n",
            "           FAC       0.61      0.80      0.70       581\n",
            "ARG_RESPONDENT       0.00      0.00      0.00        38\n",
            "           RLC       0.00      0.00      0.00       116\n",
            "ARG_PETITIONER       0.60      0.05      0.09        65\n",
            "      ANALYSIS       0.59      0.84      0.69       985\n",
            "    PRE_RELIED       0.63      0.08      0.15       142\n",
            "         RATIO       0.00      0.00      0.00        71\n",
            "           RPC       0.55      0.79      0.65        92\n",
            "         ISSUE       0.00      0.00      0.00        51\n",
            "           STA       0.00      0.00      0.00        28\n",
            "PRE_NOT_RELIED       0.00      0.00      0.00        12\n",
            "\n",
            "      accuracy                           0.65      2878\n",
            "     macro avg       0.37      0.31      0.30      2878\n",
            "  weighted avg       0.60      0.65      0.60      2878\n",
            "\n"
          ]
        },
        {
          "output_type": "stream",
          "name": "stderr",
          "text": [
            "/usr/local/lib/python3.8/dist-packages/sklearn/metrics/_classification.py:1318: UndefinedMetricWarning: Precision and F-score are ill-defined and being set to 0.0 in labels with no predicted samples. Use `zero_division` parameter to control this behavior.\n",
            "  _warn_prf(average, modifier, msg_start, len(result))\n",
            "/usr/local/lib/python3.8/dist-packages/sklearn/metrics/_classification.py:1318: UndefinedMetricWarning: Precision and F-score are ill-defined and being set to 0.0 in labels with no predicted samples. Use `zero_division` parameter to control this behavior.\n",
            "  _warn_prf(average, modifier, msg_start, len(result))\n",
            "/usr/local/lib/python3.8/dist-packages/sklearn/metrics/_classification.py:1318: UndefinedMetricWarning: Precision and F-score are ill-defined and being set to 0.0 in labels with no predicted samples. Use `zero_division` parameter to control this behavior.\n",
            "  _warn_prf(average, modifier, msg_start, len(result))\n"
          ]
        }
      ]
    },
    {
      "cell_type": "markdown",
      "source": [
        "## Context aware models\n",
        "\n",
        "Drawing inspiration from [RR segmentation paper](https://arxiv.org/pdf/2112.01836.pdf), we propose a solution that enables reasoning on the context of the sentences when classifying.\n",
        "We evaluate two models with the same architecture as the baselines, utilizing pre-trained transformers, Legal-RoBERTa and InLegalBert (respectively pre-trained on american legal documents and indian legal documents). These models are fed with the sentence and its context to enable the BERT modules to generate contextually enriched sentence embeddings, which are then fed into a linear classifier to output classes predictions."
      ],
      "metadata": {
        "id": "TateOOEmv1In"
      }
    },
    {
      "cell_type": "markdown",
      "source": [
        "#### Model 1 - Context aware Legal RoBERTa"
      ],
      "metadata": {
        "id": "NO2omMz1sEL3"
      }
    },
    {
      "cell_type": "markdown",
      "source": [
        "##### Training"
      ],
      "metadata": {
        "id": "V4u3YFan98HN"
      }
    },
    {
      "cell_type": "code",
      "source": [
        "trainer_model_1, tokenizer_model_1 = exec_train_pipeline(model_name_M2, model_1, n_classes, context=True)"
      ],
      "metadata": {
        "colab": {
          "base_uri": "https://localhost:8080/",
          "height": 1000,
          "referenced_widgets": [
            "c2b7799bd61e4939ab90fe8ab68bceb6",
            "b4b3e82f29de4026a96b99e2c16fb5ef",
            "4802ae447c7a461da81b101d565158d7",
            "5f767635ba80453490bd9bb181452137",
            "38608132ffcb48deb01796a5a28949a6",
            "a4ab3d1198ce49ab892835ec90004c40",
            "8705e3a31cef4218ad4066f6d8d1cad5",
            "43d94064ad0443e2ba1a48e85cca254e",
            "545d9c264c1b4b3da91d74a576683ef3",
            "341fa92bbd984e00b23f054645a7de38",
            "8935e823224b43a6bb10936edb1ed18a",
            "da79018d14e64ee7a354b756d3be6238",
            "d05dfdf0f5ed49f1910596e2fe75e499",
            "4ffcb36dbe0b4b45b991ffb96832e7b7",
            "b5904a97f244441d82a367397e53f718",
            "75d966927aa54ebc9d60bb0159dec089",
            "1d975699a79e4f4ebc4ac4b2ef148425",
            "825f9534a9b94866b808eb497ba073ae",
            "da4fa9e327ba4e179763d49d9bde0d64",
            "6efbec83659849db9875ddc81c76a622",
            "247b6123f8b145ca86de09aa182d238d",
            "c7a4e6a6bb0b4a4cbb20f8d16df1009d",
            "53fd8887b60a412990378b1cba8b7ec8",
            "7de33cbf326e4935805dc5ec25b921e5",
            "a1e94e80d4b4428e8e217e9ddd582944",
            "f0ab8e1a0082462bb93b0c00e6ce03b0",
            "e21ab7cfbfa34ec0b26b484432c91013",
            "5dbc7fcb7d734646b868e5f274fff439",
            "d5fab6d0cca44b3dac9f8feecc632503",
            "e5eca9334e15424cb3ffa9d6efea5204",
            "82507c3033f24f329853ff12eb5971c5",
            "21cdd5a66f804cc7b80b6db6c44c6af4",
            "d59fc01fa75d4e67a8af1ec3d5cb9780",
            "9ba24f550e6c4e84a1f717cf7e052a9d",
            "4ac38d046f364e64a091e50866a0a2c5",
            "c6ab5eef34924b6785db5159653d9020",
            "a4b0eaac1b4c486e981cf37324479445",
            "6a1d237336244bd8a90b7512f4a39a35",
            "3881d0d9e1164f1eb8d052bf10f0da07",
            "2f9cfa489d184e8dbd02aa8190715b66",
            "283bfe6f01994021b1c71bf78a2001aa",
            "e16d0d90759b4f99aee13a89f4211415",
            "0f8af126e324475aba1ff48387fefb56",
            "e25094a3acd64c4abd3c3a01a976820c",
            "2f804d4602024935b3da6db8b1b46be3",
            "280ff97ecfdb4c99831fd3afdc7e28fa",
            "afb52c617f0844d39e360fc4f03a10c5",
            "45ea767f2f7c4b2b9486ef8fa27baf4f",
            "0f16b7264c084fcb81ff43a0061cf334",
            "419b069f64474ed3bad978846951ba35",
            "aeadc599cc0846f8bd9b447ad808a53a",
            "777c59e0369246feab2dd5806f7ca55f",
            "5dcd9bb025624f569e199517daddcb0c",
            "d82fb92db42240c882259d48cb065bd6",
            "5051fa1037974869b62eaf96de2c9038",
            "8b364513f7824d55805f1d94e1a8c17d",
            "476c3f6153f745c1961fb30439270c41",
            "4465df5cb3e346f0b3f3c3d6e15ec167",
            "373715ec8ef041d0b9f18c557055b5a9",
            "377026ffaa4c4ac0a9a02c5b0336e60e",
            "526ac4f7e8ed42e1b7b180b2a2ae19e8",
            "245abdb6b41e4cafa46b51509385e54f",
            "399cb8cf603141289924309927a49c76",
            "a75c4fe1f0bb4aeebb5afa44ff4b86cc",
            "f5e763b2e0984f5ab4f84733a5485d09",
            "c6e88cdcfd9547e48d0d3c02ec99353b",
            "3d4ea4e20947498594f1799f70320938",
            "d9d2e7bbef344c7588677647e1b0de75",
            "bf9884ed69854bab93d2822360e50dce",
            "b29f4223ab8c472899e66e8eff495bf5",
            "85da4928c50d462da403ae42316e252c",
            "68b691a93f0d4d349ffd291bf4ef6634",
            "8ece40003dd040e18fc5a0e686fc6468",
            "d5ae9d4809d64c08a7daec1a63663dd7",
            "f0fa47e3fa024129b826ea67d524f4a9",
            "9f18b4bf42014b9aa88c1df77789391d",
            "0e9a2ccb1d4b4a20970cb56772a20ac7",
            "3944af0bc9e549f8bfdcd127a7769786",
            "bc731860203f4172a898bf13ea2c9b5d",
            "08707712d8964cfeb30d7ebae6509ff2",
            "79c975560b724c6393c1b679ba305f89",
            "47967c85652b4858add18c663897970d",
            "f06a64bb499f4103b4d0190a7d8988a4",
            "a8e1eb85b2bf44ef8f5b2a4b215d04e7",
            "bbafb20b7754480686da2490bf0701fc",
            "86a3619a57ff479db0444c4392834e0f",
            "fe06578687474ae3a3a00bfdd91eb1a6",
            "b2470cc55b774022ae5905762b713909",
            "24c879e2083b4fabb41aa09899f4ba4f",
            "f4ae5c6e859f488b847248e853f00775",
            "85c7a66b73cf4855bcedac2571f787e7",
            "365ebd93504443f08890ecfb75051e09",
            "bbdb2c06338543e48cf14152ca2f791f",
            "d960eea797174a1a9f0a6969fd6b70ce",
            "37202b3a43f543c1a12834303398f7f3",
            "058ffad87ea54b619d5ad41de52d1893",
            "79172ff8a4b84bdc949a2099fe0c76e8",
            "7d2ec362519a4330865f511be25e52ce",
            "a35cadbb514841fd8cab378a9223ec2d",
            "760db52ed6ef441898b167fac9b15462",
            "2826a021aea74610a11448ff3e5363ea",
            "3a8a46e8fb474b4192ae6dce425d8e42",
            "140c78acfae143179d301b80f90dc633",
            "df09efabf7774b8d9397fd4cec417703",
            "eff91264aa434f4c90592a863a9e5fb5",
            "50a33e40a4324245a5cc050a144de07f",
            "ae5c75e3867e48cd8286539c242f72e2",
            "7d923868e48c48e8a0730d125c4e30d8",
            "8aa16022356440a89209aa222fcf2bb1",
            "af6a12704fa446eea466552545977c1c"
          ]
        },
        "id": "x3Dh4jDpsThp",
        "outputId": "25c97f32-0915-429b-9598-366398bbd0ec"
      },
      "execution_count": null,
      "outputs": [
        {
          "output_type": "stream",
          "name": "stdout",
          "text": [
            "Cleaning memory...\n"
          ]
        },
        {
          "output_type": "display_data",
          "data": {
            "text/plain": [
              "Downloading (…)okenizer_config.json:   0%|          | 0.00/1.11k [00:00<?, ?B/s]"
            ],
            "application/vnd.jupyter.widget-view+json": {
              "version_major": 2,
              "version_minor": 0,
              "model_id": "c2b7799bd61e4939ab90fe8ab68bceb6"
            }
          },
          "metadata": {}
        },
        {
          "output_type": "display_data",
          "data": {
            "text/plain": [
              "Downloading (…)lve/main/config.json:   0%|          | 0.00/578 [00:00<?, ?B/s]"
            ],
            "application/vnd.jupyter.widget-view+json": {
              "version_major": 2,
              "version_minor": 0,
              "model_id": "da79018d14e64ee7a354b756d3be6238"
            }
          },
          "metadata": {}
        },
        {
          "output_type": "display_data",
          "data": {
            "text/plain": [
              "Downloading (…)olve/main/vocab.json:   0%|          | 0.00/899k [00:00<?, ?B/s]"
            ],
            "application/vnd.jupyter.widget-view+json": {
              "version_major": 2,
              "version_minor": 0,
              "model_id": "53fd8887b60a412990378b1cba8b7ec8"
            }
          },
          "metadata": {}
        },
        {
          "output_type": "display_data",
          "data": {
            "text/plain": [
              "Downloading (…)olve/main/merges.txt:   0%|          | 0.00/456k [00:00<?, ?B/s]"
            ],
            "application/vnd.jupyter.widget-view+json": {
              "version_major": 2,
              "version_minor": 0,
              "model_id": "9ba24f550e6c4e84a1f717cf7e052a9d"
            }
          },
          "metadata": {}
        },
        {
          "output_type": "display_data",
          "data": {
            "text/plain": [
              "Downloading (…)cial_tokens_map.json:   0%|          | 0.00/772 [00:00<?, ?B/s]"
            ],
            "application/vnd.jupyter.widget-view+json": {
              "version_major": 2,
              "version_minor": 0,
              "model_id": "2f804d4602024935b3da6db8b1b46be3"
            }
          },
          "metadata": {}
        },
        {
          "output_type": "stream",
          "name": "stdout",
          "text": [
            "Downloading : saibo/legal-roberta-base\n"
          ]
        },
        {
          "output_type": "display_data",
          "data": {
            "text/plain": [
              "Downloading (…)\"pytorch_model.bin\";:   0%|          | 0.00/499M [00:00<?, ?B/s]"
            ],
            "application/vnd.jupyter.widget-view+json": {
              "version_major": 2,
              "version_minor": 0,
              "model_id": "8b364513f7824d55805f1d94e1a8c17d"
            }
          },
          "metadata": {}
        },
        {
          "output_type": "stream",
          "name": "stderr",
          "text": [
            "Some weights of the model checkpoint at saibo/legal-roberta-base were not used when initializing RobertaForSequenceClassification: ['lm_head.layer_norm.weight', 'lm_head.dense.bias', 'lm_head.decoder.weight', 'lm_head.decoder.bias', 'lm_head.layer_norm.bias', 'lm_head.bias', 'lm_head.dense.weight']\n",
            "- This IS expected if you are initializing RobertaForSequenceClassification from the checkpoint of a model trained on another task or with another architecture (e.g. initializing a BertForSequenceClassification model from a BertForPreTraining model).\n",
            "- This IS NOT expected if you are initializing RobertaForSequenceClassification from the checkpoint of a model that you expect to be exactly identical (initializing a BertForSequenceClassification model from a BertForSequenceClassification model).\n",
            "Some weights of RobertaForSequenceClassification were not initialized from the model checkpoint at saibo/legal-roberta-base and are newly initialized: ['classifier.out_proj.weight', 'classifier.dense.bias', 'classifier.out_proj.bias', 'classifier.dense.weight']\n",
            "You should probably TRAIN this model on a down-stream task to be able to use it for predictions and inference.\n"
          ]
        },
        {
          "output_type": "stream",
          "name": "stdout",
          "text": [
            "Processing training data\n"
          ]
        },
        {
          "output_type": "display_data",
          "data": {
            "text/plain": [
              "  0%|          | 0/26 [00:00<?, ?ba/s]"
            ],
            "application/vnd.jupyter.widget-view+json": {
              "version_major": 2,
              "version_minor": 0,
              "model_id": "3d4ea4e20947498594f1799f70320938"
            }
          },
          "metadata": {}
        },
        {
          "output_type": "stream",
          "name": "stdout",
          "text": [
            "Processing validation data\n"
          ]
        },
        {
          "output_type": "display_data",
          "data": {
            "text/plain": [
              "  0%|          | 0/4 [00:00<?, ?ba/s]"
            ],
            "application/vnd.jupyter.widget-view+json": {
              "version_major": 2,
              "version_minor": 0,
              "model_id": "3944af0bc9e549f8bfdcd127a7769786"
            }
          },
          "metadata": {}
        },
        {
          "output_type": "stream",
          "name": "stderr",
          "text": [
            "Using cuda_amp half precision backend\n",
            "/usr/local/lib/python3.8/dist-packages/accelerate/memory_utils.py:23: FutureWarning: memory_utils has been reorganized to utils.memory. Import `find_executable_batchsize` from the main `__init__`: `from accelerate import find_executable_batch_size` to avoid this warning.\n",
            "  warnings.warn(\n",
            "***** Running training *****\n",
            "  Num examples = 25178\n",
            "  Num Epochs = 3\n",
            "  Instantaneous batch size per device = 16\n",
            "  Total train batch size (w. parallel, distributed & accumulation) = 16\n",
            "  Gradient Accumulation steps = 1\n",
            "  Total optimization steps = 4722\n",
            "  Number of trainable parameters = 124655629\n",
            "You're using a RobertaTokenizerFast tokenizer. Please note that with a fast tokenizer, using the `__call__` method is faster than using a method to encode the text followed by a call to the `pad` method to get a padded encoding.\n",
            "You're using a RobertaTokenizerFast tokenizer. Please note that with a fast tokenizer, using the `__call__` method is faster than using a method to encode the text followed by a call to the `pad` method to get a padded encoding.\n"
          ]
        },
        {
          "output_type": "display_data",
          "data": {
            "text/plain": [
              "<IPython.core.display.HTML object>"
            ],
            "text/html": [
              "\n",
              "    <div>\n",
              "      \n",
              "      <progress value='4722' max='4722' style='width:300px; height:20px; vertical-align: middle;'></progress>\n",
              "      [4722/4722 55:19, Epoch 3/3]\n",
              "    </div>\n",
              "    <table border=\"1\" class=\"dataframe\">\n",
              "  <thead>\n",
              " <tr style=\"text-align: left;\">\n",
              "      <th>Epoch</th>\n",
              "      <th>Training Loss</th>\n",
              "      <th>Validation Loss</th>\n",
              "      <th>Accuracy</th>\n",
              "      <th>Weighted f1</th>\n",
              "    </tr>\n",
              "  </thead>\n",
              "  <tbody>\n",
              "    <tr>\n",
              "      <td>1</td>\n",
              "      <td>1.241800</td>\n",
              "      <td>1.476661</td>\n",
              "      <td>0.727927</td>\n",
              "      <td>0.729940</td>\n",
              "    </tr>\n",
              "    <tr>\n",
              "      <td>2</td>\n",
              "      <td>1.106000</td>\n",
              "      <td>1.447848</td>\n",
              "      <td>0.764225</td>\n",
              "      <td>0.765040</td>\n",
              "    </tr>\n",
              "    <tr>\n",
              "      <td>3</td>\n",
              "      <td>1.068200</td>\n",
              "      <td>1.512816</td>\n",
              "      <td>0.758993</td>\n",
              "      <td>0.764114</td>\n",
              "    </tr>\n",
              "  </tbody>\n",
              "</table><p>"
            ]
          },
          "metadata": {}
        },
        {
          "output_type": "stream",
          "name": "stderr",
          "text": [
            "***** Running Evaluation *****\n",
            "  Num examples = 3058\n",
            "  Batch size = 16\n",
            "You're using a RobertaTokenizerFast tokenizer. Please note that with a fast tokenizer, using the `__call__` method is faster than using a method to encode the text followed by a call to the `pad` method to get a padded encoding.\n",
            "You're using a RobertaTokenizerFast tokenizer. Please note that with a fast tokenizer, using the `__call__` method is faster than using a method to encode the text followed by a call to the `pad` method to get a padded encoding.\n"
          ]
        },
        {
          "output_type": "display_data",
          "data": {
            "text/plain": [
              "Downloading builder script:   0%|          | 0.00/4.20k [00:00<?, ?B/s]"
            ],
            "application/vnd.jupyter.widget-view+json": {
              "version_major": 2,
              "version_minor": 0,
              "model_id": "24c879e2083b4fabb41aa09899f4ba4f"
            }
          },
          "metadata": {}
        },
        {
          "output_type": "display_data",
          "data": {
            "text/plain": [
              "Downloading builder script:   0%|          | 0.00/6.77k [00:00<?, ?B/s]"
            ],
            "application/vnd.jupyter.widget-view+json": {
              "version_major": 2,
              "version_minor": 0,
              "model_id": "760db52ed6ef441898b167fac9b15462"
            }
          },
          "metadata": {}
        },
        {
          "output_type": "stream",
          "name": "stderr",
          "text": [
            "Saving model checkpoint to context_aware_legal_roberta/checkpoint-1574\n",
            "Configuration saved in context_aware_legal_roberta/checkpoint-1574/config.json\n",
            "Model weights saved in context_aware_legal_roberta/checkpoint-1574/pytorch_model.bin\n",
            "tokenizer config file saved in context_aware_legal_roberta/checkpoint-1574/tokenizer_config.json\n",
            "Special tokens file saved in context_aware_legal_roberta/checkpoint-1574/special_tokens_map.json\n",
            "You're using a RobertaTokenizerFast tokenizer. Please note that with a fast tokenizer, using the `__call__` method is faster than using a method to encode the text followed by a call to the `pad` method to get a padded encoding.\n",
            "You're using a RobertaTokenizerFast tokenizer. Please note that with a fast tokenizer, using the `__call__` method is faster than using a method to encode the text followed by a call to the `pad` method to get a padded encoding.\n",
            "***** Running Evaluation *****\n",
            "  Num examples = 3058\n",
            "  Batch size = 16\n",
            "You're using a RobertaTokenizerFast tokenizer. Please note that with a fast tokenizer, using the `__call__` method is faster than using a method to encode the text followed by a call to the `pad` method to get a padded encoding.\n",
            "You're using a RobertaTokenizerFast tokenizer. Please note that with a fast tokenizer, using the `__call__` method is faster than using a method to encode the text followed by a call to the `pad` method to get a padded encoding.\n",
            "Saving model checkpoint to context_aware_legal_roberta/checkpoint-3148\n",
            "Configuration saved in context_aware_legal_roberta/checkpoint-3148/config.json\n",
            "Model weights saved in context_aware_legal_roberta/checkpoint-3148/pytorch_model.bin\n",
            "tokenizer config file saved in context_aware_legal_roberta/checkpoint-3148/tokenizer_config.json\n",
            "Special tokens file saved in context_aware_legal_roberta/checkpoint-3148/special_tokens_map.json\n",
            "You're using a RobertaTokenizerFast tokenizer. Please note that with a fast tokenizer, using the `__call__` method is faster than using a method to encode the text followed by a call to the `pad` method to get a padded encoding.\n",
            "You're using a RobertaTokenizerFast tokenizer. Please note that with a fast tokenizer, using the `__call__` method is faster than using a method to encode the text followed by a call to the `pad` method to get a padded encoding.\n",
            "***** Running Evaluation *****\n",
            "  Num examples = 3058\n",
            "  Batch size = 16\n",
            "You're using a RobertaTokenizerFast tokenizer. Please note that with a fast tokenizer, using the `__call__` method is faster than using a method to encode the text followed by a call to the `pad` method to get a padded encoding.\n",
            "You're using a RobertaTokenizerFast tokenizer. Please note that with a fast tokenizer, using the `__call__` method is faster than using a method to encode the text followed by a call to the `pad` method to get a padded encoding.\n",
            "Saving model checkpoint to context_aware_legal_roberta/checkpoint-4722\n",
            "Configuration saved in context_aware_legal_roberta/checkpoint-4722/config.json\n",
            "Model weights saved in context_aware_legal_roberta/checkpoint-4722/pytorch_model.bin\n",
            "tokenizer config file saved in context_aware_legal_roberta/checkpoint-4722/tokenizer_config.json\n",
            "Special tokens file saved in context_aware_legal_roberta/checkpoint-4722/special_tokens_map.json\n",
            "\n",
            "\n",
            "Training completed. Do not forget to share your model on huggingface.co/models =)\n",
            "\n",
            "\n",
            "Loading best model from context_aware_legal_roberta/checkpoint-3148 (score: 1.447847843170166).\n",
            "Saving model checkpoint to context_aware_legal_roberta\n",
            "Configuration saved in context_aware_legal_roberta/config.json\n",
            "Model weights saved in context_aware_legal_roberta/pytorch_model.bin\n",
            "tokenizer config file saved in context_aware_legal_roberta/tokenizer_config.json\n",
            "Special tokens file saved in context_aware_legal_roberta/special_tokens_map.json\n"
          ]
        }
      ]
    },
    {
      "cell_type": "markdown",
      "source": [
        "##### Evaluation"
      ],
      "metadata": {
        "id": "rqLCVJkKd_fI"
      }
    },
    {
      "cell_type": "code",
      "source": [
        "logits_m1 = exec_eval_pipeline(trainer_model_1, tokenizer_model_1, test_df, context=True)"
      ],
      "metadata": {
        "colab": {
          "base_uri": "https://localhost:8080/",
          "height": 173,
          "referenced_widgets": [
            "0120e13b5f324c89b7f4c6879392b916",
            "b6c175dc711e47f6b716fe2d95c3206d",
            "b3eef26bd77e4393affdcbb31f75bdc0",
            "8d33f147e3224f958bc12e5a134ad21d",
            "670ae9eaeccf4b29aa63388c11d59bb9",
            "d864874ec8194a618a8fa8b9cbc682b7",
            "54f8b29fc61f4179b91f2157ca368b44",
            "c162b088c0f448bd94d19533ff6b199a",
            "6e218ea9a6114777a50d61d4f74a4699",
            "fdb51dad31f9423bb171ef25dc99e020",
            "e6be3cf820734d9bbedeb32b55e75eaf"
          ]
        },
        "id": "Hqv0wD52qwzO",
        "outputId": "046d3007-c9e9-44d1-b09f-152b2cf29ad0"
      },
      "execution_count": null,
      "outputs": [
        {
          "output_type": "stream",
          "name": "stdout",
          "text": [
            "Processing test data\n"
          ]
        },
        {
          "output_type": "display_data",
          "data": {
            "text/plain": [
              "  0%|          | 0/3 [00:00<?, ?ba/s]"
            ],
            "application/vnd.jupyter.widget-view+json": {
              "version_major": 2,
              "version_minor": 0,
              "model_id": "0120e13b5f324c89b7f4c6879392b916"
            }
          },
          "metadata": {}
        },
        {
          "output_type": "stream",
          "name": "stderr",
          "text": [
            "***** Running Prediction *****\n",
            "  Num examples = 2878\n",
            "  Batch size = 16\n",
            "You're using a RobertaTokenizerFast tokenizer. Please note that with a fast tokenizer, using the `__call__` method is faster than using a method to encode the text followed by a call to the `pad` method to get a padded encoding.\n",
            "You're using a RobertaTokenizerFast tokenizer. Please note that with a fast tokenizer, using the `__call__` method is faster than using a method to encode the text followed by a call to the `pad` method to get a padded encoding.\n"
          ]
        },
        {
          "output_type": "display_data",
          "data": {
            "text/plain": [
              "<IPython.core.display.HTML object>"
            ],
            "text/html": []
          },
          "metadata": {}
        }
      ]
    },
    {
      "cell_type": "code",
      "source": [
        "predictions_m1 = [np.argmax(pred) for pred in logits_m1]\n",
        "print(classification_report(labels_true, predictions_m1, target_names=label2id.keys()))"
      ],
      "metadata": {
        "colab": {
          "base_uri": "https://localhost:8080/"
        },
        "id": "5QPG1A7RrJ9K",
        "outputId": "6c846ff6-d153-4e48-863d-e378f7bdacd0"
      },
      "execution_count": null,
      "outputs": [
        {
          "output_type": "stream",
          "name": "stdout",
          "text": [
            "                precision    recall  f1-score   support\n",
            "\n",
            "      PREAMBLE       0.94      1.00      0.97       507\n",
            "          NONE       0.91      0.86      0.89       190\n",
            "           FAC       0.82      0.86      0.84       581\n",
            "ARG_RESPONDENT       0.44      0.50      0.47        38\n",
            "           RLC       0.55      0.22      0.32       116\n",
            "ARG_PETITIONER       0.59      0.20      0.30        65\n",
            "      ANALYSIS       0.77      0.87      0.81       985\n",
            "    PRE_RELIED       0.69      0.39      0.50       142\n",
            "         RATIO       0.47      0.48      0.48        71\n",
            "           RPC       0.88      0.89      0.89        92\n",
            "         ISSUE       0.81      0.75      0.78        51\n",
            "           STA       0.63      0.68      0.66        28\n",
            "PRE_NOT_RELIED       0.00      0.00      0.00        12\n",
            "\n",
            "      accuracy                           0.80      2878\n",
            "     macro avg       0.65      0.59      0.61      2878\n",
            "  weighted avg       0.79      0.80      0.79      2878\n",
            "\n"
          ]
        },
        {
          "output_type": "stream",
          "name": "stderr",
          "text": [
            "/usr/local/lib/python3.8/dist-packages/sklearn/metrics/_classification.py:1318: UndefinedMetricWarning: Precision and F-score are ill-defined and being set to 0.0 in labels with no predicted samples. Use `zero_division` parameter to control this behavior.\n",
            "  _warn_prf(average, modifier, msg_start, len(result))\n",
            "/usr/local/lib/python3.8/dist-packages/sklearn/metrics/_classification.py:1318: UndefinedMetricWarning: Precision and F-score are ill-defined and being set to 0.0 in labels with no predicted samples. Use `zero_division` parameter to control this behavior.\n",
            "  _warn_prf(average, modifier, msg_start, len(result))\n",
            "/usr/local/lib/python3.8/dist-packages/sklearn/metrics/_classification.py:1318: UndefinedMetricWarning: Precision and F-score are ill-defined and being set to 0.0 in labels with no predicted samples. Use `zero_division` parameter to control this behavior.\n",
            "  _warn_prf(average, modifier, msg_start, len(result))\n"
          ]
        }
      ]
    },
    {
      "cell_type": "markdown",
      "source": [
        "#### Model 2 - Context aware InLegalBERT"
      ],
      "metadata": {
        "id": "b-z0QnHburWY"
      }
    },
    {
      "cell_type": "markdown",
      "source": [
        "##### Training"
      ],
      "metadata": {
        "id": "fex8jxQB041l"
      }
    },
    {
      "cell_type": "code",
      "source": [
        "trainer_model_2, tokenizer_model_2 = exec_train_pipeline(model_name_M3, model_2, n_classes, context=True)"
      ],
      "metadata": {
        "colab": {
          "base_uri": "https://localhost:8080/",
          "height": 1000,
          "referenced_widgets": [
            "a635405000ea43049655ce6eefc77ade",
            "be03668b609743c0afefdf8cf2e59125",
            "3cd26cc7be544065ba1438cc9b2a421b",
            "ebd644dee852479183548061f027fb6d",
            "f4c688b76cfa4f3585f27e390e351908",
            "6e88f8745a514ca0a8db5b562fe57f7a",
            "43ae342d7fbe4def98e516139981e802",
            "b839dbbc84934b37996920331865ef78",
            "f0d6e6ebfdce4aabbdd9dbbd3cd076f2",
            "acc7d03257c0414fb4ed62c82c5bbe26",
            "561838f45d1448ea89d48638c8e23702",
            "a0f7724953f44b39acf629f5b39ff8d2",
            "3f435605ee4a4e4799a91c78e53d784a",
            "84a329f04a3748a785d2de6d05d95e1d",
            "7745fb5afa5a461bbf18ff83f304af5c",
            "477ed319b64e485d83bb738355bed03e",
            "817ba3049c2840b2bff180ee2e4ffb62",
            "7ab6d50450974fa8955fdc63d3326ebb",
            "b0339e03587440d699e73bff384580f2",
            "376ae3dab8404b25bd9dd5c30b74ea0c",
            "a135471b3a6948e49aefb969cd1659e0",
            "5645d92421ba44b48d5917a093454d0b",
            "9fd4f9379e04426cabe2bd70ce98cecf",
            "f0d676bef82249d880b29b32c285b590",
            "6948c50661d6403e828a7632abe22f2a",
            "7323fa8f2bfc42e69c0308a2c07ace24",
            "0d93271a8aee41cda91ad7fba372febb",
            "31cc4bf8d4c84ab9b9d0be2f6efab199",
            "f56d1a702cb04f39814c4f7ed82f6fd9",
            "dee4aee2f763409d83727a75b63d9f48",
            "429f2c6fc42f4a968e176cff031ab67d",
            "2012173bc4ee46f69875bca74467e05a",
            "0551fe91bb89432db3953a9cc3166f01",
            "13dcf290a2844ae193bafb00a379f11d",
            "8ea34b4828b24c558cacbab682f73bb3",
            "5a1e3736986141f6822fc8becfd4225a",
            "9574c9c738274508b2b8c8ccfb197e7f",
            "c335b0307d134e189f45bdbf62742fd1",
            "e64a11a7558b4da1be4db6a38c873294",
            "caa6de6340184591a4d78e9f637f72c5",
            "0499120a0b1f407886f65d8bee55820f",
            "c3c136f1e57c4113a5d13796994fe054",
            "32dfb22a16084b9cb8bb44a9b8258981",
            "ab138dc6b22546cab52d0694a52a7137",
            "0c555a3f94e04684a41fabe2f67a4f9a",
            "6d134626531d46bd9f4e9e9cfacfded0",
            "64019b0ab69f4c9394ff397fde3330a4",
            "6a74c62f6ffe4757b98a15a9b3520fe5",
            "9f63c4977a6d4731aca3327556b94903",
            "b23583be8a3c46f9b192a7b873ba5817",
            "1d59ce473aee4d3c941625ff50020187",
            "a3fa10f6e0364d85a4cbadc081113e40",
            "219254ece4974660b50cd35bc4a4a87e",
            "736662c04aa94a8388cf16ca76217157",
            "24f40b0f454a436683998833276b58a5",
            "9ba72ff3d32b47829bd36787876e3060",
            "4e0190c802b043c5b946753bf420f164",
            "5b4ca3c72532495f947c2db920dc6965",
            "d09075d804e0451596a69a4ec28cc7b8",
            "83adc87d579345cc93172bdc1a669bc6",
            "024ee13aa8fa40a891f0b385f192808d",
            "8716c1574ab742879a2b6b10187c3997",
            "b64d9d7d031c4d8fbf44c3a547975021",
            "225f395857404a1898e8285edee9fe32",
            "8061e2fc70c84740ba0ba2b0da0b764b",
            "6da29ac6fc3a478092cbdabfa4761741",
            "2025cd598edc42a79f5c887935329f57",
            "a79272099634411b9488cc24cc0b486a",
            "58ae57c91ac64c14a15206d0526f71cd",
            "1750c2ceb9504c45a1abf2d81551d5ae",
            "99adab2c3e4d47fa88f1d6768727462e",
            "a87fc4dab00142b78de77d0e9e910b97",
            "8fcb7cbae4c64a49a0b873157e4f0f2e",
            "3f2fe181b7ac47bc9783093d82e84648",
            "556957a7009447b2ae88a92e0d54ee14",
            "4a299066d7a54ce497feffa2851d2d70",
            "c71f6bdf1930432bb15d53c2fcd4a6d0"
          ]
        },
        "id": "3wQ5LNJ6uxuY",
        "outputId": "d142ac10-fa81-4ec2-91a2-296a2d61af54"
      },
      "execution_count": null,
      "outputs": [
        {
          "output_type": "stream",
          "name": "stdout",
          "text": [
            "Cleaning memory...\n"
          ]
        },
        {
          "output_type": "display_data",
          "data": {
            "text/plain": [
              "Downloading (…)okenizer_config.json:   0%|          | 0.00/516 [00:00<?, ?B/s]"
            ],
            "application/vnd.jupyter.widget-view+json": {
              "version_major": 2,
              "version_minor": 0,
              "model_id": "a635405000ea43049655ce6eefc77ade"
            }
          },
          "metadata": {}
        },
        {
          "output_type": "display_data",
          "data": {
            "text/plain": [
              "Downloading (…)solve/main/vocab.txt:   0%|          | 0.00/222k [00:00<?, ?B/s]"
            ],
            "application/vnd.jupyter.widget-view+json": {
              "version_major": 2,
              "version_minor": 0,
              "model_id": "a0f7724953f44b39acf629f5b39ff8d2"
            }
          },
          "metadata": {}
        },
        {
          "output_type": "display_data",
          "data": {
            "text/plain": [
              "Downloading (…)cial_tokens_map.json:   0%|          | 0.00/112 [00:00<?, ?B/s]"
            ],
            "application/vnd.jupyter.widget-view+json": {
              "version_major": 2,
              "version_minor": 0,
              "model_id": "9fd4f9379e04426cabe2bd70ce98cecf"
            }
          },
          "metadata": {}
        },
        {
          "output_type": "stream",
          "name": "stderr",
          "text": [
            "loading file vocab.txt from cache at /root/.cache/huggingface/hub/models--law-ai--InLegalBERT/snapshots/6dc9118c93627cca0137cf1df0fade4e84d5020e/vocab.txt\n",
            "loading file tokenizer.json from cache at None\n",
            "loading file added_tokens.json from cache at None\n",
            "loading file special_tokens_map.json from cache at /root/.cache/huggingface/hub/models--law-ai--InLegalBERT/snapshots/6dc9118c93627cca0137cf1df0fade4e84d5020e/special_tokens_map.json\n",
            "loading file tokenizer_config.json from cache at /root/.cache/huggingface/hub/models--law-ai--InLegalBERT/snapshots/6dc9118c93627cca0137cf1df0fade4e84d5020e/tokenizer_config.json\n"
          ]
        },
        {
          "output_type": "stream",
          "name": "stdout",
          "text": [
            "Downloading : law-ai/InLegalBERT\n"
          ]
        },
        {
          "output_type": "display_data",
          "data": {
            "text/plain": [
              "Downloading (…)lve/main/config.json:   0%|          | 0.00/671 [00:00<?, ?B/s]"
            ],
            "application/vnd.jupyter.widget-view+json": {
              "version_major": 2,
              "version_minor": 0,
              "model_id": "13dcf290a2844ae193bafb00a379f11d"
            }
          },
          "metadata": {}
        },
        {
          "output_type": "stream",
          "name": "stderr",
          "text": [
            "loading configuration file config.json from cache at /root/.cache/huggingface/hub/models--law-ai--InLegalBERT/snapshots/6dc9118c93627cca0137cf1df0fade4e84d5020e/config.json\n",
            "Model config BertConfig {\n",
            "  \"_name_or_path\": \"law-ai/InLegalBERT\",\n",
            "  \"architectures\": [\n",
            "    \"BertForPreTraining\"\n",
            "  ],\n",
            "  \"attention_probs_dropout_prob\": 0.1,\n",
            "  \"bos_token_id\": 0,\n",
            "  \"classifier_dropout\": null,\n",
            "  \"eos_token_ids\": 0,\n",
            "  \"hidden_act\": \"gelu\",\n",
            "  \"hidden_dropout_prob\": 0.1,\n",
            "  \"hidden_size\": 768,\n",
            "  \"id2label\": {\n",
            "    \"0\": \"PREAMBLE\",\n",
            "    \"1\": \"NONE\",\n",
            "    \"2\": \"FAC\",\n",
            "    \"3\": \"ARG_RESPONDENT\",\n",
            "    \"4\": \"RLC\",\n",
            "    \"5\": \"ARG_PETITIONER\",\n",
            "    \"6\": \"ANALYSIS\",\n",
            "    \"7\": \"PRE_RELIED\",\n",
            "    \"8\": \"RATIO\",\n",
            "    \"9\": \"RPC\",\n",
            "    \"10\": \"ISSUE\",\n",
            "    \"11\": \"STA\",\n",
            "    \"12\": \"PRE_NOT_RELIED\"\n",
            "  },\n",
            "  \"initializer_range\": 0.02,\n",
            "  \"intermediate_size\": 3072,\n",
            "  \"label2id\": {\n",
            "    \"ANALYSIS\": 6,\n",
            "    \"ARG_PETITIONER\": 5,\n",
            "    \"ARG_RESPONDENT\": 3,\n",
            "    \"FAC\": 2,\n",
            "    \"ISSUE\": 10,\n",
            "    \"NONE\": 1,\n",
            "    \"PREAMBLE\": 0,\n",
            "    \"PRE_NOT_RELIED\": 12,\n",
            "    \"PRE_RELIED\": 7,\n",
            "    \"RATIO\": 8,\n",
            "    \"RLC\": 4,\n",
            "    \"RPC\": 9,\n",
            "    \"STA\": 11\n",
            "  },\n",
            "  \"layer_norm_eps\": 1e-12,\n",
            "  \"max_position_embeddings\": 512,\n",
            "  \"model_type\": \"bert\",\n",
            "  \"num_attention_heads\": 12,\n",
            "  \"num_hidden_layers\": 12,\n",
            "  \"output_past\": true,\n",
            "  \"pad_token_id\": 0,\n",
            "  \"position_embedding_type\": \"absolute\",\n",
            "  \"transformers_version\": \"4.26.0\",\n",
            "  \"type_vocab_size\": 2,\n",
            "  \"use_cache\": false,\n",
            "  \"vocab_size\": 30522\n",
            "}\n",
            "\n"
          ]
        },
        {
          "output_type": "display_data",
          "data": {
            "text/plain": [
              "Downloading (…)\"pytorch_model.bin\";:   0%|          | 0.00/534M [00:00<?, ?B/s]"
            ],
            "application/vnd.jupyter.widget-view+json": {
              "version_major": 2,
              "version_minor": 0,
              "model_id": "0c555a3f94e04684a41fabe2f67a4f9a"
            }
          },
          "metadata": {}
        },
        {
          "output_type": "stream",
          "name": "stderr",
          "text": [
            "loading weights file pytorch_model.bin from cache at /root/.cache/huggingface/hub/models--law-ai--InLegalBERT/snapshots/6dc9118c93627cca0137cf1df0fade4e84d5020e/pytorch_model.bin\n",
            "Some weights of the model checkpoint at law-ai/InLegalBERT were not used when initializing BertForSequenceClassification: ['cls.predictions.transform.dense.weight', 'cls.seq_relationship.weight', 'cls.predictions.decoder.bias', 'cls.predictions.bias', 'cls.seq_relationship.bias', 'cls.predictions.decoder.weight', 'cls.predictions.transform.dense.bias', 'cls.predictions.transform.LayerNorm.weight', 'cls.predictions.transform.LayerNorm.bias']\n",
            "- This IS expected if you are initializing BertForSequenceClassification from the checkpoint of a model trained on another task or with another architecture (e.g. initializing a BertForSequenceClassification model from a BertForPreTraining model).\n",
            "- This IS NOT expected if you are initializing BertForSequenceClassification from the checkpoint of a model that you expect to be exactly identical (initializing a BertForSequenceClassification model from a BertForSequenceClassification model).\n",
            "Some weights of BertForSequenceClassification were not initialized from the model checkpoint at law-ai/InLegalBERT and are newly initialized: ['classifier.bias', 'classifier.weight']\n",
            "You should probably TRAIN this model on a down-stream task to be able to use it for predictions and inference.\n"
          ]
        },
        {
          "output_type": "stream",
          "name": "stdout",
          "text": [
            "Processing training data\n"
          ]
        },
        {
          "output_type": "display_data",
          "data": {
            "text/plain": [
              "  0%|          | 0/26 [00:00<?, ?ba/s]"
            ],
            "application/vnd.jupyter.widget-view+json": {
              "version_major": 2,
              "version_minor": 0,
              "model_id": "9ba72ff3d32b47829bd36787876e3060"
            }
          },
          "metadata": {}
        },
        {
          "output_type": "stream",
          "name": "stdout",
          "text": [
            "Processing validation data\n"
          ]
        },
        {
          "output_type": "display_data",
          "data": {
            "text/plain": [
              "  0%|          | 0/4 [00:00<?, ?ba/s]"
            ],
            "application/vnd.jupyter.widget-view+json": {
              "version_major": 2,
              "version_minor": 0,
              "model_id": "2025cd598edc42a79f5c887935329f57"
            }
          },
          "metadata": {}
        },
        {
          "output_type": "stream",
          "name": "stderr",
          "text": [
            "PyTorch: setting up devices\n",
            "The default value for the training argument `--report_to` will change in v5 (from all installed integrations to none). In v5, you will need to use `--report_to all` to get the same behavior as now. You should start updating your code and make this info disappear :-).\n",
            "Using cuda_amp half precision backend\n",
            "***** Running training *****\n",
            "  Num examples = 25178\n",
            "  Num Epochs = 3\n",
            "  Instantaneous batch size per device = 16\n",
            "  Total train batch size (w. parallel, distributed & accumulation) = 16\n",
            "  Gradient Accumulation steps = 1\n",
            "  Total optimization steps = 4722\n",
            "  Number of trainable parameters = 109492237\n",
            "You're using a BertTokenizerFast tokenizer. Please note that with a fast tokenizer, using the `__call__` method is faster than using a method to encode the text followed by a call to the `pad` method to get a padded encoding.\n",
            "You're using a BertTokenizerFast tokenizer. Please note that with a fast tokenizer, using the `__call__` method is faster than using a method to encode the text followed by a call to the `pad` method to get a padded encoding.\n"
          ]
        },
        {
          "output_type": "display_data",
          "data": {
            "text/plain": [
              "<IPython.core.display.HTML object>"
            ],
            "text/html": [
              "\n",
              "    <div>\n",
              "      \n",
              "      <progress value='4722' max='4722' style='width:300px; height:20px; vertical-align: middle;'></progress>\n",
              "      [4722/4722 54:49, Epoch 3/3]\n",
              "    </div>\n",
              "    <table border=\"1\" class=\"dataframe\">\n",
              "  <thead>\n",
              " <tr style=\"text-align: left;\">\n",
              "      <th>Epoch</th>\n",
              "      <th>Training Loss</th>\n",
              "      <th>Validation Loss</th>\n",
              "      <th>Accuracy</th>\n",
              "      <th>Weighted f1</th>\n",
              "    </tr>\n",
              "  </thead>\n",
              "  <tbody>\n",
              "    <tr>\n",
              "      <td>1</td>\n",
              "      <td>1.217200</td>\n",
              "      <td>1.381585</td>\n",
              "      <td>0.775016</td>\n",
              "      <td>0.770284</td>\n",
              "    </tr>\n",
              "    <tr>\n",
              "      <td>2</td>\n",
              "      <td>1.103200</td>\n",
              "      <td>1.415368</td>\n",
              "      <td>0.783519</td>\n",
              "      <td>0.783531</td>\n",
              "    </tr>\n",
              "    <tr>\n",
              "      <td>3</td>\n",
              "      <td>1.061800</td>\n",
              "      <td>1.447880</td>\n",
              "      <td>0.784500</td>\n",
              "      <td>0.785434</td>\n",
              "    </tr>\n",
              "  </tbody>\n",
              "</table><p>"
            ]
          },
          "metadata": {}
        },
        {
          "output_type": "stream",
          "name": "stderr",
          "text": [
            "***** Running Evaluation *****\n",
            "  Num examples = 3058\n",
            "  Batch size = 16\n",
            "You're using a BertTokenizerFast tokenizer. Please note that with a fast tokenizer, using the `__call__` method is faster than using a method to encode the text followed by a call to the `pad` method to get a padded encoding.\n",
            "You're using a BertTokenizerFast tokenizer. Please note that with a fast tokenizer, using the `__call__` method is faster than using a method to encode the text followed by a call to the `pad` method to get a padded encoding.\n",
            "Saving model checkpoint to context_aware_inlegalbert/checkpoint-1574\n",
            "Configuration saved in context_aware_inlegalbert/checkpoint-1574/config.json\n",
            "Model weights saved in context_aware_inlegalbert/checkpoint-1574/pytorch_model.bin\n",
            "tokenizer config file saved in context_aware_inlegalbert/checkpoint-1574/tokenizer_config.json\n",
            "Special tokens file saved in context_aware_inlegalbert/checkpoint-1574/special_tokens_map.json\n",
            "You're using a BertTokenizerFast tokenizer. Please note that with a fast tokenizer, using the `__call__` method is faster than using a method to encode the text followed by a call to the `pad` method to get a padded encoding.\n",
            "You're using a BertTokenizerFast tokenizer. Please note that with a fast tokenizer, using the `__call__` method is faster than using a method to encode the text followed by a call to the `pad` method to get a padded encoding.\n",
            "***** Running Evaluation *****\n",
            "  Num examples = 3058\n",
            "  Batch size = 16\n",
            "You're using a BertTokenizerFast tokenizer. Please note that with a fast tokenizer, using the `__call__` method is faster than using a method to encode the text followed by a call to the `pad` method to get a padded encoding.\n",
            "You're using a BertTokenizerFast tokenizer. Please note that with a fast tokenizer, using the `__call__` method is faster than using a method to encode the text followed by a call to the `pad` method to get a padded encoding.\n",
            "Saving model checkpoint to context_aware_inlegalbert/checkpoint-3148\n",
            "Configuration saved in context_aware_inlegalbert/checkpoint-3148/config.json\n",
            "Model weights saved in context_aware_inlegalbert/checkpoint-3148/pytorch_model.bin\n",
            "tokenizer config file saved in context_aware_inlegalbert/checkpoint-3148/tokenizer_config.json\n",
            "Special tokens file saved in context_aware_inlegalbert/checkpoint-3148/special_tokens_map.json\n",
            "You're using a BertTokenizerFast tokenizer. Please note that with a fast tokenizer, using the `__call__` method is faster than using a method to encode the text followed by a call to the `pad` method to get a padded encoding.\n",
            "You're using a BertTokenizerFast tokenizer. Please note that with a fast tokenizer, using the `__call__` method is faster than using a method to encode the text followed by a call to the `pad` method to get a padded encoding.\n",
            "***** Running Evaluation *****\n",
            "  Num examples = 3058\n",
            "  Batch size = 16\n",
            "You're using a BertTokenizerFast tokenizer. Please note that with a fast tokenizer, using the `__call__` method is faster than using a method to encode the text followed by a call to the `pad` method to get a padded encoding.\n",
            "You're using a BertTokenizerFast tokenizer. Please note that with a fast tokenizer, using the `__call__` method is faster than using a method to encode the text followed by a call to the `pad` method to get a padded encoding.\n",
            "Saving model checkpoint to context_aware_inlegalbert/checkpoint-4722\n",
            "Configuration saved in context_aware_inlegalbert/checkpoint-4722/config.json\n",
            "Model weights saved in context_aware_inlegalbert/checkpoint-4722/pytorch_model.bin\n",
            "tokenizer config file saved in context_aware_inlegalbert/checkpoint-4722/tokenizer_config.json\n",
            "Special tokens file saved in context_aware_inlegalbert/checkpoint-4722/special_tokens_map.json\n",
            "\n",
            "\n",
            "Training completed. Do not forget to share your model on huggingface.co/models =)\n",
            "\n",
            "\n",
            "Loading best model from context_aware_inlegalbert/checkpoint-1574 (score: 1.381584644317627).\n",
            "Saving model checkpoint to context_aware_inlegalbert\n",
            "Configuration saved in context_aware_inlegalbert/config.json\n",
            "Model weights saved in context_aware_inlegalbert/pytorch_model.bin\n",
            "tokenizer config file saved in context_aware_inlegalbert/tokenizer_config.json\n",
            "Special tokens file saved in context_aware_inlegalbert/special_tokens_map.json\n"
          ]
        }
      ]
    },
    {
      "cell_type": "markdown",
      "source": [
        "##### Evaluation"
      ],
      "metadata": {
        "id": "PMEc4om30_nA"
      }
    },
    {
      "cell_type": "code",
      "source": [
        "logits_m2 = exec_eval_pipeline(trainer_model_2, tokenizer_model_2, test_df, context=True)"
      ],
      "metadata": {
        "colab": {
          "base_uri": "https://localhost:8080/",
          "height": 173,
          "referenced_widgets": [
            "4b799bbbb8364758b542b3898c675ca2",
            "4cf1b79160c64c34afb95e85fa834528",
            "cc90694650d94fb3b1f78c19b0e85722",
            "79624b16c30c43cc99fb3f3a60d32fc4",
            "4a56f4cb45be4707ae33dbfbf210930a",
            "8a2cc906a22843f5a6ef63193e001b07",
            "06acdff0960b41959f7a0a246676e478",
            "95806e10ed5e42dfb10ac06947c4f4ea",
            "0dcb7a02e4144c3f85045381d6637432",
            "22f0a61401d84752bef282c2dd767b8b",
            "f9677344619c4a3d926e34e9ef070205"
          ]
        },
        "outputId": "375ce3dc-08f4-4209-bf3b-5d2418bc8eec",
        "id": "yqCrP3XS8Sa7"
      },
      "execution_count": null,
      "outputs": [
        {
          "output_type": "stream",
          "name": "stdout",
          "text": [
            "Processing test data\n"
          ]
        },
        {
          "output_type": "display_data",
          "data": {
            "text/plain": [
              "  0%|          | 0/3 [00:00<?, ?ba/s]"
            ],
            "application/vnd.jupyter.widget-view+json": {
              "version_major": 2,
              "version_minor": 0,
              "model_id": "4b799bbbb8364758b542b3898c675ca2"
            }
          },
          "metadata": {}
        },
        {
          "output_type": "stream",
          "name": "stderr",
          "text": [
            "***** Running Prediction *****\n",
            "  Num examples = 2878\n",
            "  Batch size = 16\n",
            "You're using a BertTokenizerFast tokenizer. Please note that with a fast tokenizer, using the `__call__` method is faster than using a method to encode the text followed by a call to the `pad` method to get a padded encoding.\n",
            "You're using a BertTokenizerFast tokenizer. Please note that with a fast tokenizer, using the `__call__` method is faster than using a method to encode the text followed by a call to the `pad` method to get a padded encoding.\n"
          ]
        },
        {
          "output_type": "display_data",
          "data": {
            "text/plain": [
              "<IPython.core.display.HTML object>"
            ],
            "text/html": []
          },
          "metadata": {}
        }
      ]
    },
    {
      "cell_type": "code",
      "source": [
        "predictions_m2 = [np.argmax(pred) for pred in logits_m2]\n",
        "print(classification_report(labels_true, predictions_m2, target_names=label2id.keys()))"
      ],
      "metadata": {
        "colab": {
          "base_uri": "https://localhost:8080/"
        },
        "outputId": "9d48ef01-3724-499f-efd2-a975043aa952",
        "id": "dK5PVkNI8Sa7"
      },
      "execution_count": null,
      "outputs": [
        {
          "output_type": "stream",
          "name": "stdout",
          "text": [
            "                precision    recall  f1-score   support\n",
            "\n",
            "      PREAMBLE       0.98      1.00      0.99       507\n",
            "          NONE       0.96      0.86      0.91       190\n",
            "           FAC       0.81      0.89      0.85       581\n",
            "ARG_RESPONDENT       0.64      0.74      0.68        38\n",
            "           RLC       0.66      0.27      0.38       116\n",
            "ARG_PETITIONER       0.57      0.18      0.28        65\n",
            "      ANALYSIS       0.78      0.90      0.84       985\n",
            "    PRE_RELIED       0.74      0.44      0.55       142\n",
            "         RATIO       0.70      0.37      0.48        71\n",
            "           RPC       0.83      0.92      0.88        92\n",
            "         ISSUE       0.66      0.78      0.71        51\n",
            "           STA       0.50      0.68      0.58        28\n",
            "PRE_NOT_RELIED       0.00      0.00      0.00        12\n",
            "\n",
            "      accuracy                           0.82      2878\n",
            "     macro avg       0.68      0.62      0.62      2878\n",
            "  weighted avg       0.81      0.82      0.81      2878\n",
            "\n"
          ]
        },
        {
          "output_type": "stream",
          "name": "stderr",
          "text": [
            "/usr/local/lib/python3.8/dist-packages/sklearn/metrics/_classification.py:1318: UndefinedMetricWarning: Precision and F-score are ill-defined and being set to 0.0 in labels with no predicted samples. Use `zero_division` parameter to control this behavior.\n",
            "  _warn_prf(average, modifier, msg_start, len(result))\n",
            "/usr/local/lib/python3.8/dist-packages/sklearn/metrics/_classification.py:1318: UndefinedMetricWarning: Precision and F-score are ill-defined and being set to 0.0 in labels with no predicted samples. Use `zero_division` parameter to control this behavior.\n",
            "  _warn_prf(average, modifier, msg_start, len(result))\n",
            "/usr/local/lib/python3.8/dist-packages/sklearn/metrics/_classification.py:1318: UndefinedMetricWarning: Precision and F-score are ill-defined and being set to 0.0 in labels with no predicted samples. Use `zero_division` parameter to control this behavior.\n",
            "  _warn_prf(average, modifier, msg_start, len(result))\n"
          ]
        }
      ]
    },
    {
      "cell_type": "markdown",
      "source": [
        "## Error analysis"
      ],
      "metadata": {
        "id": "xtpvsDOR8U-Q"
      }
    },
    {
      "cell_type": "markdown",
      "source": [
        "In this section we considered only the two best models according to their scores on the test set and further analysed their performances in terms of quality of the predictions and misclassification errors by plotting their confusion matrices. We then looked into a couple of document predictions from our best model (Context aware InLegalBERT) to see some error examples."
      ],
      "metadata": {
        "id": "3bEXn65EgdNn"
      }
    },
    {
      "cell_type": "markdown",
      "source": [
        "### Model 1 - Context aware Legal RoBERTa"
      ],
      "metadata": {
        "id": "CjMbV3ReyYh-"
      }
    },
    {
      "cell_type": "code",
      "source": [
        "plot_confusion_matrix(true = labels_true,\n",
        "                      predictions = predictions_m1,\n",
        "                      labels_name = labels,\n",
        "                      model_name = 'Legal Roberta')"
      ],
      "metadata": {
        "id": "tf0fuFK8RR0R",
        "colab": {
          "base_uri": "https://localhost:8080/",
          "height": 399
        },
        "outputId": "4f737acc-d49e-4c30-e4f2-d0b9cba2dc1a"
      },
      "execution_count": null,
      "outputs": [
        {
          "output_type": "display_data",
          "data": {
            "text/plain": [
              "<Figure size 2664x1296 with 3 Axes>"
            ],
            "image/png": "[encoded data removed]"
          },
          "metadata": {
            "needs_background": "light"
          }
        }
      ]
    },
    {
      "cell_type": "markdown",
      "source": [
        "### Model 2 - Context aware InLegalBERT"
      ],
      "metadata": {
        "id": "nAVX0FMY53DI"
      }
    },
    {
      "cell_type": "code",
      "source": [
        "plot_confusion_matrix(true = labels_true,\n",
        "                      predictions = predictions_m2,\n",
        "                      labels_name = labels,\n",
        "                      model_name = 'InLegalBert')"
      ],
      "metadata": {
        "colab": {
          "base_uri": "https://localhost:8080/",
          "height": 399
        },
        "id": "qYA5S6L1Ry5P",
        "outputId": "963b216b-cdf3-4e4b-e71c-a3609da6217f"
      },
      "execution_count": null,
      "outputs": [
        {
          "output_type": "display_data",
          "data": {
            "text/plain": [
              "<Figure size 2664x1296 with 3 Axes>"
            ],
            "image/png": "[encoded data removed]"
          },
          "metadata": {
            "needs_background": "light"
          }
        }
      ]
    },
    {
      "cell_type": "markdown",
      "source": [
        "As can be observed from the confusion matrices, ARGUMENTS roles, PRECEDENT roles and RATIO are heavily miss-classified with the majority class ANALYSIS.\n",
        "This behaviour is probably related to the fact that sentences belonging to the core section of a document all contain discussions of the court or statements from the parts, which only differ for the subject of the discussion (whether it is a precedent case or not) or for the part that is speaking (whether it is the petitioner or the respondent). Moreover PRE_NOT_RELIED is never correctly classified, due to its low frequency in the dataset. \n",
        "\n",
        "RLC and STATUTE are both missclassified as ANALYSIS more than 25% of the times, while RLC is often misclassified with FAC, as also happened to human dataset annotators.\n",
        "\n",
        "PREAMBLE is almost perfectly classified, probably due to the fact that they almost always include proper nouns, repeated formulas, dates and other highly recognizable patterns.\n",
        "\n",
        "Some other classes like FAC, NONE, ANALYSIS and RPC reach high F1-score values. It is important to note that in the RPC class the model has a recall of 92\\%, meaning that it correctly identifies the final judgement of the court in most of the cases (even if it has a small support in the dataset)."
      ],
      "metadata": {
        "id": "So9BYZqWC9Ed"
      }
    },
    {
      "cell_type": "markdown",
      "source": [
        "In the confusion matrices from our best model we can see some improvements:\n",
        "- ARG_RESPONDENT is much fewer times confused with ANALYSIS, resultig in a big increase in its F1 score\n",
        "- The F1 scores of PREAMBLE, NONE, FAC, RLC and PRE_RELIED slighlty increased."
      ],
      "metadata": {
        "id": "L2y0OKwfSkBB"
      }
    },
    {
      "cell_type": "markdown",
      "source": [
        "### Error examples"
      ],
      "metadata": {
        "id": "nWU-o9W2lL8j"
      }
    },
    {
      "cell_type": "markdown",
      "source": [
        "We plot the inference output of InLegalBERT on two different documents, highlighting in red misclassification errors."
      ],
      "metadata": {
        "id": "kabOyHaxlUCR"
      }
    },
    {
      "cell_type": "markdown",
      "source": [
        "#### Example 1"
      ],
      "metadata": {
        "id": "_hrUjuDn1n27"
      }
    },
    {
      "cell_type": "code",
      "source": [
        "print_document(test_df, labels_true, predictions_m2, id2label, doc_id = 4205)"
      ],
      "metadata": {
        "colab": {
          "base_uri": "https://localhost:8080/"
        },
        "id": "11lGCt6Hg9xx",
        "outputId": "c107b326-28fa-46e4-f65c-f6cd36f85583"
      },
      "execution_count": null,
      "outputs": [
        {
          "output_type": "stream",
          "name": "stdout",
          "text": [
            "|True class\t|Predicted class|\n",
            "|---------------|---------------|\n",
            "|PREAMBLE  \t|PREAMBLE\t|\tPETITIONER: BED RAJ Vs. RESPONDENT:\n",
            "|PREAMBLE  \t|PREAMBLE\t|\tTHE STATE OF UTTAR PRADESH.\n",
            "|PREAMBLE  \t|PREAMBLE\t|\tDATE OF JUDGMENT: 28/09/1955 BENCH:\n",
            "|PREAMBLE  \t|PREAMBLE\t|\tBOSE, VIVIAN BENCH: BOSE, VIVIAN JAGANNADHADAS, B. SINHA, BHUVNESHWAR P. CITATION: 1955 SCR (2) 583 1955 AIR 778 ACT: Sentence, Enhancement of-By the High Court-Principles applicable thereto. HEADNOTE: A question of sentence is a matter of discretion and it is well settled that when discretion has been properly exercised along accepted judicial lines, an appellate court\n",
            "|PREAMBLE  \t|PREAMBLE\t|\tshould not interfere to the detriment of an accused person except for very strong reasons which must be disclosed on\n",
            "|PREAMBLE  \t|PREAMBLE\t|\tthe face of the judgment\n",
            "|PREAMBLE  \t|PREAMBLE\t|\t. In a matter of enhancement there should not be interference when the sentence passed imposes substantial punishment.\n",
            "|PREAMBLE  \t|PREAMBLE\t|\tInterference is only called for when it is manifestly inadequate.\n",
            "|PREAMBLE  \t|PREAMBLE\t|\tIn the circumstances and bearing all the considerations of the present case in mind it was impossible to hold that the Sessions Judge did not impose a substantial sentence. The Supreme Court set aside the sentence imposed by the Court and restored that of the Sessions Judge as no adequate reason bad been assigned by the High Court for considering the sentence passed by the Sessions Judge as manifestly inadequate.\n",
            "|PREAMBLE  \t|PREAMBLE\t|\tDalip Singh v. State of Punjab ([1954] S.C.R. 145) and Nar Singh v. State of Uttar Pradesh ([1956] 1 S.C.R. 238), referred to.\n",
            "|PREAMBLE  \t|PREAMBLE\t|\tJUDGMENT:\n",
            "|NONE      \t|NONE    \t|\tCRIMINAL APPELLATE JURISDICTION: Criminal Appeal No. 88 of 1954.\n",
            "|NONE      \t|NONE    \t|\tAppeal by Special Leave from the Judgment and Order dated the 7th January, 1954 of the Allahabad High Court in Criminal Appeal No. 377 of 1953 connected with Criminal Revision No. 461 of 1953 arising out of the Judgment and Order dated the, 17th November, 1952 of the Court of Additional Sessions Judge at Meerut in Session Trial No. 113 of 1952.\n",
            "|NONE      \t|NONE    \t|\tB.B. Tawakley, (K. P. Gupta, with him), for the appellant.\n",
            "|NONE      \t|NONE    \t|\tK.B. Asthana and C. P. Lal, for the respondent.\n",
            "|NONE      \t|NONE    \t|\t1955.\n",
            "|NONE      \t|NONE    \t|\tSeptember 28.\n",
            "|NONE      \t|NONE    \t|\tThe Judgment of the Court was delivered by\n",
            "|NONE      \t|NONE    \t|\tBOSE J.\n",
            "|\u001b[91mFAC       \t\u001b[0m|\u001b[91mNONE    \t\u001b[0m|\u001b[91m\t-The only.\u001b[0m\n",
            "|FAC       \t|FAC     \t|\tquestion here is about sen. tence.\n",
            "|FAC       \t|FAC     \t|\tThe appellant Bed Raj and another, Sri Chand, were jointly charged with the murder of one Pheru.\n",
            "|RLC       \t|RLC     \t|\tThe Sessions Judge convicted Bed Raj under section 304, Indian Penal Code, and sentenced him to three years' rigorous imprisonment.\n",
            "|\u001b[91mRLC       \t\u001b[0m|\u001b[91mFAC     \t\u001b[0m|\u001b[91m\tHe acquitted Sri Chand.\u001b[0m\n",
            "|\u001b[91mRLC       \t\u001b[0m|\u001b[91mFAC     \t\u001b[0m|\u001b[91m\tI Bed Raj appealed to the High, Court and that Court, on admitting the appeal for hearing, issued notice to the appellant to show cause why the sentence should not be enhanced.\u001b[0m\n",
            "|\u001b[91mRLC       \t\u001b[0m|\u001b[91mFAC     \t\u001b[0m|\u001b[91m\tThe appeal and the revision were heard together.\u001b[0m\n",
            "|RLC       \t|RLC     \t|\tThe appeal was dismissed and the High Court enhanced the sentence to ten years.\n",
            "|FAC       \t|FAC     \t|\tNow, though no limitation has been placed on the High Court's power to enhance it is nevertheless a judicial act and, like all judicial acts involving an exercise of discretion, must be exercised along, well known judicial lines.\n",
            "|\u001b[91mFAC       \t\u001b[0m|\u001b[91mISSUE   \t\u001b[0m|\u001b[91m\tThe only question before us is whether those lines have been observed in the present case.\u001b[0m\n",
            "|\u001b[91mFAC       \t\u001b[0m|\u001b[91mANALYSIS\t\u001b[0m|\u001b[91m\tThe facts that have been found by the Sessions Judge and accepted by the High Court are to be found in the opening paragraph of the learned Sessions Judge's judgment.\u001b[0m\n",
            "|FAC       \t|FAC     \t|\tThey are as follows: \"Roop Chand, the son of Bed Raj accused, was removing the dung.\n",
            "|FAC       \t|FAC     \t|\tof the bullocks of Pheru deceased from an open space near his cattle shed.\n",
            "|FAC       \t|FAC     \t|\tPheru protested to, the boy and turned down the basket in which the boy had put the dung.\n",
            "|FAC       \t|FAC     \t|\tThe two accused who are brothers then came to the scene from their own cattle shed which was near by and there was an exchange of abuses between them and Pheru.\n",
            "|FAC       \t|FAC     \t|\tThe accused Sri Chand then caught hold of Pheru by the waist and Bed Raj accused took out a knife and stabbed him in 3 or 4 places.\n",
            "|FAC       \t|FAC     \t|\tThe knife was then left sticking in the neck of the deceased and the accused ran away\".\n",
            "|FAC       \t|FAC     \t|\tThe assault occurred about 8 o'clock on the morning of the 23rd February 1952.\n",
            "|FAC       \t|FAC     \t|\tPheru was removed to the hospital and the Medical Officer Dr. Fateh Singh examined him and found that he was suffering from shock.\n",
            "|FAC       \t|FAC     \t|\tHe found three injuries on his person: all \"simple\".\n",
            "|FAC       \t|FAC     \t|\tHe gave the following description of them: right side lower part.\n",
            "|FAC       \t|FAC     \t|\t(2) Incised wound: 1 \" x 1/3\" X1/3\" right deltoid region frontal and lower part above downward.\n",
            "|FAC       \t|FAC     \t|\t(3) Incised wound 1/2\" X 1/6\" X 1/4\"Epigastric region\".\n",
            "|FAC       \t|FAC     \t|\tHe said- \"When Pheru was admitted in the hospital he was under shock but his condition was not dangerous\n",
            "|FAC       \t|FAC     \t|\t. When Pheru came he could speak.\n",
            "|FAC       \t|FAC     \t|\tHe was not unconscious.\n",
            "|FAC       \t|FAC     \t|\tAs he was under shock no report was made for recording his dying declaration.\n",
            "|FAC       \t|FAC     \t|\tI cannot give the definite cause of death.\n",
            "|FAC       \t|FAC     \t|\tI cannot tell if sucH an InjurY can cause death.\n",
            "|FAC       \t|FAC     \t|\tThere was no Haemorrhage from Pheru's neck after his arrival in my hospital.\n",
            "|FAC       \t|FAC     \t|\tSpeaking:of the inJurieis, the doctor said- \"Injuries 2 and 3 on the person of Pheru which were incised wounds were not punctured.\n",
            "|FAC       \t|FAC     \t|\tIt was not possible to inflict them from a sharp pointed weapon\".\n",
            "|FAC       \t|FAC     \t|\tThe appellant was also examined by the doctor and a slight simple injury, which could have; been caused by a simple blunt weapon, was discovered.\n",
            "|FAC       \t|FAC     \t|\tThis indicates that there was a scuffle between the appellant and the deceased, in which the appellant was hit over the nose and, up to a point, bears out what the appellant says in his defence, namely that Pheru was beating the appellant's son Rup Chand; he went there and tried to extricate Rup Chand; Pheru started beating him (the appellant) and he, the appellant, received a flat blow on the nose.\n",
            "|FAC       \t|FAC     \t|\tThe depth of the injury on Pheru's neck was I of an inch.\n",
            "|FAC       \t|FAC     \t|\tIn this connection the doctor says- \"A knife can penetrate 1 1/2 or 2 inches in a case of deliberate stabbing\".\n",
            "|FAC       \t|FAC     \t|\tPheru died about 12-45 A.M. on the 24th February 1952, that is to say, about 16 or 17 hours after the assault.\n",
            "|FAC       \t|FAC     \t|\tThe post-mortem was conducted by another doctor, Dr. J. K. Dwivedi.\n",
            "|FAC       \t|FAC     \t|\tDescribing the injury on the neck-the only one we need consider as the other two were slight-he said that clotted blood was present all round injury No, 1, and, that--\"the:right side dome of pleura is punctured under injury No. 1 and clotted blood present all round it.\n",
            "|FAC       \t|FAC     \t|\tUpper lobe of right lung (appex) is punctured for 1/4\" X 1/4\" X 1/2\".\n",
            "|FAC       \t|FAC     \t|\tClotted blood present over the lung surface all round the punctured area.\n",
            "|FAC       \t|FAC     \t|\tA branch of the external jugular vein was divided in right side neck under injury No. I.\n",
            "|FAC       \t|FAC     \t|\tDeath was due to shock, and haemorrhage as a result of injury to neck\".\n",
            "|FAC       \t|FAC     \t|\tIn cross-examination he said- \"It was possible and impossible also that the bleeding could be stopped.\n",
            "|FAC       \t|FAC     \t|\tSuch injury as injury No. I are more likely to cause death\".\n",
            "|\u001b[91mRLC       \t\u001b[0m|\u001b[91mFAC     \t\u001b[0m|\u001b[91m\tAfter reviewing the evidence 'the learned Sessions Judge held- \"It is evident that the whole scene took just a few moments.\u001b[0m\n",
            "|\u001b[91mRLC       \t\u001b[0m|\u001b[91mFAC     \t\u001b[0m|\u001b[91m\tBoth of the accused must have been in a moment of heat and before either of them could think of doing any act, the whole thing was over........\u001b[0m\n",
            "|RLC       \t|RLC     \t|\tThat the injuries with the knife were likely to cause death is clear but they were caused at a time when the parties were in a heat and there was a sudden fight and no room for premeditation\".\n",
            "|RLC       \t|RLC     \t|\tBecause of this, and seeing that there was no reason to infer pre-concert, he acquitted the other accused, and by reason of those circumstances he considered that three years would be sufficient punishment and sentenced the appellant accordingly.\n",
            "|FAC       \t|FAC     \t|\tThis was on 17-11-1952.\n",
            "|FAC       \t|FAC     \t|\tThe appellant filed an appeal to the High Court on 1.8-12- 1952 and that Court thereupon issued notice to him to show cause why the sentence I should not be enhanced.\n",
            "|FAC       \t|FAC     \t|\tThe High Court directed enhancement on 7-1-1954.\n",
            "|FAC       \t|FAC     \t|\tOn the same day the State Government ordered the release of the appellant on probation, under section 2 of the U.P. Prisoners' Release on Probation Act, 1938, for the full term of the sentence imposed by the Sessions Court.\n",
            "|ANALYSIS  \t|ANALYSIS\t|\tWe are not concerned with the State Government's order except in so far' as it indicates the view that that Government took of the antecedents and conduct in prison of the appellant, matters that are also relevant for consideration by a Courtwhen determining a, question of sentence-' a prisoner can only be released on probation under that Act if the State Government is satisfied \"from his antecedents and his conduct in the prison that he is likely to abstain from crime and lead a peaceable life, if he is released from prison\".\n",
            "|ANALYSIS  \t|ANALYSIS\t|\tThese facts were not known to the High Court when it made its order of enhancement' but it is a matter relevant for our consideration now that the appeal is before us.\n",
            "|ANALYSIS  \t|ANALYSIS\t|\tNow the High Court accept the findings of the Sessions Judge about the circumstances in which the offence took place.\n",
            "|ANALYSIS  \t|ANALYSIS\t|\tThey agree that the attack was not premeditated and that there was a sudden quarrel and that the blows were inflicted in the heat of passion,.\n",
            "|ANALYSIS  \t|ANALYSIS\t|\tThey also say that there was counter-abuse and they notice the abrasion on the appellant's nose.\n",
            "|ANALYSIS  \t|ANALYSIS\t|\tDespite this they hold-that' \"it is possible that this injury was received by the appellant in the attempt of the deceased to resist the attack made by the appellant.\n",
            "|ANALYSIS  \t|ANALYSIS\t|\tThere was therefore no fight'.\n",
            "|ANALYSIS  \t|ANALYSIS\t|\tThis is a very half-hearted finding and ignores the fact that the benefit of all doubts must be given to the accused.\n",
            "|ANALYSIS  \t|ANALYSIS\t|\tIf it was only \"possible\" that the injury was due to Pheru's attempt to ward off an attack by the appellant, then it must be equally \"possible\" that it was received in the course of a, scuffle.\n",
            "|ANALYSIS  \t|ANALYSIS\t|\tThe appellant very definitely says in his examination that there was a fight and the abrasion on his nose which the doctor says was caused by a blunt weapon, bears out his version that Pheru struck him with his fist.\n",
            "|ANALYSIS  \t|ANALYSIS\t|\tThe circumstances also indicate that there must have been a scuffle.\n",
            "|ANALYSIS  \t|ANALYSIS\t|\tWhy else should it be necessary for the second accused to come and hold him down by the waist?\n",
            "|ANALYSIS  \t|ANALYSIS\t|\tWhen villagers or any man for that matter, come to blows after hot words and an interchange of abuse, there is nearly always resistance to the initial attack.\n",
            "|ANALYSIS  \t|ANALYSIS\t|\tVery rarely does a man \"turn the other cheek\".\n",
            "|ANALYSIS  \t|ANALYSIS\t|\tIt must also be remembered that the incident started with the use of force by Pheru.\n",
            "|ANALYSIS  \t|ANALYSIS\t|\tIt was he who took hold of the basket of cow dung andoverturned it.\n",
            "|ANALYSIS  \t|ANALYSIS\t|\tThat occasioned the quarrel, and the finding is that there was abuse and counter-abuse.\n",
            "|ANALYSIS  \t|ANALYSIS\t|\tIt was then that the second accused rushed in and caught Pheru by the waist.\n",
            "|ANALYSIS  \t|ANALYSIS\t|\tThat accused was acquitted because there was nothing to suggest that that was done in aid of the appellant's intention to-assault Pheru and he -was absolved of all intention to assault on his own account; and the finding is that even the appellant had no such intention till the last moment.\n",
            "|ANALYSIS  \t|ANALYSIS\t|\tIf that was the case, then why should the second accused rush in and hold Pheru by the waist?\n",
            "|ANALYSIS  \t|ANALYSIS\t|\tIf he had no intention to assault on his own account and none to assist the appellant in his assault, the only other reasonable conclusion is that he tried to stop a fight.\n",
            "|ANALYSIS  \t|ANALYSIS\t|\tIt would be fair in the circumstances to reach that conclusion, for the accused is as much entitled to the benefit of any doubt when a co-accused is acquitted as in any other case.\n",
            "|ANALYSIS  \t|ANALYSIS\t|\tIn any case, it was incumbent on the High Court to reach a more definite finding than the one given before -deciding to enhance the sentence.\n",
            "|ANALYSIS  \t|ANALYSIS\t|\tThe only reason that the learned Judges give is that Pheru was unarmed and as the attack was made with a knife it cannot be said that the appellant did not act in a cruel or unusual manner.\n",
            "|ANALYSIS  \t|ANALYSIS\t|\tNevertheless, they uphold the finding that the offence falls under section 304, Indian Penal Code, and not under section 302.\n",
            "|\u001b[91mPRE_RELIED\t\u001b[0m|\u001b[91mANALYSIS\t\u001b[0m|\u001b[91m\tA question of a sentence is a matter of discretion and it is well settled that when discretion has been properly exercised along accepted judicial lines, an appellate court should not interfere to the detriment of an accused person except for very strong reasons which must be disclosed on the face of the judgment; see for example the observations in Dalip Singh v. State of Punjab(1) and Nar Singh v. State of Uttar Pradesh (2).\u001b[0m\n",
            "|\u001b[91mRATIO     \t\u001b[0m|\u001b[91mANALYSIS\t\u001b[0m|\u001b[91m\tIn a matter of enhancement there should not be interference when the sentence passed imposes substantial punishment.\u001b[0m\n",
            "|RATIO     \t|RATIO   \t|\tInterference is only called for when it is manifestly inadequate.\n",
            "|RATIO     \t|RATIO   \t|\tIn our opinion, these principles have not been observed.\n",
            "|RATIO     \t|RATIO   \t|\tIt is (1) [1954] S.C.R. 145, 156. (2) [1955] 1 S.C.R. 238, 241,impossible to hold in'the circumstances described that the Sessions Judge did not impose a substantial, sentence, and no adequate reason has been assigned by the learned High Court Judges for considering the sentence, manifestly inadequate.\n",
            "|RPC       \t|RPC     \t|\tIn the circumstances, bearing all the considerations of this case in mind, we are of opinion that the appeal (which is limited to the question of sentence) should be allowed and that the sentence imposed by the High Court should be set aside and that of the Sessions Court restored.\n",
            "|RPC       \t|RPC     \t|\tOrdered accordingly.\n"
          ]
        }
      ]
    },
    {
      "cell_type": "markdown",
      "source": [
        "From this example, you can notice that the model tends to misclassify a short sequence of RLC-sentences within a long sequence of FAC-sentences. This could be due to the ambiguous labelling of this sentences, since they are very similar to facts as they report previous events. Looking at the RLC tagged sentences which precede and follow the misclassified sequence (which have been correctly classified), they contain words such as *Judge*, *Appeal*, *sentenced* and *High Court*, along with past verbs. Hence they are easier to be classified as Ruling by Previous Court. \n",
        "Moreover, in this example the model predicts ANALYSIS also for the first two sentences after the end of the ANALYSIS paragraph, since the following sentences are the last ones of the documents and bring less context information."
      ],
      "metadata": {
        "id": "G9XCq6_uZ-Fq"
      }
    },
    {
      "cell_type": "markdown",
      "source": [
        "#### Example 2"
      ],
      "metadata": {
        "id": "d7u7XYIP1rxr"
      }
    },
    {
      "cell_type": "code",
      "source": [
        "print_document(test_df, labels_true, predictions_m2, id2label, doc_id = 4178)"
      ],
      "metadata": {
        "colab": {
          "base_uri": "https://localhost:8080/"
        },
        "id": "gfBduwr4giqC",
        "outputId": "16fb9e6c-3c22-4984-edd2-f8f5c9079a01"
      },
      "execution_count": null,
      "outputs": [
        {
          "output_type": "stream",
          "name": "stdout",
          "text": [
            "|True class\t|Predicted class|\n",
            "|---------------|---------------|\n",
            "|PREAMBLE      \t|PREAMBLE      \t|\tPETITIONER: VEERA IBRAHIM Vs. RESPONDENT: STATE OF MAHARASHTRA DATE OF JUDGMENT18/03/1976 BENCH: SARKARIA, RANJIT SINGH\n",
            "|PREAMBLE      \t|PREAMBLE      \t|\tBENCH: SARKARIA, RANJIT SINGH UNTWALIA, N.L. CITATION: 1976 SCR (3) 672 1976 AIR 1167 1976 SCC (2) 302 ACT: Constitution of India, Art 20(3), conditions for applicability of, whether enquiry is `accusation' within the meaning of-Evidence Act, S 24, when attracted-What amounts to `confession' under S. 24. HEADNOTE: A truck was seized with its content of contraband goods for foreign make, on which no duty had been paid.\n",
            "|PREAMBLE      \t|PREAMBLE      \t|\tThe appellant who was in charge of the goods, was arrested while escaping from the truck and Rs. 2000/- were seized from him.\n",
            "|PREAMBLE      \t|PREAMBLE      \t|\tHis statement was recorded under S. 108, Customs Act, 1962.\n",
            "|PREAMBLE      \t|PREAMBLE      \t|\tThe appellant and the driver of the truck. were convicted by the Trial Court under Ss. 135 (a) and 135 (b) of the Customs Act. 1962, and S. 5 of the Imports & Exports (Control) Act, 1947.\n",
            "|PREAMBLE      \t|PREAMBLE      \t|\tThe High Court upheld their conviction under S. 135 (a) of the Customs Act, and acquitted them of the other charges.\n",
            "|PREAMBLE      \t|PREAMBLE      \t|\tIn appeal by leave granted under Art. 134(1) (c) of the Constitution, the appellant contended before this Court that his statement taken under S. 108, Customs Act, could not be used against him; firstly, as it was hit by Art. 20(3) of the Constitution on account of its having been taken while he was already an `accused' under S. 124, Bombay Police Act, and secondly.\n",
            "|PREAMBLE      \t|PREAMBLE      \t|\tit was barred under S. 24, Evidence Act, the same being a confession obtained under compulsion of law.\n",
            "|PREAMBLE      \t|PREAMBLE      \t|\tIt was also contended that in the absence of the requisite notification under S. 123(2), Customs Act, the statutory presumption under S. 123 could not be invoked by the prosecution, and without the same, the facts of the case were insufficient to establish an offence against the appellant under S. 135, Customs Act.\n",
            "|PREAMBLE      \t|PREAMBLE      \t|\tDismissing the appeal, the Court\n",
            "|PREAMBLE      \t|PREAMBLE      \t|\t, ^ HELD: (1) To claim the benefit of the guarantee against testimonial compulsion embodied in clause (3) of Art. 20, it must be shown, firstly, that the person who made the statement was `accused of any offence', secondly, that he made this statement under compulsion.\n",
            "|PREAMBLE      \t|PREAMBLE      \t|\tOnly a person against whom a formal accusation relating to the commission of an offence has been levelled would fall within its ambit.\n",
            "|PREAMBLE      \t|PREAMBLE      \t|\t[674C-D] R.C. Mehta v. State of West Bengal, [1969] 2 S.C.R. 461, applied. (2) To attract the prohibition enacted in S. 24 Evidence Act, these facts must be established. (i)\n",
            "|PREAMBLE      \t|PREAMBLE      \t|\tthat the statement in question is a\n",
            "|PREAMBLE      \t|PREAMBLE      \t|\tconfession;\n",
            "|PREAMBLE      \t|PREAMBLE      \t|\t(ii) that such confession has been made by an\n",
            "|PREAMBLE      \t|PREAMBLE      \t|\taccused person;\n",
            "|PREAMBLE      \t|PREAMBLE      \t|\t(iii)that it has been made to a person in authority; (iv)\n",
            "|PREAMBLE      \t|PREAMBLE      \t|\tthat the confession has been obtained by\n",
            "|PREAMBLE      \t|PREAMBLE      \t|\treason of any inducement threat or promise proceeding from a person in authority.\n",
            "|PREAMBLE      \t|PREAMBLE      \t|\t(v)\n",
            "|PREAMBLE      \t|PREAMBLE      \t|\tSuch inducement, threat or promise, must have reference to the charge against the accused person; (vi)\n",
            "|PREAMBLE      \t|PREAMBLE      \t|\tThe inducement, threat or promise must in the opinion of the Court be sufficient to give the accused person ground, which would appear to him reasonable, for supposing that by making it he would gain any advantage or avoid any evil of temporal nature in reference to the proceedings against him. [676F-H, 677A] (3)\n",
            "|PREAMBLE      \t|PREAMBLE      \t|\tA statement in order to amount to a `confession' must either admit in terms the offence, or at any rate substantially all the facts which constitute the offence.\n",
            "|PREAMBLE      \t|PREAMBLE      \t|\tAn admission of an incriminating fact, however grave, is not by itself a confession.\n",
            "|PREAMBLE      \t|PREAMBLE      \t|\tA statement which contains an exculpatory assertion of some fact, which if true, would negative the offence alleged, cannot amount to a `confession'.\n",
            "|PREAMBLE      \t|PREAMBLE      \t|\t[677A-C\n",
            "|PREAMBLE      \t|PREAMBLE      \t|\t] Pakala Narayana v. R. 66 I. A. 66 Palvinder kaur v. State of Punjab [1953] S.C.R. 94, Om Prakash v. State, A.I.R. 1960 S.C. 409, referred to.\n",
            "|PREAMBLE      \t|PREAMBLE      \t|\tJUDGMENT:\n",
            "|NONE          \t|NONE          \t|\tCRIMINAL APPELLATE JURISDICTION: Criminal Appeal No. 234 of 1971.\n",
            "|NONE          \t|NONE          \t|\tFrom the Judgment and order dated the 26-3-71 of the Bombay High Court at Bombay in Criminal Appeal No. 1434 of 1970.\n",
            "|NONE          \t|NONE          \t|\tK. R. Chaudhury and K. Rajendra Chaudhury for the Appellant.\n",
            "|NONE          \t|NONE          \t|\tH. R. Khanna and M. N. Shroff for Respondent.\n",
            "|NONE          \t|NONE          \t|\tThe Judgment of the Court was delivered by SARKARIA, J.-\n",
            "|FAC           \t|FAC           \t|\tVeera Ibrahim, appellant was accused No. 2 in the complaint filed by Assistant Collector of Customs, Preventive Department, Bombay before the Chief Presidency Magistrate for his prosecution along with one Abdul Umrao Rauf, accused No. 1, in respect of offences under ss. 135(a) and 135(b) of the Customs Act, 1962 and s. S of the Imports and Exports (Control) Act 1947.\n",
            "|RLC           \t|RLC           \t|\tThe trial Magistrate convicted both the accused on all the three charges and sentenced them to two years rigorous imprisonment on each count with a direction that the sentences would run concurrently.\n",
            "|\u001b[91mFAC           \t\u001b[0m|\u001b[91mRLC           \t\u001b[0m|\u001b[91m\tAgainst that judgment, two separate appeals were filed by the convicts in the Bombay High Court which acquitted both the accused of the offences under s. 5 of the Imports and Exports (Control) Act, 1947 and under s. 135(b) of the Customs Act, but maintained their conviction on the charge under s. 135(a) of that Act reducing the sentence to one years rigorous imprisonment,\u001b[0m\n",
            "|FAC           \t|FAC           \t|\tThe High Court, however, granted a certificate under Article 134(1) (c) of the Constitution, on the basis of which, this appeal has been filed.\n",
            "|ISSUE         \t|ISSUE         \t|\tThe main question with reference to which the certificate was granted by the High Court, was: whether s. 108 of the Customs Act, 1962 is ultra vires the provisions of cl. (3) of Article 20 of the Constitution ?\n",
            "|\u001b[91mANALYSIS      \t\u001b[0m|\u001b[91mFAC           \t\u001b[0m|\u001b[91m\tBut Mr. Chaudhry, appearing for the appellant, does not press this question now before us.\u001b[0m\n",
            "|\u001b[91mARG_PETITIONER\t\u001b[0m|\u001b[91mANALYSIS      \t\u001b[0m|\u001b[91m\tThe first contention canvassed by the Counsel is that on the facts and circumstances of the case, the appellant's statement recorded under s. 108 of the Customs Act 1962, on the foot of which the appellant has been convicted, was hit by clause (3) of Article 20 because at the time of making that statement, the appellant was \"accused of any offence\" under s. 124 of the Bombay Police Act, and the statement was obtained under compulsion of law.\u001b[0m\n",
            "|\u001b[91mARG_PETITIONER\t\u001b[0m|\u001b[91mANALYSIS      \t\u001b[0m|\u001b[91m\tStress has been placed on the fact that the appellant was, in fact, arrested by the police on a charge under s. 124 of the Bombay Police Act and the goods were seized under a Panchnama, prepared by them in the course of investigation.\u001b[0m\n",
            "|\u001b[91mARG_PETITIONER\t\u001b[0m|\u001b[91mANALYSIS      \t\u001b[0m|\u001b[91m\tIn this connection, reference has been made toM. P. Sharma and Ors. v. Satish Chandra, District Magistrate, Delhi and\u001b[0m\n",
            "|\u001b[91mARG_PETITIONER\t\u001b[0m|\u001b[91mNONE          \t\u001b[0m|\u001b[91m\tOrs.(1)\u001b[0m\n",
            "|ARG_RESPONDENT\t|ARG_RESPONDENT\t|\tOn the other hand, Mr. H. R. Khanna, appearing for the respondent submits that the words \"accused of any offence\" occurring in Art. 20(3) take in only that person against whom a formal accusation of an offence has been levelled.\n",
            "|ARG_RESPONDENT\t|ARG_RESPONDENT\t|\tTwo other conditions for the applicability of this Clause, according to the Counsel, are: (a) that the testimony in question had been obtained under compulsion, and (b) it relates to the offence of which he stands formally accused.\n",
            "|\u001b[91mANALYSIS      \t\u001b[0m|\u001b[91mARG_RESPONDENT\t\u001b[0m|\u001b[91m\tThese conditions, it is maintained, were not fulfilled in the present case.\u001b[0m\n",
            "|STA           \t|STA           \t|\tClause (3) of Article 20 provides: \"No person accused of any offence shall be compelled to be a witness against himself\".\n",
            "|ANALYSIS      \t|ANALYSIS      \t|\tFrom an analysis of this clause, it is apparent that in order to claim the benefit of the guarantee against testimonial compulsion embodied in this clause, it must be shown, firstly, that the person who made the statement was \"accused of any offence\" secondly, that he made this statement under compulsion.\n",
            "|ANALYSIS      \t|ANALYSIS      \t|\tThe phrase \"accused of any offence\" has been the subject of several decisions of this Court so that by now it is well settled that only a person against whom a formal accusation relating to the commission of an offence has been levelled which in the normal course may result in his prosecution, would fall within its ambit.\n",
            "|PRE_RELIED    \t|PRE_RELIED    \t|\tIn R. C. Mehta v. State of West Bengal, this point came up for consideration in the context of a statement recorded by an officer of Customs in an enquiry under s. 171-A of the Sea Customs Act.\n",
            "|\u001b[91mPRE_RELIED    \t\u001b[0m|\u001b[91mANALYSIS      \t\u001b[0m|\u001b[91m\tOne of the contentions raised was, that a person against whom such an enquiry is made is a `person accused of an offence', and on that account, he cannot be compelled to be a witness against himself and the statement obtained or evidence collected under the aforesaid provision by the officer of Customs is inadmissible.\u001b[0m\n",
            "|\u001b[91mPRE_RELIED    \t\u001b[0m|\u001b[91mANALYSIS      \t\u001b[0m|\u001b[91m\tThis contention was repelled.\u001b[0m\n",
            "|\u001b[91mPRE_RELIED    \t\u001b[0m|\u001b[91mSTA           \t\u001b[0m|\u001b[91m\tShah J., speaking for the Court, made these apposite observations: \"Under s. 171-A of the Sea Customs Act, a Customs officer has power in an enquiry in connection with the smuggling of goods to summon any person whose attendance he considers necessary, to give evidence or to produce a document or any other thing, and by cl. (3) the person so summoned is bound to state the truth upon any subject respecting which he is examined or makes statements and to produce such documents and other things as may be required.\u001b[0m\n",
            "|\u001b[91mPRE_RELIED    \t\u001b[0m|\u001b[91mANALYSIS      \t\u001b[0m|\u001b[91m\tThe expression \"any person\" includes a person who is suspected or believed to be concerned in the smuggling of goods.\u001b[0m\n",
            "|\u001b[91mPRE_RELIED    \t\u001b[0m|\u001b[91mANALYSIS      \t\u001b[0m|\u001b[91m\tBut a person arrested by a Customs officer because he is found in possession of smuggled goods or on suspicion that he is concerned in smuggling is not when called upon by the Customs officer to make a statement or to produce a document or thing, a person accused of an offence within the meaning of Art. 20(3) of the Constitution.\u001b[0m\n",
            "|\u001b[91mPRE_RELIED    \t\u001b[0m|\u001b[91mANALYSIS      \t\u001b[0m|\u001b[91m\tThe steps taken by the Customs officer are for the purpose of holding an enquiry under the Sea Customs Act and for adjudging confiscation of goods dutiable or prohibited and imposing penalties.\u001b[0m\n",
            "|\u001b[91mPRE_RELIED    \t\u001b[0m|\u001b[91mANALYSIS      \t\u001b[0m|\u001b[91m\tThe Customs officer does not at that stage accuse the person suspected of infringing the provisions of the Sea Customs Act with the commission of any offence.\u001b[0m\n",
            "|\u001b[91mPRE_RELIED    \t\u001b[0m|\u001b[91mANALYSIS      \t\u001b[0m|\u001b[91m\tHis primary duty is to prevent smuggling and to recover duties of customs when collecting evidence in respect of smuggling against a person suspected of infringing the provisions of the Sea Customs Act he is not accusing the person of any offence punishable at a trial before a magistrate\".\u001b[0m\n",
            "|\u001b[91mPRE_RELIED    \t\u001b[0m|\u001b[91mANALYSIS      \t\u001b[0m|\u001b[91m\tAfter a survey of case law, the Court pointed out the circumstances, the existence of which is ordinarily necessary to clothe a person with the character of a \"person accused of an offence\": \"Normally a person stands in the character of an accused when a First Information Report is lodged. against him in respect of an offence before an officer competent to investigate it, or when a complaint is made relating to the commission of an offence before a Magistrate competent to try or send to another Magistrate for trial the offence.\u001b[0m\n",
            "|\u001b[91mPRE_RELIED    \t\u001b[0m|\u001b[91mANALYSIS      \t\u001b[0m|\u001b[91m\tWhere a Customs officer arrests a person and informs that person of the grounds of his arrest (which he is bound to do under Art. 221) of the Constitution for the purpose of holding an enquiry into the infringement of the provisions of the Sea Customs Act which he has reason to believe has taken place, there is no formal accusation of an offence.\u001b[0m\n",
            "|\u001b[91mPRE_RELIED    \t\u001b[0m|\u001b[91mANALYSIS      \t\u001b[0m|\u001b[91m\tIn the case of an offence by infringement of the Sea Customs Act and punishable at the trial before a Magistrate, there is an accusation when a complaint is lodged by an officer competent in that behalf before the Magistrate\".\u001b[0m\n",
            "|ANALYSIS      \t|ANALYSIS      \t|\tThe above-quoted observations are a complete answer to the contention of the appellant.\n",
            "|ANALYSIS      \t|ANALYSIS      \t|\tIn the light of these principles, it is clear that when the statement of the appellant was recorded by the Customs officer under s. 108, the appellant was not a person \"accused of any offence\" under the Customs Act, 1962.\n",
            "|ANALYSIS      \t|ANALYSIS      \t|\tAn accusation which would stamp him with the character of such a person was, levelled only when the complaint was filed against him, by the Assistant Collector of Customs complaining of the commission of offences under s. 135(a) and s. 135(b) of the Customs Act.\n",
            "|ANALYSIS      \t|ANALYSIS      \t|\tTrue, that the appellant was arrested by the police on December 12, 1967 on suspicion of having committed an offence under s. 124, of the Bombay Police Act and a Panchnama of the packages in the truck was also prepared.\n",
            "|ANALYSIS      \t|ANALYSIS      \t|\tBut the factual ingredients of that offence are materially different from those of an offence under the Customs Act.\n",
            "|STA           \t|STA           \t|\tThis will be apparent from a bare reading of s. 124 of the Bombay Police Act, which provides : \"Whoever has in his possession or conveys in any manner, or offers for sale or pawn, anything which there is reason to believe is stolen property or property fraudulently obtained shall, if he fails to account for such possession or to act to the satisfaction of the Magistrate, on conviction, be punished with imprisonment for a term (which may extend to one year but shall not, except for reasons to be recorded in writing, be less taken one month and shall also be liable to the fine which may extend to five hundred rupees). Even in respect of that offence, the police did not register any case or enter any F.I.R. which normally furnishes a foundation for commencing a police investigation.\n",
            "|ANALYSIS      \t|ANALYSIS      \t|\tThe police did not open the packages or prepare inventories of the goods packed therein.\n",
            "|ANALYSIS      \t|ANALYSIS      \t|\tIndeed, the police appear to have dropped further proceedings.\n",
            "|ANALYSIS      \t|ANALYSIS      \t|\tThey did not take any steps for prosecuting the appellant even for an offence under the Bombay Police Act, 1951.\n",
            "|ANALYSIS      \t|ANALYSIS      \t|\tThey informed the customs authorities, who opened the packages, inspected the goods and on finding them contraband goods, seized them under a Panchnama.\n",
            "|ANALYSIS      \t|ANALYSIS      \t|\tThe Customs authorities called the appellant and his companion to the Customs House, took them into custody, and after due compliance with the requirements of law, the Inspector of Customs questioned the appellant and recorded his statement under s. 108 of the Customs Act.\n",
            "|ANALYSIS      \t|ANALYSIS      \t|\tUnder the circumstances it was manifest that at the time when the Custom officer recorded the statement of the appellant, the latter was not formally \"accused of any offence.\"\n",
            "|ANALYSIS      \t|ANALYSIS      \t|\tThe High Court was therefore right in holding that the statement recorded by the Inspector of Customs was not hit by Article 20(3) of the Constitution.\n",
            "|ISSUE         \t|ISSUE         \t|\tThe next question to be considered is, whether this statement was hit by s. 24 of the Evidence Act.\n",
            "|ANALYSIS      \t|ANALYSIS      \t|\tThe contention is that this statement was obtained under compulsion of law inasmuch as he was required to state the truth under threat of prosecution for perjury.\n",
            "|ANALYSIS      \t|ANALYSIS      \t|\tFor reasons that follow, we are unable to sustain this contention.\n",
            "|ANALYSIS      \t|ANALYSIS      \t|\tTo attract the prohibition enacted in s. 24, Evidence Act, these facts must be established: (i) that the statement in question is a confession; (ii) that such confession has been made by an accused person; (iii)that it has been made to a person in authority; (iv) that the confession has been obtained by reason of any inducement, threat or promise proceeding from a person in authority; (v) such inducement, threat or promise, must have reference to the charge against the accused person; (vi) the inducement, threat or promise must in the opinion of the Court be sufficient to give the accused person grounds, which would appear to him reasonable, for supposing that by making it he would gain any advantage or avoid any evil of a temporal nature in reference to the proceedings against him.\n",
            "|ANALYSIS      \t|ANALYSIS      \t|\tIn the present case, facts (i), (iv) and (vi) have not been established.\n",
            "|ANALYSIS      \t|ANALYSIS      \t|\tFirstly, the statement in question is not a \"confession' within the contemplation of s. 24.\n",
            "|ANALYSIS      \t|ANALYSIS      \t|\tIt is now well-settled that a statement in order to amount to a \"confession\" must either admit in terms the offence, or at any rate substantially all the facts which constitute the offence.\n",
            "|ANALYSIS      \t|ANALYSIS      \t|\tAn admission of an incriminating fact, howsoever grave, is not by itself a confession.\n",
            "|\u001b[91mPRE_RELIED    \t\u001b[0m|\u001b[91mANALYSIS      \t\u001b[0m|\u001b[91m\tA statement which contains an exculpatory assertion of some fact, which if true, would negative the offence alleged, cannot amount to a confession (see Pakala Narayana v. R.; Plavinder Kaur v. State of Punjab; Om Prakash v. State.\u001b[0m\n",
            "|ANALYSIS      \t|ANALYSIS      \t|\tA perusal of the statement Ex. I made by the appellant before the Inspector of Customs would show that it contained exculpatory matter.\n",
            "|ANALYSIS      \t|ANALYSIS      \t|\tTherein, the deponent claimed that he was not aware that the packages which were loaded in the truck were contraband goods, and alleged that the goods were not loaded under his instructions.\n",
            "|ANALYSIS      \t|ANALYSIS      \t|\tThe deponent claimed to be an innocent traveller in the truck when he said: \"I did not ask Mullaji (driver) what goods were being loaded in his lorry...\n",
            "|ANALYSIS      \t|ANALYSIS      \t|\tMullaji was only my friend and I was not aware of any of his mala fide activities\".\n",
            "|ANALYSIS      \t|ANALYSIS      \t|\tMoreover, the incriminating facts admitted in this statement, do not, even if taken cumulatively amount to admission of all the facts which constitute any offence.\n",
            "|ANALYSIS      \t|ANALYSIS      \t|\tTo bring home an offence under s. 135 of the Customs Act, in addition to the facts admitted in Ex. I, it had to be established further that these goods were contraband goods.\n",
            "|ANALYSIS      \t|ANALYSIS      \t|\tFor these reasons, it could be said beyond doubt, that the statement Ex. 1 was not a \"confession\" within the meaning of s. 24, Evidence Act.\n",
            "|ANALYSIS      \t|ANALYSIS      \t|\tSecondly, it has not been shown that the Customs officer-though a person in authority-had offered any inducement or held out any threat or promise to the appellant.\n",
            "|\u001b[91mFAC           \t\u001b[0m|\u001b[91mANALYSIS      \t\u001b[0m|\u001b[91m\tChristopher Soares, the Inspector of (Customs (P. W. 4) testified that no threats, coercion or inducements were used and that the statement Ex. 1 was made by the appellant, voluntarily.\u001b[0m\n",
            "|ANALYSIS      \t|ANALYSIS      \t|\tWhile it may be conceded that a person summoned by an officer of Customs to make a statement under s. 108 of the Customs Act, is under compulsion of law to state the truth, the compulsion there under, assuming it amounts to a threat, does not proceed \"from a person in authority\" within the contemplation of s. 24, but emanates from law.\n",
            "|ANALYSIS      \t|ANALYSIS      \t|\tThirdly, the mere fact that the Inspector of Customs had, before recording the statement, warned the deponent of the possibility of hisprosecution for perjury in case he did not make the statement truthfully, cannot be construed as a threat held out by the officer which could have reasonably caused the person making the statement to suppose that he would by making that statement, gain any advantage or avoid any evil of a temporal nature in reference to the proceedings against him for smuggling.\n",
            "|ANALYSIS      \t|ANALYSIS      \t|\tIn view of what has been said above, we have no hesitation in holding that the statement Ex. 1, was not barred under s. 24, Evidence Act.\n",
            "|ANALYSIS      \t|ANALYSIS      \t|\tThe statement Ex. P-1 was clearly admissible under s. 21, Evidence Act as an admission of incriminating facts.\n",
            "|ANALYSIS      \t|ANALYSIS      \t|\tLastly, Mr. Chaudhry tried to contend that the incriminating facts admitted in Ex. 1 taken along with the other facts appearing in the evidence of prosecution witnesses, were insufficient to establish an offence under s. 135, Customs Act against the appellant because no notification under sub-s. (2) of s. 123, of the Customs Act had been issued in respect of the import of the goods of the kind seized, and the aid of the statutory presumption under that section was not available to the prosecution.\n",
            "|ANALYSIS      \t|ANALYSIS      \t|\tWe are unable to accept this contention.\n",
            "|ANALYSIS      \t|ANALYSIS      \t|\tWhile it is true that in the absence of the requisite notification, the statutory presumption under s. 123 could not be invoked by the prosecution, the circumstances established unerringly raise an inference with regard to all the factual ingredients of an offence under s. 135(b) read with s. 135(ii) of the Customs Act.\n",
            "|ANALYSIS      \t|ANALYSIS      \t|\tIn Ex. 1 which was proved by P.W. 4, it is admitted that these packages which were later found to contain contraband goods by the Customs authorities, were surreptitiously loaded in the truck under cover of darkness at Reti Bunder (sea shore) from the side of sea-side wall, in the presence of the appellant, and thereafter the first accused took the wheel, while the appellant sat by his side in the truck, and drove towards Sandhurst Station.\n",
            "|ANALYSIS      \t|ANALYSIS      \t|\tIt is further admitted that some Bania paid Rs. 2,000/- to the appellant which was meant to be given to the driver of the truck.\n",
            "|ANALYSIS      \t|ANALYSIS      \t|\tUnfortunately, the truck skidded near the Dongri Police Station and came to a stop.\n",
            "|ANALYSIS      \t|ANALYSIS      \t|\tOn hearing the impact of the accident, the police came out, took both the accused into the Police Station and seized the truck and the goods.\n",
            "|ANALYSIS      \t|ANALYSIS      \t|\tIn short, the. appellant had clearly admitted that these packages containing the contraband goods were imported surreptitiously from Reti Bunder under cover of darkness.\n",
            "|ANALYSIS      \t|ANALYSIS      \t|\tIt was further established de-hors the statement of the appellant, that these packages, on opening by the Customs officer, were found to contain contraband goods of foreign make.\n",
            "|ANALYSIS      \t|ANALYSIS      \t|\tThey were brand new articles packed.\n",
            "|ANALYSIS      \t|ANALYSIS      \t|\tThe circumstances of the arrest of the appellant while escaping from the truck, the seizure of the truck and the goods, the contraband nature of the goods, the fact that at the time of the seizure, the goods, were in the charge of the appellant, the fact that no duty on these goods had been paid, the seizure of Rs. 2,000/- as cash from the appellant etc. were proved by evidence aliunde rendered by P. Ws. 1 and 2.\n",
            "|ANALYSIS      \t|ANALYSIS      \t|\tTo some extent, the hostile witness, P.W. 5, also, supported the prosecution.\n",
            "|\u001b[91mRATIO         \t\u001b[0m|\u001b[91mANALYSIS      \t\u001b[0m|\u001b[91m\tThe circumstances established unmistakably and irresistibly pointed to the conclusion that the appellant was knowingly concerned in a fraudulent attempt at evasion, if not, fraudulent evasion, of duty chargeable on those contraband goods.\u001b[0m\n",
            "|RPC           \t|RPC           \t|\tIn the result, the appeal fails and is dismissed.\n",
            "|\u001b[91mNONE          \t\u001b[0m|\u001b[91mRPC           \t\u001b[0m|\u001b[91m\tM.R. Appeal dismissed.\u001b[0m\n"
          ]
        }
      ]
    },
    {
      "cell_type": "markdown",
      "source": [
        "As previously noted in the confusion matrix, this example shows as ARG_PETITIONER and PRE_RELIED are almost always misclassified with ANALYSIS. In particular, the first sentence of the PRE_RELIED paragraph was correctly classified since it contained a direct reference to a previous case (*In R. C. Mehta v. State of West Bengal*). However, the following related sentences were wrongly classifyied as ANALYSIS and one was classyfied as STATUTE. This last misclassification could be due to the fact that the sentence contains a citation of a previous court about a statute. (*Shah J., speaking for the Court, made these apposite observations: \"Under s. 171-A of the Sea Customs Act ...*)"
      ],
      "metadata": {
        "id": "895TCy5qg-wN"
      }
    },
    {
      "cell_type": "markdown",
      "source": [
        "## Conclusion"
      ],
      "metadata": {
        "id": "yoHoh8zhiPuG"
      }
    },
    {
      "cell_type": "markdown",
      "source": [
        "Our study showed that InLegalBERT with a context-aware approach outperforms other models in identifying Rhetorical Roles in legal documents, with a Micro-F1 score of 0.82. The introduction of the context as input enabled the model to gather more information from the semantic meaning of the surrounding sentences, that resulted in more effective sentence embeddings when predicting the Rhetorical Role. This approach effectively classify sentences belonging to the beginning (PREAMBLE) and ending (RPC) of legal documents but further improvement is needed to differentiate similar discussions (ANALYSIS, PRECEDENTS, ARGUMENTS) in Court Appeals. As a future work, we aim to enhance the model's differentiation capabilities to improve its performance in the legal domain."
      ],
      "metadata": {
        "id": "l3trEsaboMHW"
      }
    },
    {
      "cell_type": "markdown",
      "source": [
        "To submit our results and participate in the challenge, InLegaBERT was then retrained using all the available annotated data (the union of the training and the development set) in order to be sure to maximize performances. The model obtained a Micro-F1 score of 81.12\\% on the submission data, that resulted in the 8th position in the leaderboard."
      ],
      "metadata": {
        "id": "pSIlV84g50LC"
      }
    },
    {
      "cell_type": "markdown",
      "source": [
        "![task_a_results.png](data:image/png;base64,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)"
      ],
      "metadata": {
        "id": "QJzEzH774uyF"
      }
    },
    {
      "cell_type": "markdown",
      "source": [
        "## Code for submission"
      ],
      "metadata": {
        "id": "ZgOW1pX6i_BQ"
      }
    },
    {
      "cell_type": "markdown",
      "source": [
        "In order to submit our solution to the challenge we have to download the test dataset and then modify it by substituting all the \"DUMMY\" labels with the predictions made by our model."
      ],
      "metadata": {
        "id": "-m-SzXBubueD"
      }
    },
    {
      "cell_type": "markdown",
      "source": [
        "The following cell imports and loads the testing dataset.\n",
        "\n",
        "Unfortunately this dataset is not publicly available, since it was distributed to the challenge participants only."
      ],
      "metadata": {
        "id": "TDL8stmeW7ef"
      }
    },
    {
      "cell_type": "code",
      "source": [
        "from google.colab import drive\n",
        "\n",
        "drive.mount('/content/drive', force_remount=True)\n",
        "\n",
        "test_new_json = open('/content/drive/MyDrive/RR_TEST_DATA_FS.json')"
      ],
      "metadata": {
        "colab": {
          "base_uri": "https://localhost:8080/"
        },
        "id": "dGLfyFLUswJS",
        "outputId": "aeac4a2d-f203-4bc7-bbef-157209fd0156"
      },
      "execution_count": null,
      "outputs": [
        {
          "output_type": "stream",
          "name": "stdout",
          "text": [
            "Mounted at /content/drive\n"
          ]
        }
      ]
    },
    {
      "cell_type": "code",
      "source": [
        "test_new = json.load(test_new_json)\n",
        "test_df_new = rearrange_df(test_new, max_len_context=MAX_SEQUENCE_LENGTH)"
      ],
      "metadata": {
        "id": "fsHtUjMIkoxu"
      },
      "execution_count": null,
      "outputs": []
    },
    {
      "cell_type": "markdown",
      "source": [
        "We defined a function to insert the predictions inferred by our model into the json file of the test set."
      ],
      "metadata": {
        "id": "x_Le0mFanSEb"
      }
    },
    {
      "cell_type": "code",
      "source": [
        "def annotate_label(test_data: list,\n",
        "                   predictions: list):\n",
        "    \"\"\"\n",
        "    Params:\n",
        "      test_data : json dictionary containing the test dataset\n",
        "      predictions : the list of the predictions of a model on the test dataset\n",
        "    Returns:\n",
        "      new_test_data : json dictionary containing the full dataset plus the\n",
        "                      labels predicted by th model\n",
        "    \"\"\"\n",
        "\n",
        "    new_test_data = test_data\n",
        "\n",
        "    sentence = 0\n",
        "\n",
        "    for doc in tqdm(new_test_data):\n",
        "        for doc_ann in doc['annotations']:\n",
        "            for sent in doc_ann['result']:\n",
        "                sent['value']['labels'][0] = predictions[sentence]\n",
        "                sentence += 1\n",
        "\n",
        "    return new_test_data"
      ],
      "metadata": {
        "id": "yCtvOciVjEVE"
      },
      "execution_count": null,
      "outputs": []
    },
    {
      "cell_type": "markdown",
      "source": [
        "Perform the prediction on the test set."
      ],
      "metadata": {
        "id": "Tj8VHQevcXCr"
      }
    },
    {
      "cell_type": "code",
      "execution_count": null,
      "metadata": {
        "colab": {
          "base_uri": "https://localhost:8080/",
          "height": 173,
          "referenced_widgets": [
            "eae0d4ae0f054c4888647939cfa703b4",
            "6e1909f53eed4243ad465e146da115dc",
            "ff874f241ca14359b3d66945b525fa39",
            "c697a527b1644298b9f77ba45c165e7e",
            "a40f71fe087e43f08eb17c40474df477",
            "e06ccbcd2da74f95a6cc64a36c555416",
            "0344a4e778724632af93aeae93810661",
            "35fb6f9249d2406ea550d8c9e714bf87",
            "1e0e4cc579424efdb0e89be2f7cdec28",
            "daadf51f06b8444da2ac76b5d5c7fcad",
            "b0b7494d9d754e3399d1fc001cbaf823"
          ]
        },
        "outputId": "4283ad87-e7b6-474b-b808-0188df77ff5a",
        "id": "EuWnfPtPjEVF"
      },
      "outputs": [
        {
          "output_type": "stream",
          "name": "stdout",
          "text": [
            "Processing test data\n"
          ]
        },
        {
          "output_type": "display_data",
          "data": {
            "text/plain": [
              "  0%|          | 0/5 [00:00<?, ?ba/s]"
            ],
            "application/vnd.jupyter.widget-view+json": {
              "version_major": 2,
              "version_minor": 0,
              "model_id": "eae0d4ae0f054c4888647939cfa703b4"
            }
          },
          "metadata": {}
        },
        {
          "output_type": "stream",
          "name": "stderr",
          "text": [
            "***** Running Prediction *****\n",
            "  Num examples = 4158\n",
            "  Batch size = 16\n",
            "You're using a BertTokenizerFast tokenizer. Please note that with a fast tokenizer, using the `__call__` method is faster than using a method to encode the text followed by a call to the `pad` method to get a padded encoding.\n",
            "You're using a BertTokenizerFast tokenizer. Please note that with a fast tokenizer, using the `__call__` method is faster than using a method to encode the text followed by a call to the `pad` method to get a padded encoding.\n"
          ]
        },
        {
          "output_type": "display_data",
          "data": {
            "text/plain": [
              "<IPython.core.display.HTML object>"
            ],
            "text/html": []
          },
          "metadata": {}
        }
      ],
      "source": [
        "logits = exec_eval_pipeline(trainer_model_2, tokenizer_model_2, test_df_new, context=True)"
      ]
    },
    {
      "cell_type": "markdown",
      "source": [
        "Remap the numerical labels with the text ones and modify the json file that will be uploaded."
      ],
      "metadata": {
        "id": "rqplhLPecpgp"
      }
    },
    {
      "cell_type": "code",
      "execution_count": null,
      "metadata": {
        "colab": {
          "base_uri": "https://localhost:8080/"
        },
        "id": "or6uCuHzqXz-",
        "outputId": "2fb09f6a-61fa-4741-c2ae-fba4f209b10c"
      },
      "outputs": [
        {
          "output_type": "stream",
          "name": "stderr",
          "text": [
            "100%|██████████| 50/50 [00:00<00:00, 26472.51it/s]\n"
          ]
        }
      ],
      "source": [
        "predictions = [np.argmax(pred) for pred in logits]\n",
        "prediction_str = [id2label[pred] for pred in predictions]\n",
        "\n",
        "submission_json = annotate_label(test_new, prediction_str)"
      ]
    },
    {
      "cell_type": "code",
      "source": [
        "with open('/content/submission.json', 'w') as outfile:\n",
        "    json.dump(submission_json, outfile)"
      ],
      "metadata": {
        "id": "9eGJY8WVwSiq"
      },
      "execution_count": null,
      "outputs": []
    },
    {
      "cell_type": "markdown",
      "source": [
        "Result of the submission F1-Micro 81.12%"
      ],
      "metadata": {
        "id": "uEoHfbMdzSpe"
      }
    }
  ],
  "metadata": {
    "colab": {
      "collapsed_sections": [
        "CN-BwrOCH_Bo",
        "4Y0TUHAw8tAd"
      ],
      "provenance": [],
      "toc_visible": true,
      "include_colab_link": true
    },
    "gpuClass": "standard",
    "kernelspec": {
      "display_name": "Python 3",
      "name": "python3"
    },
    "language_info": {
      "name": "python"
    },
    "widgets": {
      "application/vnd.jupyter.widget-state+json": {
        "eae0d4ae0f054c4888647939cfa703b4": {
          "model_module": "@jupyter-widgets/controls",
          "model_name": "HBoxModel",
          "model_module_version": "1.5.0",
          "state": {
            "_dom_classes": [],
            "_model_module": "@jupyter-widgets/controls",
            "_model_module_version": "1.5.0",
            "_model_name": "HBoxModel",
            "_view_count": null,
            "_view_module": "@jupyter-widgets/controls",
            "_view_module_version": "1.5.0",
            "_view_name": "HBoxView",
            "box_style": "",
            "children": [
              "IPY_MODEL_6e1909f53eed4243ad465e146da115dc",
              "IPY_MODEL_ff874f241ca14359b3d66945b525fa39",
              "IPY_MODEL_c697a527b1644298b9f77ba45c165e7e"
            ],
            "layout": "IPY_MODEL_a40f71fe087e43f08eb17c40474df477"
          }
        },
        "6e1909f53eed4243ad465e146da115dc": {
          "model_module": "@jupyter-widgets/controls",
          "model_name": "HTMLModel",
          "model_module_version": "1.5.0",
          "state": {
            "_dom_classes": [],
            "_model_module": "@jupyter-widgets/controls",
            "_model_module_version": "1.5.0",
            "_model_name": "HTMLModel",
            "_view_count": null,
            "_view_module": "@jupyter-widgets/controls",
            "_view_module_version": "1.5.0",
            "_view_name": "HTMLView",
            "description": "",
            "description_tooltip": null,
            "layout": "IPY_MODEL_e06ccbcd2da74f95a6cc64a36c555416",
            "placeholder": "​",
            "style": "IPY_MODEL_0344a4e778724632af93aeae93810661",
            "value": "100%"
          }
        },
        "ff874f241ca14359b3d66945b525fa39": {
          "model_module": "@jupyter-widgets/controls",
          "model_name": "FloatProgressModel",
          "model_module_version": "1.5.0",
          "state": {
            "_dom_classes": [],
            "_model_module": "@jupyter-widgets/controls",
            "_model_module_version": "1.5.0",
            "_model_name": "FloatProgressModel",
            "_view_count": null,
            "_view_module": "@jupyter-widgets/controls",
            "_view_module_version": "1.5.0",
            "_view_name": "ProgressView",
            "bar_style": "success",
            "description": "",
            "description_tooltip": null,
            "layout": "IPY_MODEL_35fb6f9249d2406ea550d8c9e714bf87",
            "max": 5,
            "min": 0,
            "orientation": "horizontal",
            "style": "IPY_MODEL_1e0e4cc579424efdb0e89be2f7cdec28",
            "value": 5
          }
        },
        "c697a527b1644298b9f77ba45c165e7e": {
          "model_module": "@jupyter-widgets/controls",
          "model_name": "HTMLModel",
          "model_module_version": "1.5.0",
          "state": {
            "_dom_classes": [],
            "_model_module": "@jupyter-widgets/controls",
            "_model_module_version": "1.5.0",
            "_model_name": "HTMLModel",
            "_view_count": null,
            "_view_module": "@jupyter-widgets/controls",
            "_view_module_version": "1.5.0",
            "_view_name": "HTMLView",
            "description": "",
            "description_tooltip": null,
            "layout": "IPY_MODEL_daadf51f06b8444da2ac76b5d5c7fcad",
            "placeholder": "​",
            "style": "IPY_MODEL_b0b7494d9d754e3399d1fc001cbaf823",
            "value": " 5/5 [00:05&lt;00:00,  1.07ba/s]"
          }
        },
        "a40f71fe087e43f08eb17c40474df477": {
          "model_module": "@jupyter-widgets/base",
          "model_name": "LayoutModel",
          "model_module_version": "1.2.0",
          "state": {
            "_model_module": "@jupyter-widgets/base",
            "_model_module_version": "1.2.0",
            "_model_name": "LayoutModel",
            "_view_count": null,
            "_view_module": "@jupyter-widgets/base",
            "_view_module_version": "1.2.0",
            "_view_name": "LayoutView",
            "align_content": null,
            "align_items": null,
            "align_self": null,
            "border": null,
            "bottom": null,
            "display": null,
            "flex": null,
            "flex_flow": null,
            "grid_area": null,
            "grid_auto_columns": null,
            "grid_auto_flow": null,
            "grid_auto_rows": null,
            "grid_column": null,
            "grid_gap": null,
            "grid_row": null,
            "grid_template_areas": null,
            "grid_template_columns": null,
            "grid_template_rows": null,
            "height": null,
            "justify_content": null,
            "justify_items": null,
            "left": null,
            "margin": null,
            "max_height": null,
            "max_width": null,
            "min_height": null,
            "min_width": null,
            "object_fit": null,
            "object_position": null,
            "order": null,
            "overflow": null,
            "overflow_x": null,
            "overflow_y": null,
            "padding": null,
            "right": null,
            "top": null,
            "visibility": null,
            "width": null
          }
        },
        "e06ccbcd2da74f95a6cc64a36c555416": {
          "model_module": "@jupyter-widgets/base",
          "model_name": "LayoutModel",
          "model_module_version": "1.2.0",
          "state": {
            "_model_module": "@jupyter-widgets/base",
            "_model_module_version": "1.2.0",
            "_model_name": "LayoutModel",
            "_view_count": null,
            "_view_module": "@jupyter-widgets/base",
            "_view_module_version": "1.2.0",
            "_view_name": "LayoutView",
            "align_content": null,
            "align_items": null,
            "align_self": null,
            "border": null,
            "bottom": null,
            "display": null,
            "flex": null,
            "flex_flow": null,
            "grid_area": null,
            "grid_auto_columns": null,
            "grid_auto_flow": null,
            "grid_auto_rows": null,
            "grid_column": null,
            "grid_gap": null,
            "grid_row": null,
            "grid_template_areas": null,
            "grid_template_columns": null,
            "grid_template_rows": null,
            "height": null,
            "justify_content": null,
            "justify_items": null,
            "left": null,
            "margin": null,
            "max_height": null,
            "max_width": null,
            "min_height": null,
            "min_width": null,
            "object_fit": null,
            "object_position": null,
            "order": null,
            "overflow": null,
            "overflow_x": null,
            "overflow_y": null,
            "padding": null,
            "right": null,
            "top": null,
            "visibility": null,
            "width": null
          }
        },
        "0344a4e778724632af93aeae93810661": {
          "model_module": "@jupyter-widgets/controls",
          "model_name": "DescriptionStyleModel",
          "model_module_version": "1.5.0",
          "state": {
            "_model_module": "@jupyter-widgets/controls",
            "_model_module_version": "1.5.0",
            "_model_name": "DescriptionStyleModel",
            "_view_count": null,
            "_view_module": "@jupyter-widgets/base",
            "_view_module_version": "1.2.0",
            "_view_name": "StyleView",
            "description_width": ""
          }
        },
        "35fb6f9249d2406ea550d8c9e714bf87": {
          "model_module": "@jupyter-widgets/base",
          "model_name": "LayoutModel",
          "model_module_version": "1.2.0",
          "state": {
            "_model_module": "@jupyter-widgets/base",
            "_model_module_version": "1.2.0",
            "_model_name": "LayoutModel",
            "_view_count": null,
            "_view_module": "@jupyter-widgets/base",
            "_view_module_version": "1.2.0",
            "_view_name": "LayoutView",
            "align_content": null,
            "align_items": null,
            "align_self": null,
            "border": null,
            "bottom": null,
            "display": null,
            "flex": null,
            "flex_flow": null,
            "grid_area": null,
            "grid_auto_columns": null,
            "grid_auto_flow": null,
            "grid_auto_rows": null,
            "grid_column": null,
            "grid_gap": null,
            "grid_row": null,
            "grid_template_areas": null,
            "grid_template_columns": null,
            "grid_template_rows": null,
            "height": null,
            "justify_content": null,
            "justify_items": null,
            "left": null,
            "margin": null,
            "max_height": null,
            "max_width": null,
            "min_height": null,
            "min_width": null,
            "object_fit": null,
            "object_position": null,
            "order": null,
            "overflow": null,
            "overflow_x": null,
            "overflow_y": null,
            "padding": null,
            "right": null,
            "top": null,
            "visibility": null,
            "width": null
          }
        },
        "1e0e4cc579424efdb0e89be2f7cdec28": {
          "model_module": "@jupyter-widgets/controls",
          "model_name": "ProgressStyleModel",
          "model_module_version": "1.5.0",
          "state": {
            "_model_module": "@jupyter-widgets/controls",
            "_model_module_version": "1.5.0",
            "_model_name": "ProgressStyleModel",
            "_view_count": null,
            "_view_module": "@jupyter-widgets/base",
            "_view_module_version": "1.2.0",
            "_view_name": "StyleView",
            "bar_color": null,
            "description_width": ""
          }
        },
        "daadf51f06b8444da2ac76b5d5c7fcad": {
          "model_module": "@jupyter-widgets/base",
          "model_name": "LayoutModel",
          "model_module_version": "1.2.0",
          "state": {
            "_model_module": "@jupyter-widgets/base",
            "_model_module_version": "1.2.0",
            "_model_name": "LayoutModel",
            "_view_count": null,
            "_view_module": "@jupyter-widgets/base",
            "_view_module_version": "1.2.0",
            "_view_name": "LayoutView",
            "align_content": null,
            "align_items": null,
            "align_self": null,
            "border": null,
            "bottom": null,
            "display": null,
            "flex": null,
            "flex_flow": null,
            "grid_area": null,
            "grid_auto_columns": null,
            "grid_auto_flow": null,
            "grid_auto_rows": null,
            "grid_column": null,
            "grid_gap": null,
            "grid_row": null,
            "grid_template_areas": null,
            "grid_template_columns": null,
            "grid_template_rows": null,
            "height": null,
            "justify_content": null,
            "justify_items": null,
            "left": null,
            "margin": null,
            "max_height": null,
            "max_width": null,
            "min_height": null,
            "min_width": null,
            "object_fit": null,
            "object_position": null,
            "order": null,
            "overflow": null,
            "overflow_x": null,
            "overflow_y": null,
            "padding": null,
            "right": null,
            "top": null,
            "visibility": null,
            "width": null
          }
        },
        "b0b7494d9d754e3399d1fc001cbaf823": {
          "model_module": "@jupyter-widgets/controls",
          "model_name": "DescriptionStyleModel",
          "model_module_version": "1.5.0",
          "state": {
            "_model_module": "@jupyter-widgets/controls",
            "_model_module_version": "1.5.0",
            "_model_name": "DescriptionStyleModel",
            "_view_count": null,
            "_view_module": "@jupyter-widgets/base",
            "_view_module_version": "1.2.0",
            "_view_name": "StyleView",
            "description_width": ""
          }
        },
        "7ab548e9ead441e38eb65f4e46a2e09f": {
          "model_module": "@jupyter-widgets/controls",
          "model_name": "HBoxModel",
          "model_module_version": "1.5.0",
          "state": {
            "_dom_classes": [],
            "_model_module": "@jupyter-widgets/controls",
            "_model_module_version": "1.5.0",
            "_model_name": "HBoxModel",
            "_view_count": null,
            "_view_module": "@jupyter-widgets/controls",
            "_view_module_version": "1.5.0",
            "_view_name": "HBoxView",
            "box_style": "",
            "children": [
              "IPY_MODEL_cf60d6f486f048e1b1390c1f75548973",
              "IPY_MODEL_233a8c5545d240af9b0b28cfe44e9808",
              "IPY_MODEL_2cbaf77eef804828821335846852965a"
            ],
            "layout": "IPY_MODEL_73ae0710d3114b64aecd092551c866f8"
          }
        },
        "cf60d6f486f048e1b1390c1f75548973": {
          "model_module": "@jupyter-widgets/controls",
          "model_name": "HTMLModel",
          "model_module_version": "1.5.0",
          "state": {
            "_dom_classes": [],
            "_model_module": "@jupyter-widgets/controls",
            "_model_module_version": "1.5.0",
            "_model_name": "HTMLModel",
            "_view_count": null,
            "_view_module": "@jupyter-widgets/controls",
            "_view_module_version": "1.5.0",
            "_view_name": "HTMLView",
            "description": "",
            "description_tooltip": null,
            "layout": "IPY_MODEL_e892e0fd581c44459dba2534ea73a5b4",
            "placeholder": "​",
            "style": "IPY_MODEL_509b027fcbed4259a38cf340445b6836",
            "value": "Downloading (…)lve/main/config.json: 100%"
          }
        },
        "233a8c5545d240af9b0b28cfe44e9808": {
          "model_module": "@jupyter-widgets/controls",
          "model_name": "FloatProgressModel",
          "model_module_version": "1.5.0",
          "state": {
            "_dom_classes": [],
            "_model_module": "@jupyter-widgets/controls",
            "_model_module_version": "1.5.0",
            "_model_name": "FloatProgressModel",
            "_view_count": null,
            "_view_module": "@jupyter-widgets/controls",
            "_view_module_version": "1.5.0",
            "_view_name": "ProgressView",
            "bar_style": "success",
            "description": "",
            "description_tooltip": null,
            "layout": "IPY_MODEL_b9f595c77d92481db099b81b0661be70",
            "max": 481,
            "min": 0,
            "orientation": "horizontal",
            "style": "IPY_MODEL_7031b5a8dc9b4642a4afd583286c8035",
            "value": 481
          }
        },
        "2cbaf77eef804828821335846852965a": {
          "model_module": "@jupyter-widgets/controls",
          "model_name": "HTMLModel",
          "model_module_version": "1.5.0",
          "state": {
            "_dom_classes": [],
            "_model_module": "@jupyter-widgets/controls",
            "_model_module_version": "1.5.0",
            "_model_name": "HTMLModel",
            "_view_count": null,
            "_view_module": "@jupyter-widgets/controls",
            "_view_module_version": "1.5.0",
            "_view_name": "HTMLView",
            "description": "",
            "description_tooltip": null,
            "layout": "IPY_MODEL_1d53f31ab19e4859b782f63cdfc906d1",
            "placeholder": "​",
            "style": "IPY_MODEL_1f839aedc8c047b2a10ac6261d881003",
            "value": " 481/481 [00:00&lt;00:00, 16.8kB/s]"
          }
        },
        "73ae0710d3114b64aecd092551c866f8": {
          "model_module": "@jupyter-widgets/base",
          "model_name": "LayoutModel",
          "model_module_version": "1.2.0",
          "state": {
            "_model_module": "@jupyter-widgets/base",
            "_model_module_version": "1.2.0",
            "_model_name": "LayoutModel",
            "_view_count": null,
            "_view_module": "@jupyter-widgets/base",
            "_view_module_version": "1.2.0",
            "_view_name": "LayoutView",
            "align_content": null,
            "align_items": null,
            "align_self": null,
            "border": null,
            "bottom": null,
            "display": null,
            "flex": null,
            "flex_flow": null,
            "grid_area": null,
            "grid_auto_columns": null,
            "grid_auto_flow": null,
            "grid_auto_rows": null,
            "grid_column": null,
            "grid_gap": null,
            "grid_row": null,
            "grid_template_areas": null,
            "grid_template_columns": null,
            "grid_template_rows": null,
            "height": null,
            "justify_content": null,
            "justify_items": null,
            "left": null,
            "margin": null,
            "max_height": null,
            "max_width": null,
            "min_height": null,
            "min_width": null,
            "object_fit": null,
            "object_position": null,
            "order": null,
            "overflow": null,
            "overflow_x": null,
            "overflow_y": null,
            "padding": null,
            "right": null,
            "top": null,
            "visibility": null,
            "width": null
          }
        },
        "e892e0fd581c44459dba2534ea73a5b4": {
          "model_module": "@jupyter-widgets/base",
          "model_name": "LayoutModel",
          "model_module_version": "1.2.0",
          "state": {
            "_model_module": "@jupyter-widgets/base",
            "_model_module_version": "1.2.0",
            "_model_name": "LayoutModel",
            "_view_count": null,
            "_view_module": "@jupyter-widgets/base",
            "_view_module_version": "1.2.0",
            "_view_name": "LayoutView",
            "align_content": null,
            "align_items": null,
            "align_self": null,
            "border": null,
            "bottom": null,
            "display": null,
            "flex": null,
            "flex_flow": null,
            "grid_area": null,
            "grid_auto_columns": null,
            "grid_auto_flow": null,
            "grid_auto_rows": null,
            "grid_column": null,
            "grid_gap": null,
            "grid_row": null,
            "grid_template_areas": null,
            "grid_template_columns": null,
            "grid_template_rows": null,
            "height": null,
            "justify_content": null,
            "justify_items": null,
            "left": null,
            "margin": null,
            "max_height": null,
            "max_width": null,
            "min_height": null,
            "min_width": null,
            "object_fit": null,
            "object_position": null,
            "order": null,
            "overflow": null,
            "overflow_x": null,
            "overflow_y": null,
            "padding": null,
            "right": null,
            "top": null,
            "visibility": null,
            "width": null
          }
        },
        "509b027fcbed4259a38cf340445b6836": {
          "model_module": "@jupyter-widgets/controls",
          "model_name": "DescriptionStyleModel",
          "model_module_version": "1.5.0",
          "state": {
            "_model_module": "@jupyter-widgets/controls",
            "_model_module_version": "1.5.0",
            "_model_name": "DescriptionStyleModel",
            "_view_count": null,
            "_view_module": "@jupyter-widgets/base",
            "_view_module_version": "1.2.0",
            "_view_name": "StyleView",
            "description_width": ""
          }
        },
        "b9f595c77d92481db099b81b0661be70": {
          "model_module": "@jupyter-widgets/base",
          "model_name": "LayoutModel",
          "model_module_version": "1.2.0",
          "state": {
            "_model_module": "@jupyter-widgets/base",
            "_model_module_version": "1.2.0",
            "_model_name": "LayoutModel",
            "_view_count": null,
            "_view_module": "@jupyter-widgets/base",
            "_view_module_version": "1.2.0",
            "_view_name": "LayoutView",
            "align_content": null,
            "align_items": null,
            "align_self": null,
            "border": null,
            "bottom": null,
            "display": null,
            "flex": null,
            "flex_flow": null,
            "grid_area": null,
            "grid_auto_columns": null,
            "grid_auto_flow": null,
            "grid_auto_rows": null,
            "grid_column": null,
            "grid_gap": null,
            "grid_row": null,
            "grid_template_areas": null,
            "grid_template_columns": null,
            "grid_template_rows": null,
            "height": null,
            "justify_content": null,
            "justify_items": null,
            "left": null,
            "margin": null,
            "max_height": null,
            "max_width": null,
            "min_height": null,
            "min_width": null,
            "object_fit": null,
            "object_position": null,
            "order": null,
            "overflow": null,
            "overflow_x": null,
            "overflow_y": null,
            "padding": null,
            "right": null,
            "top": null,
            "visibility": null,
            "width": null
          }
        },
        "7031b5a8dc9b4642a4afd583286c8035": {
          "model_module": "@jupyter-widgets/controls",
          "model_name": "ProgressStyleModel",
          "model_module_version": "1.5.0",
          "state": {
            "_model_module": "@jupyter-widgets/controls",
            "_model_module_version": "1.5.0",
            "_model_name": "ProgressStyleModel",
            "_view_count": null,
            "_view_module": "@jupyter-widgets/base",
            "_view_module_version": "1.2.0",
            "_view_name": "StyleView",
            "bar_color": null,
            "description_width": ""
          }
        },
        "1d53f31ab19e4859b782f63cdfc906d1": {
          "model_module": "@jupyter-widgets/base",
          "model_name": "LayoutModel",
          "model_module_version": "1.2.0",
          "state": {
            "_model_module": "@jupyter-widgets/base",
            "_model_module_version": "1.2.0",
            "_model_name": "LayoutModel",
            "_view_count": null,
            "_view_module": "@jupyter-widgets/base",
            "_view_module_version": "1.2.0",
            "_view_name": "LayoutView",
            "align_content": null,
            "align_items": null,
            "align_self": null,
            "border": null,
            "bottom": null,
            "display": null,
            "flex": null,
            "flex_flow": null,
            "grid_area": null,
            "grid_auto_columns": null,
            "grid_auto_flow": null,
            "grid_auto_rows": null,
            "grid_column": null,
            "grid_gap": null,
            "grid_row": null,
            "grid_template_areas": null,
            "grid_template_columns": null,
            "grid_template_rows": null,
            "height": null,
            "justify_content": null,
            "justify_items": null,
            "left": null,
            "margin": null,
            "max_height": null,
            "max_width": null,
            "min_height": null,
            "min_width": null,
            "object_fit": null,
            "object_position": null,
            "order": null,
            "overflow": null,
            "overflow_x": null,
            "overflow_y": null,
            "padding": null,
            "right": null,
            "top": null,
            "visibility": null,
            "width": null
          }
        },
        "1f839aedc8c047b2a10ac6261d881003": {
          "model_module": "@jupyter-widgets/controls",
          "model_name": "DescriptionStyleModel",
          "model_module_version": "1.5.0",
          "state": {
            "_model_module": "@jupyter-widgets/controls",
            "_model_module_version": "1.5.0",
            "_model_name": "DescriptionStyleModel",
            "_view_count": null,
            "_view_module": "@jupyter-widgets/base",
            "_view_module_version": "1.2.0",
            "_view_name": "StyleView",
            "description_width": ""
          }
        },
        "61def1d0381c4fd79ea9180dba02017f": {
          "model_module": "@jupyter-widgets/controls",
          "model_name": "HBoxModel",
          "model_module_version": "1.5.0",
          "state": {
            "_dom_classes": [],
            "_model_module": "@jupyter-widgets/controls",
            "_model_module_version": "1.5.0",
            "_model_name": "HBoxModel",
            "_view_count": null,
            "_view_module": "@jupyter-widgets/controls",
            "_view_module_version": "1.5.0",
            "_view_name": "HBoxView",
            "box_style": "",
            "children": [
              "IPY_MODEL_ffe7defc6ac3419fa2ada3b696470556",
              "IPY_MODEL_83e6a46ceeba4d46a4ad809445eb692c",
              "IPY_MODEL_e8cde69096f04b8a8352b85ac71428ea"
            ],
            "layout": "IPY_MODEL_99683da7ddca47e98f6bc6cf8a9b66cf"
          }
        },
        "ffe7defc6ac3419fa2ada3b696470556": {
          "model_module": "@jupyter-widgets/controls",
          "model_name": "HTMLModel",
          "model_module_version": "1.5.0",
          "state": {
            "_dom_classes": [],
            "_model_module": "@jupyter-widgets/controls",
            "_model_module_version": "1.5.0",
            "_model_name": "HTMLModel",
            "_view_count": null,
            "_view_module": "@jupyter-widgets/controls",
            "_view_module_version": "1.5.0",
            "_view_name": "HTMLView",
            "description": "",
            "description_tooltip": null,
            "layout": "IPY_MODEL_8a605062c0d74015a408c5e3ac2d7fa7",
            "placeholder": "​",
            "style": "IPY_MODEL_15360df181ed4aedb463ad305cf62777",
            "value": "Downloading (…)olve/main/vocab.json: 100%"
          }
        },
        "83e6a46ceeba4d46a4ad809445eb692c": {
          "model_module": "@jupyter-widgets/controls",
          "model_name": "FloatProgressModel",
          "model_module_version": "1.5.0",
          "state": {
            "_dom_classes": [],
            "_model_module": "@jupyter-widgets/controls",
            "_model_module_version": "1.5.0",
            "_model_name": "FloatProgressModel",
            "_view_count": null,
            "_view_module": "@jupyter-widgets/controls",
            "_view_module_version": "1.5.0",
            "_view_name": "ProgressView",
            "bar_style": "success",
            "description": "",
            "description_tooltip": null,
            "layout": "IPY_MODEL_fcfbd5fd740444519691e5c39ae2444c",
            "max": 898823,
            "min": 0,
            "orientation": "horizontal",
            "style": "IPY_MODEL_e7dda74cb6f0476f83c05ebe0de2d030",
            "value": 898823
          }
        },
        "e8cde69096f04b8a8352b85ac71428ea": {
          "model_module": "@jupyter-widgets/controls",
          "model_name": "HTMLModel",
          "model_module_version": "1.5.0",
          "state": {
            "_dom_classes": [],
            "_model_module": "@jupyter-widgets/controls",
            "_model_module_version": "1.5.0",
            "_model_name": "HTMLModel",
            "_view_count": null,
            "_view_module": "@jupyter-widgets/controls",
            "_view_module_version": "1.5.0",
            "_view_name": "HTMLView",
            "description": "",
            "description_tooltip": null,
            "layout": "IPY_MODEL_b575f2ad1c2741b1baa64999b8476091",
            "placeholder": "​",
            "style": "IPY_MODEL_7fce3e59485b48088691011cce1fc7b1",
            "value": " 899k/899k [00:01&lt;00:00, 674kB/s]"
          }
        },
        "99683da7ddca47e98f6bc6cf8a9b66cf": {
          "model_module": "@jupyter-widgets/base",
          "model_name": "LayoutModel",
          "model_module_version": "1.2.0",
          "state": {
            "_model_module": "@jupyter-widgets/base",
            "_model_module_version": "1.2.0",
            "_model_name": "LayoutModel",
            "_view_count": null,
            "_view_module": "@jupyter-widgets/base",
            "_view_module_version": "1.2.0",
            "_view_name": "LayoutView",
            "align_content": null,
            "align_items": null,
            "align_self": null,
            "border": null,
            "bottom": null,
            "display": null,
            "flex": null,
            "flex_flow": null,
            "grid_area": null,
            "grid_auto_columns": null,
            "grid_auto_flow": null,
            "grid_auto_rows": null,
            "grid_column": null,
            "grid_gap": null,
            "grid_row": null,
            "grid_template_areas": null,
            "grid_template_columns": null,
            "grid_template_rows": null,
            "height": null,
            "justify_content": null,
            "justify_items": null,
            "left": null,
            "margin": null,
            "max_height": null,
            "max_width": null,
            "min_height": null,
            "min_width": null,
            "object_fit": null,
            "object_position": null,
            "order": null,
            "overflow": null,
            "overflow_x": null,
            "overflow_y": null,
            "padding": null,
            "right": null,
            "top": null,
            "visibility": null,
            "width": null
          }
        },
        "8a605062c0d74015a408c5e3ac2d7fa7": {
          "model_module": "@jupyter-widgets/base",
          "model_name": "LayoutModel",
          "model_module_version": "1.2.0",
          "state": {
            "_model_module": "@jupyter-widgets/base",
            "_model_module_version": "1.2.0",
            "_model_name": "LayoutModel",
            "_view_count": null,
            "_view_module": "@jupyter-widgets/base",
            "_view_module_version": "1.2.0",
            "_view_name": "LayoutView",
            "align_content": null,
            "align_items": null,
            "align_self": null,
            "border": null,
            "bottom": null,
            "display": null,
            "flex": null,
            "flex_flow": null,
            "grid_area": null,
            "grid_auto_columns": null,
            "grid_auto_flow": null,
            "grid_auto_rows": null,
            "grid_column": null,
            "grid_gap": null,
            "grid_row": null,
            "grid_template_areas": null,
            "grid_template_columns": null,
            "grid_template_rows": null,
            "height": null,
            "justify_content": null,
            "justify_items": null,
            "left": null,
            "margin": null,
            "max_height": null,
            "max_width": null,
            "min_height": null,
            "min_width": null,
            "object_fit": null,
            "object_position": null,
            "order": null,
            "overflow": null,
            "overflow_x": null,
            "overflow_y": null,
            "padding": null,
            "right": null,
            "top": null,
            "visibility": null,
            "width": null
          }
        },
        "15360df181ed4aedb463ad305cf62777": {
          "model_module": "@jupyter-widgets/controls",
          "model_name": "DescriptionStyleModel",
          "model_module_version": "1.5.0",
          "state": {
            "_model_module": "@jupyter-widgets/controls",
            "_model_module_version": "1.5.0",
            "_model_name": "DescriptionStyleModel",
            "_view_count": null,
            "_view_module": "@jupyter-widgets/base",
            "_view_module_version": "1.2.0",
            "_view_name": "StyleView",
            "description_width": ""
          }
        },
        "fcfbd5fd740444519691e5c39ae2444c": {
          "model_module": "@jupyter-widgets/base",
          "model_name": "LayoutModel",
          "model_module_version": "1.2.0",
          "state": {
            "_model_module": "@jupyter-widgets/base",
            "_model_module_version": "1.2.0",
            "_model_name": "LayoutModel",
            "_view_count": null,
            "_view_module": "@jupyter-widgets/base",
            "_view_module_version": "1.2.0",
            "_view_name": "LayoutView",
            "align_content": null,
            "align_items": null,
            "align_self": null,
            "border": null,
            "bottom": null,
            "display": null,
            "flex": null,
            "flex_flow": null,
            "grid_area": null,
            "grid_auto_columns": null,
            "grid_auto_flow": null,
            "grid_auto_rows": null,
            "grid_column": null,
            "grid_gap": null,
            "grid_row": null,
            "grid_template_areas": null,
            "grid_template_columns": null,
            "grid_template_rows": null,
            "height": null,
            "justify_content": null,
            "justify_items": null,
            "left": null,
            "margin": null,
            "max_height": null,
            "max_width": null,
            "min_height": null,
            "min_width": null,
            "object_fit": null,
            "object_position": null,
            "order": null,
            "overflow": null,
            "overflow_x": null,
            "overflow_y": null,
            "padding": null,
            "right": null,
            "top": null,
            "visibility": null,
            "width": null
          }
        },
        "e7dda74cb6f0476f83c05ebe0de2d030": {
          "model_module": "@jupyter-widgets/controls",
          "model_name": "ProgressStyleModel",
          "model_module_version": "1.5.0",
          "state": {
            "_model_module": "@jupyter-widgets/controls",
            "_model_module_version": "1.5.0",
            "_model_name": "ProgressStyleModel",
            "_view_count": null,
            "_view_module": "@jupyter-widgets/base",
            "_view_module_version": "1.2.0",
            "_view_name": "StyleView",
            "bar_color": null,
            "description_width": ""
          }
        },
        "b575f2ad1c2741b1baa64999b8476091": {
          "model_module": "@jupyter-widgets/base",
          "model_name": "LayoutModel",
          "model_module_version": "1.2.0",
          "state": {
            "_model_module": "@jupyter-widgets/base",
            "_model_module_version": "1.2.0",
            "_model_name": "LayoutModel",
            "_view_count": null,
            "_view_module": "@jupyter-widgets/base",
            "_view_module_version": "1.2.0",
            "_view_name": "LayoutView",
            "align_content": null,
            "align_items": null,
            "align_self": null,
            "border": null,
            "bottom": null,
            "display": null,
            "flex": null,
            "flex_flow": null,
            "grid_area": null,
            "grid_auto_columns": null,
            "grid_auto_flow": null,
            "grid_auto_rows": null,
            "grid_column": null,
            "grid_gap": null,
            "grid_row": null,
            "grid_template_areas": null,
            "grid_template_columns": null,
            "grid_template_rows": null,
            "height": null,
            "justify_content": null,
            "justify_items": null,
            "left": null,
            "margin": null,
            "max_height": null,
            "max_width": null,
            "min_height": null,
            "min_width": null,
            "object_fit": null,
            "object_position": null,
            "order": null,
            "overflow": null,
            "overflow_x": null,
            "overflow_y": null,
            "padding": null,
            "right": null,
            "top": null,
            "visibility": null,
            "width": null
          }
        },
        "7fce3e59485b48088691011cce1fc7b1": {
          "model_module": "@jupyter-widgets/controls",
          "model_name": "DescriptionStyleModel",
          "model_module_version": "1.5.0",
          "state": {
            "_model_module": "@jupyter-widgets/controls",
            "_model_module_version": "1.5.0",
            "_model_name": "DescriptionStyleModel",
            "_view_count": null,
            "_view_module": "@jupyter-widgets/base",
            "_view_module_version": "1.2.0",
            "_view_name": "StyleView",
            "description_width": ""
          }
        },
        "afd07db152fc4d4ebf56244560ac5625": {
          "model_module": "@jupyter-widgets/controls",
          "model_name": "HBoxModel",
          "model_module_version": "1.5.0",
          "state": {
            "_dom_classes": [],
            "_model_module": "@jupyter-widgets/controls",
            "_model_module_version": "1.5.0",
            "_model_name": "HBoxModel",
            "_view_count": null,
            "_view_module": "@jupyter-widgets/controls",
            "_view_module_version": "1.5.0",
            "_view_name": "HBoxView",
            "box_style": "",
            "children": [
              "IPY_MODEL_a170b5b1a8b74b79a78654e6f99f6bb1",
              "IPY_MODEL_67dac6445c994c91b0318628a56570a8",
              "IPY_MODEL_31937dec79b645d68d5a43970b8aab97"
            ],
            "layout": "IPY_MODEL_176c6be262644197839998e750c8d54d"
          }
        },
        "a170b5b1a8b74b79a78654e6f99f6bb1": {
          "model_module": "@jupyter-widgets/controls",
          "model_name": "HTMLModel",
          "model_module_version": "1.5.0",
          "state": {
            "_dom_classes": [],
            "_model_module": "@jupyter-widgets/controls",
            "_model_module_version": "1.5.0",
            "_model_name": "HTMLModel",
            "_view_count": null,
            "_view_module": "@jupyter-widgets/controls",
            "_view_module_version": "1.5.0",
            "_view_name": "HTMLView",
            "description": "",
            "description_tooltip": null,
            "layout": "IPY_MODEL_6e5d33d986954589afdfd152c6fd3b9a",
            "placeholder": "​",
            "style": "IPY_MODEL_370ac423933c46f48e08e4e6d7fd775a",
            "value": "Downloading (…)olve/main/merges.txt: 100%"
          }
        },
        "67dac6445c994c91b0318628a56570a8": {
          "model_module": "@jupyter-widgets/controls",
          "model_name": "FloatProgressModel",
          "model_module_version": "1.5.0",
          "state": {
            "_dom_classes": [],
            "_model_module": "@jupyter-widgets/controls",
            "_model_module_version": "1.5.0",
            "_model_name": "FloatProgressModel",
            "_view_count": null,
            "_view_module": "@jupyter-widgets/controls",
            "_view_module_version": "1.5.0",
            "_view_name": "ProgressView",
            "bar_style": "success",
            "description": "",
            "description_tooltip": null,
            "layout": "IPY_MODEL_fec287ead3074a8ca74c17c75ade7b8e",
            "max": 456318,
            "min": 0,
            "orientation": "horizontal",
            "style": "IPY_MODEL_1a79b40b99c846419c131aebb2cd638d",
            "value": 456318
          }
        },
        "31937dec79b645d68d5a43970b8aab97": {
          "model_module": "@jupyter-widgets/controls",
          "model_name": "HTMLModel",
          "model_module_version": "1.5.0",
          "state": {
            "_dom_classes": [],
            "_model_module": "@jupyter-widgets/controls",
            "_model_module_version": "1.5.0",
            "_model_name": "HTMLModel",
            "_view_count": null,
            "_view_module": "@jupyter-widgets/controls",
            "_view_module_version": "1.5.0",
            "_view_name": "HTMLView",
            "description": "",
            "description_tooltip": null,
            "layout": "IPY_MODEL_4525330b767d42fdb4df9b7b0fe17482",
            "placeholder": "​",
            "style": "IPY_MODEL_ba467ef3bdf04b9ba29aeb9d6c307478",
            "value": " 456k/456k [00:01&lt;00:00, 412kB/s]"
          }
        },
        "176c6be262644197839998e750c8d54d": {
          "model_module": "@jupyter-widgets/base",
          "model_name": "LayoutModel",
          "model_module_version": "1.2.0",
          "state": {
            "_model_module": "@jupyter-widgets/base",
            "_model_module_version": "1.2.0",
            "_model_name": "LayoutModel",
            "_view_count": null,
            "_view_module": "@jupyter-widgets/base",
            "_view_module_version": "1.2.0",
            "_view_name": "LayoutView",
            "align_content": null,
            "align_items": null,
            "align_self": null,
            "border": null,
            "bottom": null,
            "display": null,
            "flex": null,
            "flex_flow": null,
            "grid_area": null,
            "grid_auto_columns": null,
            "grid_auto_flow": null,
            "grid_auto_rows": null,
            "grid_column": null,
            "grid_gap": null,
            "grid_row": null,
            "grid_template_areas": null,
            "grid_template_columns": null,
            "grid_template_rows": null,
            "height": null,
            "justify_content": null,
            "justify_items": null,
            "left": null,
            "margin": null,
            "max_height": null,
            "max_width": null,
            "min_height": null,
            "min_width": null,
            "object_fit": null,
            "object_position": null,
            "order": null,
            "overflow": null,
            "overflow_x": null,
            "overflow_y": null,
            "padding": null,
            "right": null,
            "top": null,
            "visibility": null,
            "width": null
          }
        },
        "6e5d33d986954589afdfd152c6fd3b9a": {
          "model_module": "@jupyter-widgets/base",
          "model_name": "LayoutModel",
          "model_module_version": "1.2.0",
          "state": {
            "_model_module": "@jupyter-widgets/base",
            "_model_module_version": "1.2.0",
            "_model_name": "LayoutModel",
            "_view_count": null,
            "_view_module": "@jupyter-widgets/base",
            "_view_module_version": "1.2.0",
            "_view_name": "LayoutView",
            "align_content": null,
            "align_items": null,
            "align_self": null,
            "border": null,
            "bottom": null,
            "display": null,
            "flex": null,
            "flex_flow": null,
            "grid_area": null,
            "grid_auto_columns": null,
            "grid_auto_flow": null,
            "grid_auto_rows": null,
            "grid_column": null,
            "grid_gap": null,
            "grid_row": null,
            "grid_template_areas": null,
            "grid_template_columns": null,
            "grid_template_rows": null,
            "height": null,
            "justify_content": null,
            "justify_items": null,
            "left": null,
            "margin": null,
            "max_height": null,
            "max_width": null,
            "min_height": null,
            "min_width": null,
            "object_fit": null,
            "object_position": null,
            "order": null,
            "overflow": null,
            "overflow_x": null,
            "overflow_y": null,
            "padding": null,
            "right": null,
            "top": null,
            "visibility": null,
            "width": null
          }
        },
        "370ac423933c46f48e08e4e6d7fd775a": {
          "model_module": "@jupyter-widgets/controls",
          "model_name": "DescriptionStyleModel",
          "model_module_version": "1.5.0",
          "state": {
            "_model_module": "@jupyter-widgets/controls",
            "_model_module_version": "1.5.0",
            "_model_name": "DescriptionStyleModel",
            "_view_count": null,
            "_view_module": "@jupyter-widgets/base",
            "_view_module_version": "1.2.0",
            "_view_name": "StyleView",
            "description_width": ""
          }
        },
        "fec287ead3074a8ca74c17c75ade7b8e": {
          "model_module": "@jupyter-widgets/base",
          "model_name": "LayoutModel",
          "model_module_version": "1.2.0",
          "state": {
            "_model_module": "@jupyter-widgets/base",
            "_model_module_version": "1.2.0",
            "_model_name": "LayoutModel",
            "_view_count": null,
            "_view_module": "@jupyter-widgets/base",
            "_view_module_version": "1.2.0",
            "_view_name": "LayoutView",
            "align_content": null,
            "align_items": null,
            "align_self": null,
            "border": null,
            "bottom": null,
            "display": null,
            "flex": null,
            "flex_flow": null,
            "grid_area": null,
            "grid_auto_columns": null,
            "grid_auto_flow": null,
            "grid_auto_rows": null,
            "grid_column": null,
            "grid_gap": null,
            "grid_row": null,
            "grid_template_areas": null,
            "grid_template_columns": null,
            "grid_template_rows": null,
            "height": null,
            "justify_content": null,
            "justify_items": null,
            "left": null,
            "margin": null,
            "max_height": null,
            "max_width": null,
            "min_height": null,
            "min_width": null,
            "object_fit": null,
            "object_position": null,
            "order": null,
            "overflow": null,
            "overflow_x": null,
            "overflow_y": null,
            "padding": null,
            "right": null,
            "top": null,
            "visibility": null,
            "width": null
          }
        },
        "1a79b40b99c846419c131aebb2cd638d": {
          "model_module": "@jupyter-widgets/controls",
          "model_name": "ProgressStyleModel",
          "model_module_version": "1.5.0",
          "state": {
            "_model_module": "@jupyter-widgets/controls",
            "_model_module_version": "1.5.0",
            "_model_name": "ProgressStyleModel",
            "_view_count": null,
            "_view_module": "@jupyter-widgets/base",
            "_view_module_version": "1.2.0",
            "_view_name": "StyleView",
            "bar_color": null,
            "description_width": ""
          }
        },
        "4525330b767d42fdb4df9b7b0fe17482": {
          "model_module": "@jupyter-widgets/base",
          "model_name": "LayoutModel",
          "model_module_version": "1.2.0",
          "state": {
            "_model_module": "@jupyter-widgets/base",
            "_model_module_version": "1.2.0",
            "_model_name": "LayoutModel",
            "_view_count": null,
            "_view_module": "@jupyter-widgets/base",
            "_view_module_version": "1.2.0",
            "_view_name": "LayoutView",
            "align_content": null,
            "align_items": null,
            "align_self": null,
            "border": null,
            "bottom": null,
            "display": null,
            "flex": null,
            "flex_flow": null,
            "grid_area": null,
            "grid_auto_columns": null,
            "grid_auto_flow": null,
            "grid_auto_rows": null,
            "grid_column": null,
            "grid_gap": null,
            "grid_row": null,
            "grid_template_areas": null,
            "grid_template_columns": null,
            "grid_template_rows": null,
            "height": null,
            "justify_content": null,
            "justify_items": null,
            "left": null,
            "margin": null,
            "max_height": null,
            "max_width": null,
            "min_height": null,
            "min_width": null,
            "object_fit": null,
            "object_position": null,
            "order": null,
            "overflow": null,
            "overflow_x": null,
            "overflow_y": null,
            "padding": null,
            "right": null,
            "top": null,
            "visibility": null,
            "width": null
          }
        },
        "ba467ef3bdf04b9ba29aeb9d6c307478": {
          "model_module": "@jupyter-widgets/controls",
          "model_name": "DescriptionStyleModel",
          "model_module_version": "1.5.0",
          "state": {
            "_model_module": "@jupyter-widgets/controls",
            "_model_module_version": "1.5.0",
            "_model_name": "DescriptionStyleModel",
            "_view_count": null,
            "_view_module": "@jupyter-widgets/base",
            "_view_module_version": "1.2.0",
            "_view_name": "StyleView",
            "description_width": ""
          }
        },
        "8c6e4e90d22541c49b54154c31d7fdb3": {
          "model_module": "@jupyter-widgets/controls",
          "model_name": "HBoxModel",
          "model_module_version": "1.5.0",
          "state": {
            "_dom_classes": [],
            "_model_module": "@jupyter-widgets/controls",
            "_model_module_version": "1.5.0",
            "_model_name": "HBoxModel",
            "_view_count": null,
            "_view_module": "@jupyter-widgets/controls",
            "_view_module_version": "1.5.0",
            "_view_name": "HBoxView",
            "box_style": "",
            "children": [
              "IPY_MODEL_5e069286d1f240b884cca834b2f7ae2c",
              "IPY_MODEL_e12276f32b1343cfb044bd8f84995526",
              "IPY_MODEL_53ca0a49a2bd42acac4f612aa109ca23"
            ],
            "layout": "IPY_MODEL_4b03a64bec394303b5a9cd11dd0c4833"
          }
        },
        "5e069286d1f240b884cca834b2f7ae2c": {
          "model_module": "@jupyter-widgets/controls",
          "model_name": "HTMLModel",
          "model_module_version": "1.5.0",
          "state": {
            "_dom_classes": [],
            "_model_module": "@jupyter-widgets/controls",
            "_model_module_version": "1.5.0",
            "_model_name": "HTMLModel",
            "_view_count": null,
            "_view_module": "@jupyter-widgets/controls",
            "_view_module_version": "1.5.0",
            "_view_name": "HTMLView",
            "description": "",
            "description_tooltip": null,
            "layout": "IPY_MODEL_661f23b74056486c990df0cfb5847394",
            "placeholder": "​",
            "style": "IPY_MODEL_ca5bb45cba6c40b7aa56d6bc8cf1cd6d",
            "value": "Downloading (…)/main/tokenizer.json: 100%"
          }
        },
        "e12276f32b1343cfb044bd8f84995526": {
          "model_module": "@jupyter-widgets/controls",
          "model_name": "FloatProgressModel",
          "model_module_version": "1.5.0",
          "state": {
            "_dom_classes": [],
            "_model_module": "@jupyter-widgets/controls",
            "_model_module_version": "1.5.0",
            "_model_name": "FloatProgressModel",
            "_view_count": null,
            "_view_module": "@jupyter-widgets/controls",
            "_view_module_version": "1.5.0",
            "_view_name": "ProgressView",
            "bar_style": "success",
            "description": "",
            "description_tooltip": null,
            "layout": "IPY_MODEL_dcdb301b779d447c91500485c4f67537",
            "max": 1355863,
            "min": 0,
            "orientation": "horizontal",
            "style": "IPY_MODEL_ac9063ede8e14d4a8e5564e827fc6658",
            "value": 1355863
          }
        },
        "53ca0a49a2bd42acac4f612aa109ca23": {
          "model_module": "@jupyter-widgets/controls",
          "model_name": "HTMLModel",
          "model_module_version": "1.5.0",
          "state": {
            "_dom_classes": [],
            "_model_module": "@jupyter-widgets/controls",
            "_model_module_version": "1.5.0",
            "_model_name": "HTMLModel",
            "_view_count": null,
            "_view_module": "@jupyter-widgets/controls",
            "_view_module_version": "1.5.0",
            "_view_name": "HTMLView",
            "description": "",
            "description_tooltip": null,
            "layout": "IPY_MODEL_e752a3ec83884772b1e29adeffda1bd2",
            "placeholder": "​",
            "style": "IPY_MODEL_feec854eee5244fcb4b297b8ca4ce677",
            "value": " 1.36M/1.36M [00:01&lt;00:00, 1.02MB/s]"
          }
        },
        "4b03a64bec394303b5a9cd11dd0c4833": {
          "model_module": "@jupyter-widgets/base",
          "model_name": "LayoutModel",
          "model_module_version": "1.2.0",
          "state": {
            "_model_module": "@jupyter-widgets/base",
            "_model_module_version": "1.2.0",
            "_model_name": "LayoutModel",
            "_view_count": null,
            "_view_module": "@jupyter-widgets/base",
            "_view_module_version": "1.2.0",
            "_view_name": "LayoutView",
            "align_content": null,
            "align_items": null,
            "align_self": null,
            "border": null,
            "bottom": null,
            "display": null,
            "flex": null,
            "flex_flow": null,
            "grid_area": null,
            "grid_auto_columns": null,
            "grid_auto_flow": null,
            "grid_auto_rows": null,
            "grid_column": null,
            "grid_gap": null,
            "grid_row": null,
            "grid_template_areas": null,
            "grid_template_columns": null,
            "grid_template_rows": null,
            "height": null,
            "justify_content": null,
            "justify_items": null,
            "left": null,
            "margin": null,
            "max_height": null,
            "max_width": null,
            "min_height": null,
            "min_width": null,
            "object_fit": null,
            "object_position": null,
            "order": null,
            "overflow": null,
            "overflow_x": null,
            "overflow_y": null,
            "padding": null,
            "right": null,
            "top": null,
            "visibility": null,
            "width": null
          }
        },
        "661f23b74056486c990df0cfb5847394": {
          "model_module": "@jupyter-widgets/base",
          "model_name": "LayoutModel",
          "model_module_version": "1.2.0",
          "state": {
            "_model_module": "@jupyter-widgets/base",
            "_model_module_version": "1.2.0",
            "_model_name": "LayoutModel",
            "_view_count": null,
            "_view_module": "@jupyter-widgets/base",
            "_view_module_version": "1.2.0",
            "_view_name": "LayoutView",
            "align_content": null,
            "align_items": null,
            "align_self": null,
            "border": null,
            "bottom": null,
            "display": null,
            "flex": null,
            "flex_flow": null,
            "grid_area": null,
            "grid_auto_columns": null,
            "grid_auto_flow": null,
            "grid_auto_rows": null,
            "grid_column": null,
            "grid_gap": null,
            "grid_row": null,
            "grid_template_areas": null,
            "grid_template_columns": null,
            "grid_template_rows": null,
            "height": null,
            "justify_content": null,
            "justify_items": null,
            "left": null,
            "margin": null,
            "max_height": null,
            "max_width": null,
            "min_height": null,
            "min_width": null,
            "object_fit": null,
            "object_position": null,
            "order": null,
            "overflow": null,
            "overflow_x": null,
            "overflow_y": null,
            "padding": null,
            "right": null,
            "top": null,
            "visibility": null,
            "width": null
          }
        },
        "ca5bb45cba6c40b7aa56d6bc8cf1cd6d": {
          "model_module": "@jupyter-widgets/controls",
          "model_name": "DescriptionStyleModel",
          "model_module_version": "1.5.0",
          "state": {
            "_model_module": "@jupyter-widgets/controls",
            "_model_module_version": "1.5.0",
            "_model_name": "DescriptionStyleModel",
            "_view_count": null,
            "_view_module": "@jupyter-widgets/base",
            "_view_module_version": "1.2.0",
            "_view_name": "StyleView",
            "description_width": ""
          }
        },
        "dcdb301b779d447c91500485c4f67537": {
          "model_module": "@jupyter-widgets/base",
          "model_name": "LayoutModel",
          "model_module_version": "1.2.0",
          "state": {
            "_model_module": "@jupyter-widgets/base",
            "_model_module_version": "1.2.0",
            "_model_name": "LayoutModel",
            "_view_count": null,
            "_view_module": "@jupyter-widgets/base",
            "_view_module_version": "1.2.0",
            "_view_name": "LayoutView",
            "align_content": null,
            "align_items": null,
            "align_self": null,
            "border": null,
            "bottom": null,
            "display": null,
            "flex": null,
            "flex_flow": null,
            "grid_area": null,
            "grid_auto_columns": null,
            "grid_auto_flow": null,
            "grid_auto_rows": null,
            "grid_column": null,
            "grid_gap": null,
            "grid_row": null,
            "grid_template_areas": null,
            "grid_template_columns": null,
            "grid_template_rows": null,
            "height": null,
            "justify_content": null,
            "justify_items": null,
            "left": null,
            "margin": null,
            "max_height": null,
            "max_width": null,
            "min_height": null,
            "min_width": null,
            "object_fit": null,
            "object_position": null,
            "order": null,
            "overflow": null,
            "overflow_x": null,
            "overflow_y": null,
            "padding": null,
            "right": null,
            "top": null,
            "visibility": null,
            "width": null
          }
        },
        "ac9063ede8e14d4a8e5564e827fc6658": {
          "model_module": "@jupyter-widgets/controls",
          "model_name": "ProgressStyleModel",
          "model_module_version": "1.5.0",
          "state": {
            "_model_module": "@jupyter-widgets/controls",
            "_model_module_version": "1.5.0",
            "_model_name": "ProgressStyleModel",
            "_view_count": null,
            "_view_module": "@jupyter-widgets/base",
            "_view_module_version": "1.2.0",
            "_view_name": "StyleView",
            "bar_color": null,
            "description_width": ""
          }
        },
        "e752a3ec83884772b1e29adeffda1bd2": {
          "model_module": "@jupyter-widgets/base",
          "model_name": "LayoutModel",
          "model_module_version": "1.2.0",
          "state": {
            "_model_module": "@jupyter-widgets/base",
            "_model_module_version": "1.2.0",
            "_model_name": "LayoutModel",
            "_view_count": null,
            "_view_module": "@jupyter-widgets/base",
            "_view_module_version": "1.2.0",
            "_view_name": "LayoutView",
            "align_content": null,
            "align_items": null,
            "align_self": null,
            "border": null,
            "bottom": null,
            "display": null,
            "flex": null,
            "flex_flow": null,
            "grid_area": null,
            "grid_auto_columns": null,
            "grid_auto_flow": null,
            "grid_auto_rows": null,
            "grid_column": null,
            "grid_gap": null,
            "grid_row": null,
            "grid_template_areas": null,
            "grid_template_columns": null,
            "grid_template_rows": null,
            "height": null,
            "justify_content": null,
            "justify_items": null,
            "left": null,
            "margin": null,
            "max_height": null,
            "max_width": null,
            "min_height": null,
            "min_width": null,
            "object_fit": null,
            "object_position": null,
            "order": null,
            "overflow": null,
            "overflow_x": null,
            "overflow_y": null,
            "padding": null,
            "right": null,
            "top": null,
            "visibility": null,
            "width": null
          }
        },
        "feec854eee5244fcb4b297b8ca4ce677": {
          "model_module": "@jupyter-widgets/controls",
          "model_name": "DescriptionStyleModel",
          "model_module_version": "1.5.0",
          "state": {
            "_model_module": "@jupyter-widgets/controls",
            "_model_module_version": "1.5.0",
            "_model_name": "DescriptionStyleModel",
            "_view_count": null,
            "_view_module": "@jupyter-widgets/base",
            "_view_module_version": "1.2.0",
            "_view_name": "StyleView",
            "description_width": ""
          }
        },
        "512dd0fe1667439a9c2b525d8aecd39f": {
          "model_module": "@jupyter-widgets/controls",
          "model_name": "HBoxModel",
          "model_module_version": "1.5.0",
          "state": {
            "_dom_classes": [],
            "_model_module": "@jupyter-widgets/controls",
            "_model_module_version": "1.5.0",
            "_model_name": "HBoxModel",
            "_view_count": null,
            "_view_module": "@jupyter-widgets/controls",
            "_view_module_version": "1.5.0",
            "_view_name": "HBoxView",
            "box_style": "",
            "children": [
              "IPY_MODEL_86cf979291294a3daa1468e816eb67cc",
              "IPY_MODEL_dc89e22f9dcc4c2ab1b3dacb4f88307f",
              "IPY_MODEL_2a1fc96b0f214ba88dc8d8dcf99c99aa"
            ],
            "layout": "IPY_MODEL_f6c761bf7a514916aed5534bb6130fd7"
          }
        },
        "86cf979291294a3daa1468e816eb67cc": {
          "model_module": "@jupyter-widgets/controls",
          "model_name": "HTMLModel",
          "model_module_version": "1.5.0",
          "state": {
            "_dom_classes": [],
            "_model_module": "@jupyter-widgets/controls",
            "_model_module_version": "1.5.0",
            "_model_name": "HTMLModel",
            "_view_count": null,
            "_view_module": "@jupyter-widgets/controls",
            "_view_module_version": "1.5.0",
            "_view_name": "HTMLView",
            "description": "",
            "description_tooltip": null,
            "layout": "IPY_MODEL_bc11b35a558c494798443d205545f00d",
            "placeholder": "​",
            "style": "IPY_MODEL_7adada6e76734c6cb074f743224318ba",
            "value": "Downloading (…)&quot;pytorch_model.bin&quot;;: 100%"
          }
        },
        "dc89e22f9dcc4c2ab1b3dacb4f88307f": {
          "model_module": "@jupyter-widgets/controls",
          "model_name": "FloatProgressModel",
          "model_module_version": "1.5.0",
          "state": {
            "_dom_classes": [],
            "_model_module": "@jupyter-widgets/controls",
            "_model_module_version": "1.5.0",
            "_model_name": "FloatProgressModel",
            "_view_count": null,
            "_view_module": "@jupyter-widgets/controls",
            "_view_module_version": "1.5.0",
            "_view_name": "ProgressView",
            "bar_style": "success",
            "description": "",
            "description_tooltip": null,
            "layout": "IPY_MODEL_88daa32efd7549b798ff3210ac2b27b8",
            "max": 501200538,
            "min": 0,
            "orientation": "horizontal",
            "style": "IPY_MODEL_fbae0a84a47c47d4959b71323391090a",
            "value": 501200538
          }
        },
        "2a1fc96b0f214ba88dc8d8dcf99c99aa": {
          "model_module": "@jupyter-widgets/controls",
          "model_name": "HTMLModel",
          "model_module_version": "1.5.0",
          "state": {
            "_dom_classes": [],
            "_model_module": "@jupyter-widgets/controls",
            "_model_module_version": "1.5.0",
            "_model_name": "HTMLModel",
            "_view_count": null,
            "_view_module": "@jupyter-widgets/controls",
            "_view_module_version": "1.5.0",
            "_view_name": "HTMLView",
            "description": "",
            "description_tooltip": null,
            "layout": "IPY_MODEL_7ed004692fd947039a96130b3690f2ae",
            "placeholder": "​",
            "style": "IPY_MODEL_a51ad852c0034638b7eb63a50eccb6c9",
            "value": " 501M/501M [00:09&lt;00:00, 35.4MB/s]"
          }
        },
        "f6c761bf7a514916aed5534bb6130fd7": {
          "model_module": "@jupyter-widgets/base",
          "model_name": "LayoutModel",
          "model_module_version": "1.2.0",
          "state": {
            "_model_module": "@jupyter-widgets/base",
            "_model_module_version": "1.2.0",
            "_model_name": "LayoutModel",
            "_view_count": null,
            "_view_module": "@jupyter-widgets/base",
            "_view_module_version": "1.2.0",
            "_view_name": "LayoutView",
            "align_content": null,
            "align_items": null,
            "align_self": null,
            "border": null,
            "bottom": null,
            "display": null,
            "flex": null,
            "flex_flow": null,
            "grid_area": null,
            "grid_auto_columns": null,
            "grid_auto_flow": null,
            "grid_auto_rows": null,
            "grid_column": null,
            "grid_gap": null,
            "grid_row": null,
            "grid_template_areas": null,
            "grid_template_columns": null,
            "grid_template_rows": null,
            "height": null,
            "justify_content": null,
            "justify_items": null,
            "left": null,
            "margin": null,
            "max_height": null,
            "max_width": null,
            "min_height": null,
            "min_width": null,
            "object_fit": null,
            "object_position": null,
            "order": null,
            "overflow": null,
            "overflow_x": null,
            "overflow_y": null,
            "padding": null,
            "right": null,
            "top": null,
            "visibility": null,
            "width": null
          }
        },
        "bc11b35a558c494798443d205545f00d": {
          "model_module": "@jupyter-widgets/base",
          "model_name": "LayoutModel",
          "model_module_version": "1.2.0",
          "state": {
            "_model_module": "@jupyter-widgets/base",
            "_model_module_version": "1.2.0",
            "_model_name": "LayoutModel",
            "_view_count": null,
            "_view_module": "@jupyter-widgets/base",
            "_view_module_version": "1.2.0",
            "_view_name": "LayoutView",
            "align_content": null,
            "align_items": null,
            "align_self": null,
            "border": null,
            "bottom": null,
            "display": null,
            "flex": null,
            "flex_flow": null,
            "grid_area": null,
            "grid_auto_columns": null,
            "grid_auto_flow": null,
            "grid_auto_rows": null,
            "grid_column": null,
            "grid_gap": null,
            "grid_row": null,
            "grid_template_areas": null,
            "grid_template_columns": null,
            "grid_template_rows": null,
            "height": null,
            "justify_content": null,
            "justify_items": null,
            "left": null,
            "margin": null,
            "max_height": null,
            "max_width": null,
            "min_height": null,
            "min_width": null,
            "object_fit": null,
            "object_position": null,
            "order": null,
            "overflow": null,
            "overflow_x": null,
            "overflow_y": null,
            "padding": null,
            "right": null,
            "top": null,
            "visibility": null,
            "width": null
          }
        },
        "7adada6e76734c6cb074f743224318ba": {
          "model_module": "@jupyter-widgets/controls",
          "model_name": "DescriptionStyleModel",
          "model_module_version": "1.5.0",
          "state": {
            "_model_module": "@jupyter-widgets/controls",
            "_model_module_version": "1.5.0",
            "_model_name": "DescriptionStyleModel",
            "_view_count": null,
            "_view_module": "@jupyter-widgets/base",
            "_view_module_version": "1.2.0",
            "_view_name": "StyleView",
            "description_width": ""
          }
        },
        "88daa32efd7549b798ff3210ac2b27b8": {
          "model_module": "@jupyter-widgets/base",
          "model_name": "LayoutModel",
          "model_module_version": "1.2.0",
          "state": {
            "_model_module": "@jupyter-widgets/base",
            "_model_module_version": "1.2.0",
            "_model_name": "LayoutModel",
            "_view_count": null,
            "_view_module": "@jupyter-widgets/base",
            "_view_module_version": "1.2.0",
            "_view_name": "LayoutView",
            "align_content": null,
            "align_items": null,
            "align_self": null,
            "border": null,
            "bottom": null,
            "display": null,
            "flex": null,
            "flex_flow": null,
            "grid_area": null,
            "grid_auto_columns": null,
            "grid_auto_flow": null,
            "grid_auto_rows": null,
            "grid_column": null,
            "grid_gap": null,
            "grid_row": null,
            "grid_template_areas": null,
            "grid_template_columns": null,
            "grid_template_rows": null,
            "height": null,
            "justify_content": null,
            "justify_items": null,
            "left": null,
            "margin": null,
            "max_height": null,
            "max_width": null,
            "min_height": null,
            "min_width": null,
            "object_fit": null,
            "object_position": null,
            "order": null,
            "overflow": null,
            "overflow_x": null,
            "overflow_y": null,
            "padding": null,
            "right": null,
            "top": null,
            "visibility": null,
            "width": null
          }
        },
        "fbae0a84a47c47d4959b71323391090a": {
          "model_module": "@jupyter-widgets/controls",
          "model_name": "ProgressStyleModel",
          "model_module_version": "1.5.0",
          "state": {
            "_model_module": "@jupyter-widgets/controls",
            "_model_module_version": "1.5.0",
            "_model_name": "ProgressStyleModel",
            "_view_count": null,
            "_view_module": "@jupyter-widgets/base",
            "_view_module_version": "1.2.0",
            "_view_name": "StyleView",
            "bar_color": null,
            "description_width": ""
          }
        },
        "7ed004692fd947039a96130b3690f2ae": {
          "model_module": "@jupyter-widgets/base",
          "model_name": "LayoutModel",
          "model_module_version": "1.2.0",
          "state": {
            "_model_module": "@jupyter-widgets/base",
            "_model_module_version": "1.2.0",
            "_model_name": "LayoutModel",
            "_view_count": null,
            "_view_module": "@jupyter-widgets/base",
            "_view_module_version": "1.2.0",
            "_view_name": "LayoutView",
            "align_content": null,
            "align_items": null,
            "align_self": null,
            "border": null,
            "bottom": null,
            "display": null,
            "flex": null,
            "flex_flow": null,
            "grid_area": null,
            "grid_auto_columns": null,
            "grid_auto_flow": null,
            "grid_auto_rows": null,
            "grid_column": null,
            "grid_gap": null,
            "grid_row": null,
            "grid_template_areas": null,
            "grid_template_columns": null,
            "grid_template_rows": null,
            "height": null,
            "justify_content": null,
            "justify_items": null,
            "left": null,
            "margin": null,
            "max_height": null,
            "max_width": null,
            "min_height": null,
            "min_width": null,
            "object_fit": null,
            "object_position": null,
            "order": null,
            "overflow": null,
            "overflow_x": null,
            "overflow_y": null,
            "padding": null,
            "right": null,
            "top": null,
            "visibility": null,
            "width": null
          }
        },
        "a51ad852c0034638b7eb63a50eccb6c9": {
          "model_module": "@jupyter-widgets/controls",
          "model_name": "DescriptionStyleModel",
          "model_module_version": "1.5.0",
          "state": {
            "_model_module": "@jupyter-widgets/controls",
            "_model_module_version": "1.5.0",
            "_model_name": "DescriptionStyleModel",
            "_view_count": null,
            "_view_module": "@jupyter-widgets/base",
            "_view_module_version": "1.2.0",
            "_view_name": "StyleView",
            "description_width": ""
          }
        },
        "8a6444d5d7b94ae499edbb511c7d9b82": {
          "model_module": "@jupyter-widgets/controls",
          "model_name": "HBoxModel",
          "model_module_version": "1.5.0",
          "state": {
            "_dom_classes": [],
            "_model_module": "@jupyter-widgets/controls",
            "_model_module_version": "1.5.0",
            "_model_name": "HBoxModel",
            "_view_count": null,
            "_view_module": "@jupyter-widgets/controls",
            "_view_module_version": "1.5.0",
            "_view_name": "HBoxView",
            "box_style": "",
            "children": [
              "IPY_MODEL_28c6119879b54b2983de967b0285aa6d",
              "IPY_MODEL_c7045de9c93a430bad8a2cb687bb644e",
              "IPY_MODEL_37d31d5e150d4bd79c2de9c5ea00b64e"
            ],
            "layout": "IPY_MODEL_967d0a9a498747f398a3d41c3f23f3bf"
          }
        },
        "28c6119879b54b2983de967b0285aa6d": {
          "model_module": "@jupyter-widgets/controls",
          "model_name": "HTMLModel",
          "model_module_version": "1.5.0",
          "state": {
            "_dom_classes": [],
            "_model_module": "@jupyter-widgets/controls",
            "_model_module_version": "1.5.0",
            "_model_name": "HTMLModel",
            "_view_count": null,
            "_view_module": "@jupyter-widgets/controls",
            "_view_module_version": "1.5.0",
            "_view_name": "HTMLView",
            "description": "",
            "description_tooltip": null,
            "layout": "IPY_MODEL_52ccad86798045399eb2e838ebeeace4",
            "placeholder": "​",
            "style": "IPY_MODEL_24e18fd5efcc40cf8f1e80139bc9b6dd",
            "value": "100%"
          }
        },
        "c7045de9c93a430bad8a2cb687bb644e": {
          "model_module": "@jupyter-widgets/controls",
          "model_name": "FloatProgressModel",
          "model_module_version": "1.5.0",
          "state": {
            "_dom_classes": [],
            "_model_module": "@jupyter-widgets/controls",
            "_model_module_version": "1.5.0",
            "_model_name": "FloatProgressModel",
            "_view_count": null,
            "_view_module": "@jupyter-widgets/controls",
            "_view_module_version": "1.5.0",
            "_view_name": "ProgressView",
            "bar_style": "success",
            "description": "",
            "description_tooltip": null,
            "layout": "IPY_MODEL_9d009ef78a874459bc286cc5aa649576",
            "max": 26,
            "min": 0,
            "orientation": "horizontal",
            "style": "IPY_MODEL_257bb460dbfc46c0a304d2917867291f",
            "value": 26
          }
        },
        "37d31d5e150d4bd79c2de9c5ea00b64e": {
          "model_module": "@jupyter-widgets/controls",
          "model_name": "HTMLModel",
          "model_module_version": "1.5.0",
          "state": {
            "_dom_classes": [],
            "_model_module": "@jupyter-widgets/controls",
            "_model_module_version": "1.5.0",
            "_model_name": "HTMLModel",
            "_view_count": null,
            "_view_module": "@jupyter-widgets/controls",
            "_view_module_version": "1.5.0",
            "_view_name": "HTMLView",
            "description": "",
            "description_tooltip": null,
            "layout": "IPY_MODEL_765feb73f7124729a105938fcf839cac",
            "placeholder": "​",
            "style": "IPY_MODEL_bba6d5fa2e2f4ce4bd38993aa640fce7",
            "value": " 26/26 [00:02&lt;00:00,  9.45ba/s]"
          }
        },
        "967d0a9a498747f398a3d41c3f23f3bf": {
          "model_module": "@jupyter-widgets/base",
          "model_name": "LayoutModel",
          "model_module_version": "1.2.0",
          "state": {
            "_model_module": "@jupyter-widgets/base",
            "_model_module_version": "1.2.0",
            "_model_name": "LayoutModel",
            "_view_count": null,
            "_view_module": "@jupyter-widgets/base",
            "_view_module_version": "1.2.0",
            "_view_name": "LayoutView",
            "align_content": null,
            "align_items": null,
            "align_self": null,
            "border": null,
            "bottom": null,
            "display": null,
            "flex": null,
            "flex_flow": null,
            "grid_area": null,
            "grid_auto_columns": null,
            "grid_auto_flow": null,
            "grid_auto_rows": null,
            "grid_column": null,
            "grid_gap": null,
            "grid_row": null,
            "grid_template_areas": null,
            "grid_template_columns": null,
            "grid_template_rows": null,
            "height": null,
            "justify_content": null,
            "justify_items": null,
            "left": null,
            "margin": null,
            "max_height": null,
            "max_width": null,
            "min_height": null,
            "min_width": null,
            "object_fit": null,
            "object_position": null,
            "order": null,
            "overflow": null,
            "overflow_x": null,
            "overflow_y": null,
            "padding": null,
            "right": null,
            "top": null,
            "visibility": null,
            "width": null
          }
        },
        "52ccad86798045399eb2e838ebeeace4": {
          "model_module": "@jupyter-widgets/base",
          "model_name": "LayoutModel",
          "model_module_version": "1.2.0",
          "state": {
            "_model_module": "@jupyter-widgets/base",
            "_model_module_version": "1.2.0",
            "_model_name": "LayoutModel",
            "_view_count": null,
            "_view_module": "@jupyter-widgets/base",
            "_view_module_version": "1.2.0",
            "_view_name": "LayoutView",
            "align_content": null,
            "align_items": null,
            "align_self": null,
            "border": null,
            "bottom": null,
            "display": null,
            "flex": null,
            "flex_flow": null,
            "grid_area": null,
            "grid_auto_columns": null,
            "grid_auto_flow": null,
            "grid_auto_rows": null,
            "grid_column": null,
            "grid_gap": null,
            "grid_row": null,
            "grid_template_areas": null,
            "grid_template_columns": null,
            "grid_template_rows": null,
            "height": null,
            "justify_content": null,
            "justify_items": null,
            "left": null,
            "margin": null,
            "max_height": null,
            "max_width": null,
            "min_height": null,
            "min_width": null,
            "object_fit": null,
            "object_position": null,
            "order": null,
            "overflow": null,
            "overflow_x": null,
            "overflow_y": null,
            "padding": null,
            "right": null,
            "top": null,
            "visibility": null,
            "width": null
          }
        },
        "24e18fd5efcc40cf8f1e80139bc9b6dd": {
          "model_module": "@jupyter-widgets/controls",
          "model_name": "DescriptionStyleModel",
          "model_module_version": "1.5.0",
          "state": {
            "_model_module": "@jupyter-widgets/controls",
            "_model_module_version": "1.5.0",
            "_model_name": "DescriptionStyleModel",
            "_view_count": null,
            "_view_module": "@jupyter-widgets/base",
            "_view_module_version": "1.2.0",
            "_view_name": "StyleView",
            "description_width": ""
          }
        },
        "9d009ef78a874459bc286cc5aa649576": {
          "model_module": "@jupyter-widgets/base",
          "model_name": "LayoutModel",
          "model_module_version": "1.2.0",
          "state": {
            "_model_module": "@jupyter-widgets/base",
            "_model_module_version": "1.2.0",
            "_model_name": "LayoutModel",
            "_view_count": null,
            "_view_module": "@jupyter-widgets/base",
            "_view_module_version": "1.2.0",
            "_view_name": "LayoutView",
            "align_content": null,
            "align_items": null,
            "align_self": null,
            "border": null,
            "bottom": null,
            "display": null,
            "flex": null,
            "flex_flow": null,
            "grid_area": null,
            "grid_auto_columns": null,
            "grid_auto_flow": null,
            "grid_auto_rows": null,
            "grid_column": null,
            "grid_gap": null,
            "grid_row": null,
            "grid_template_areas": null,
            "grid_template_columns": null,
            "grid_template_rows": null,
            "height": null,
            "justify_content": null,
            "justify_items": null,
            "left": null,
            "margin": null,
            "max_height": null,
            "max_width": null,
            "min_height": null,
            "min_width": null,
            "object_fit": null,
            "object_position": null,
            "order": null,
            "overflow": null,
            "overflow_x": null,
            "overflow_y": null,
            "padding": null,
            "right": null,
            "top": null,
            "visibility": null,
            "width": null
          }
        },
        "257bb460dbfc46c0a304d2917867291f": {
          "model_module": "@jupyter-widgets/controls",
          "model_name": "ProgressStyleModel",
          "model_module_version": "1.5.0",
          "state": {
            "_model_module": "@jupyter-widgets/controls",
            "_model_module_version": "1.5.0",
            "_model_name": "ProgressStyleModel",
            "_view_count": null,
            "_view_module": "@jupyter-widgets/base",
            "_view_module_version": "1.2.0",
            "_view_name": "StyleView",
            "bar_color": null,
            "description_width": ""
          }
        },
        "765feb73f7124729a105938fcf839cac": {
          "model_module": "@jupyter-widgets/base",
          "model_name": "LayoutModel",
          "model_module_version": "1.2.0",
          "state": {
            "_model_module": "@jupyter-widgets/base",
            "_model_module_version": "1.2.0",
            "_model_name": "LayoutModel",
            "_view_count": null,
            "_view_module": "@jupyter-widgets/base",
            "_view_module_version": "1.2.0",
            "_view_name": "LayoutView",
            "align_content": null,
            "align_items": null,
            "align_self": null,
            "border": null,
            "bottom": null,
            "display": null,
            "flex": null,
            "flex_flow": null,
            "grid_area": null,
            "grid_auto_columns": null,
            "grid_auto_flow": null,
            "grid_auto_rows": null,
            "grid_column": null,
            "grid_gap": null,
            "grid_row": null,
            "grid_template_areas": null,
            "grid_template_columns": null,
            "grid_template_rows": null,
            "height": null,
            "justify_content": null,
            "justify_items": null,
            "left": null,
            "margin": null,
            "max_height": null,
            "max_width": null,
            "min_height": null,
            "min_width": null,
            "object_fit": null,
            "object_position": null,
            "order": null,
            "overflow": null,
            "overflow_x": null,
            "overflow_y": null,
            "padding": null,
            "right": null,
            "top": null,
            "visibility": null,
            "width": null
          }
        },
        "bba6d5fa2e2f4ce4bd38993aa640fce7": {
          "model_module": "@jupyter-widgets/controls",
          "model_name": "DescriptionStyleModel",
          "model_module_version": "1.5.0",
          "state": {
            "_model_module": "@jupyter-widgets/controls",
            "_model_module_version": "1.5.0",
            "_model_name": "DescriptionStyleModel",
            "_view_count": null,
            "_view_module": "@jupyter-widgets/base",
            "_view_module_version": "1.2.0",
            "_view_name": "StyleView",
            "description_width": ""
          }
        },
        "6aaa62528dc54e959834fe470dbd1abf": {
          "model_module": "@jupyter-widgets/controls",
          "model_name": "HBoxModel",
          "model_module_version": "1.5.0",
          "state": {
            "_dom_classes": [],
            "_model_module": "@jupyter-widgets/controls",
            "_model_module_version": "1.5.0",
            "_model_name": "HBoxModel",
            "_view_count": null,
            "_view_module": "@jupyter-widgets/controls",
            "_view_module_version": "1.5.0",
            "_view_name": "HBoxView",
            "box_style": "",
            "children": [
              "IPY_MODEL_babc29c5c9544159b9f6369505fe40d4",
              "IPY_MODEL_341d5b2b3caf4242a8baad567f14a0ae",
              "IPY_MODEL_6c586bbc297348b3b4e6cc9cc7366606"
            ],
            "layout": "IPY_MODEL_18a85d9c33574c7b9596f301e9f10eb8"
          }
        },
        "babc29c5c9544159b9f6369505fe40d4": {
          "model_module": "@jupyter-widgets/controls",
          "model_name": "HTMLModel",
          "model_module_version": "1.5.0",
          "state": {
            "_dom_classes": [],
            "_model_module": "@jupyter-widgets/controls",
            "_model_module_version": "1.5.0",
            "_model_name": "HTMLModel",
            "_view_count": null,
            "_view_module": "@jupyter-widgets/controls",
            "_view_module_version": "1.5.0",
            "_view_name": "HTMLView",
            "description": "",
            "description_tooltip": null,
            "layout": "IPY_MODEL_ce2029d3d3ac4efa93d46f23c1deb9cf",
            "placeholder": "​",
            "style": "IPY_MODEL_9d8f23d777d743e0861957d8bdbf343e",
            "value": "100%"
          }
        },
        "341d5b2b3caf4242a8baad567f14a0ae": {
          "model_module": "@jupyter-widgets/controls",
          "model_name": "FloatProgressModel",
          "model_module_version": "1.5.0",
          "state": {
            "_dom_classes": [],
            "_model_module": "@jupyter-widgets/controls",
            "_model_module_version": "1.5.0",
            "_model_name": "FloatProgressModel",
            "_view_count": null,
            "_view_module": "@jupyter-widgets/controls",
            "_view_module_version": "1.5.0",
            "_view_name": "ProgressView",
            "bar_style": "success",
            "description": "",
            "description_tooltip": null,
            "layout": "IPY_MODEL_0f46a0cadaa14e9fbebc6702aeea61bf",
            "max": 4,
            "min": 0,
            "orientation": "horizontal",
            "style": "IPY_MODEL_cea84e8df1a1450ebf04be69fec7118b",
            "value": 4
          }
        },
        "6c586bbc297348b3b4e6cc9cc7366606": {
          "model_module": "@jupyter-widgets/controls",
          "model_name": "HTMLModel",
          "model_module_version": "1.5.0",
          "state": {
            "_dom_classes": [],
            "_model_module": "@jupyter-widgets/controls",
            "_model_module_version": "1.5.0",
            "_model_name": "HTMLModel",
            "_view_count": null,
            "_view_module": "@jupyter-widgets/controls",
            "_view_module_version": "1.5.0",
            "_view_name": "HTMLView",
            "description": "",
            "description_tooltip": null,
            "layout": "IPY_MODEL_152de54dbd4943d18263358b65400988",
            "placeholder": "​",
            "style": "IPY_MODEL_fdf45c8eee7a487680bf4e7177ab50d5",
            "value": " 4/4 [00:00&lt;00:00,  8.83ba/s]"
          }
        },
        "18a85d9c33574c7b9596f301e9f10eb8": {
          "model_module": "@jupyter-widgets/base",
          "model_name": "LayoutModel",
          "model_module_version": "1.2.0",
          "state": {
            "_model_module": "@jupyter-widgets/base",
            "_model_module_version": "1.2.0",
            "_model_name": "LayoutModel",
            "_view_count": null,
            "_view_module": "@jupyter-widgets/base",
            "_view_module_version": "1.2.0",
            "_view_name": "LayoutView",
            "align_content": null,
            "align_items": null,
            "align_self": null,
            "border": null,
            "bottom": null,
            "display": null,
            "flex": null,
            "flex_flow": null,
            "grid_area": null,
            "grid_auto_columns": null,
            "grid_auto_flow": null,
            "grid_auto_rows": null,
            "grid_column": null,
            "grid_gap": null,
            "grid_row": null,
            "grid_template_areas": null,
            "grid_template_columns": null,
            "grid_template_rows": null,
            "height": null,
            "justify_content": null,
            "justify_items": null,
            "left": null,
            "margin": null,
            "max_height": null,
            "max_width": null,
            "min_height": null,
            "min_width": null,
            "object_fit": null,
            "object_position": null,
            "order": null,
            "overflow": null,
            "overflow_x": null,
            "overflow_y": null,
            "padding": null,
            "right": null,
            "top": null,
            "visibility": null,
            "width": null
          }
        },
        "ce2029d3d3ac4efa93d46f23c1deb9cf": {
          "model_module": "@jupyter-widgets/base",
          "model_name": "LayoutModel",
          "model_module_version": "1.2.0",
          "state": {
            "_model_module": "@jupyter-widgets/base",
            "_model_module_version": "1.2.0",
            "_model_name": "LayoutModel",
            "_view_count": null,
            "_view_module": "@jupyter-widgets/base",
            "_view_module_version": "1.2.0",
            "_view_name": "LayoutView",
            "align_content": null,
            "align_items": null,
            "align_self": null,
            "border": null,
            "bottom": null,
            "display": null,
            "flex": null,
            "flex_flow": null,
            "grid_area": null,
            "grid_auto_columns": null,
            "grid_auto_flow": null,
            "grid_auto_rows": null,
            "grid_column": null,
            "grid_gap": null,
            "grid_row": null,
            "grid_template_areas": null,
            "grid_template_columns": null,
            "grid_template_rows": null,
            "height": null,
            "justify_content": null,
            "justify_items": null,
            "left": null,
            "margin": null,
            "max_height": null,
            "max_width": null,
            "min_height": null,
            "min_width": null,
            "object_fit": null,
            "object_position": null,
            "order": null,
            "overflow": null,
            "overflow_x": null,
            "overflow_y": null,
            "padding": null,
            "right": null,
            "top": null,
            "visibility": null,
            "width": null
          }
        },
        "9d8f23d777d743e0861957d8bdbf343e": {
          "model_module": "@jupyter-widgets/controls",
          "model_name": "DescriptionStyleModel",
          "model_module_version": "1.5.0",
          "state": {
            "_model_module": "@jupyter-widgets/controls",
            "_model_module_version": "1.5.0",
            "_model_name": "DescriptionStyleModel",
            "_view_count": null,
            "_view_module": "@jupyter-widgets/base",
            "_view_module_version": "1.2.0",
            "_view_name": "StyleView",
            "description_width": ""
          }
        },
        "0f46a0cadaa14e9fbebc6702aeea61bf": {
          "model_module": "@jupyter-widgets/base",
          "model_name": "LayoutModel",
          "model_module_version": "1.2.0",
          "state": {
            "_model_module": "@jupyter-widgets/base",
            "_model_module_version": "1.2.0",
            "_model_name": "LayoutModel",
            "_view_count": null,
            "_view_module": "@jupyter-widgets/base",
            "_view_module_version": "1.2.0",
            "_view_name": "LayoutView",
            "align_content": null,
            "align_items": null,
            "align_self": null,
            "border": null,
            "bottom": null,
            "display": null,
            "flex": null,
            "flex_flow": null,
            "grid_area": null,
            "grid_auto_columns": null,
            "grid_auto_flow": null,
            "grid_auto_rows": null,
            "grid_column": null,
            "grid_gap": null,
            "grid_row": null,
            "grid_template_areas": null,
            "grid_template_columns": null,
            "grid_template_rows": null,
            "height": null,
            "justify_content": null,
            "justify_items": null,
            "left": null,
            "margin": null,
            "max_height": null,
            "max_width": null,
            "min_height": null,
            "min_width": null,
            "object_fit": null,
            "object_position": null,
            "order": null,
            "overflow": null,
            "overflow_x": null,
            "overflow_y": null,
            "padding": null,
            "right": null,
            "top": null,
            "visibility": null,
            "width": null
          }
        },
        "cea84e8df1a1450ebf04be69fec7118b": {
          "model_module": "@jupyter-widgets/controls",
          "model_name": "ProgressStyleModel",
          "model_module_version": "1.5.0",
          "state": {
            "_model_module": "@jupyter-widgets/controls",
            "_model_module_version": "1.5.0",
            "_model_name": "ProgressStyleModel",
            "_view_count": null,
            "_view_module": "@jupyter-widgets/base",
            "_view_module_version": "1.2.0",
            "_view_name": "StyleView",
            "bar_color": null,
            "description_width": ""
          }
        },
        "152de54dbd4943d18263358b65400988": {
          "model_module": "@jupyter-widgets/base",
          "model_name": "LayoutModel",
          "model_module_version": "1.2.0",
          "state": {
            "_model_module": "@jupyter-widgets/base",
            "_model_module_version": "1.2.0",
            "_model_name": "LayoutModel",
            "_view_count": null,
            "_view_module": "@jupyter-widgets/base",
            "_view_module_version": "1.2.0",
            "_view_name": "LayoutView",
            "align_content": null,
            "align_items": null,
            "align_self": null,
            "border": null,
            "bottom": null,
            "display": null,
            "flex": null,
            "flex_flow": null,
            "grid_area": null,
            "grid_auto_columns": null,
            "grid_auto_flow": null,
            "grid_auto_rows": null,
            "grid_column": null,
            "grid_gap": null,
            "grid_row": null,
            "grid_template_areas": null,
            "grid_template_columns": null,
            "grid_template_rows": null,
            "height": null,
            "justify_content": null,
            "justify_items": null,
            "left": null,
            "margin": null,
            "max_height": null,
            "max_width": null,
            "min_height": null,
            "min_width": null,
            "object_fit": null,
            "object_position": null,
            "order": null,
            "overflow": null,
            "overflow_x": null,
            "overflow_y": null,
            "padding": null,
            "right": null,
            "top": null,
            "visibility": null,
            "width": null
          }
        },
        "fdf45c8eee7a487680bf4e7177ab50d5": {
          "model_module": "@jupyter-widgets/controls",
          "model_name": "DescriptionStyleModel",
          "model_module_version": "1.5.0",
          "state": {
            "_model_module": "@jupyter-widgets/controls",
            "_model_module_version": "1.5.0",
            "_model_name": "DescriptionStyleModel",
            "_view_count": null,
            "_view_module": "@jupyter-widgets/base",
            "_view_module_version": "1.2.0",
            "_view_name": "StyleView",
            "description_width": ""
          }
        },
        "c02fa046804a4d6d85d055defb894c50": {
          "model_module": "@jupyter-widgets/controls",
          "model_name": "HBoxModel",
          "model_module_version": "1.5.0",
          "state": {
            "_dom_classes": [],
            "_model_module": "@jupyter-widgets/controls",
            "_model_module_version": "1.5.0",
            "_model_name": "HBoxModel",
            "_view_count": null,
            "_view_module": "@jupyter-widgets/controls",
            "_view_module_version": "1.5.0",
            "_view_name": "HBoxView",
            "box_style": "",
            "children": [
              "IPY_MODEL_ba40525a6a97478a9904e397f3322324",
              "IPY_MODEL_0fdfc84f03054e6aaefea440f9195b85",
              "IPY_MODEL_6d9a0e38faac43cbb80353d753ecf76a"
            ],
            "layout": "IPY_MODEL_c4c601f07585480989a7d4f208cf831e"
          }
        },
        "ba40525a6a97478a9904e397f3322324": {
          "model_module": "@jupyter-widgets/controls",
          "model_name": "HTMLModel",
          "model_module_version": "1.5.0",
          "state": {
            "_dom_classes": [],
            "_model_module": "@jupyter-widgets/controls",
            "_model_module_version": "1.5.0",
            "_model_name": "HTMLModel",
            "_view_count": null,
            "_view_module": "@jupyter-widgets/controls",
            "_view_module_version": "1.5.0",
            "_view_name": "HTMLView",
            "description": "",
            "description_tooltip": null,
            "layout": "IPY_MODEL_39c5e37e2d0e497ab9bbab8b7c6d10a0",
            "placeholder": "​",
            "style": "IPY_MODEL_e1e06f51d37b4edebfb8c41711a17a42",
            "value": "Downloading builder script: 100%"
          }
        },
        "0fdfc84f03054e6aaefea440f9195b85": {
          "model_module": "@jupyter-widgets/controls",
          "model_name": "FloatProgressModel",
          "model_module_version": "1.5.0",
          "state": {
            "_dom_classes": [],
            "_model_module": "@jupyter-widgets/controls",
            "_model_module_version": "1.5.0",
            "_model_name": "FloatProgressModel",
            "_view_count": null,
            "_view_module": "@jupyter-widgets/controls",
            "_view_module_version": "1.5.0",
            "_view_name": "ProgressView",
            "bar_style": "success",
            "description": "",
            "description_tooltip": null,
            "layout": "IPY_MODEL_10abcff118984d99b58d759bae0bca33",
            "max": 4203,
            "min": 0,
            "orientation": "horizontal",
            "style": "IPY_MODEL_354b2c0eb5b848db9a4f1b3b6870c040",
            "value": 4203
          }
        },
        "6d9a0e38faac43cbb80353d753ecf76a": {
          "model_module": "@jupyter-widgets/controls",
          "model_name": "HTMLModel",
          "model_module_version": "1.5.0",
          "state": {
            "_dom_classes": [],
            "_model_module": "@jupyter-widgets/controls",
            "_model_module_version": "1.5.0",
            "_model_name": "HTMLModel",
            "_view_count": null,
            "_view_module": "@jupyter-widgets/controls",
            "_view_module_version": "1.5.0",
            "_view_name": "HTMLView",
            "description": "",
            "description_tooltip": null,
            "layout": "IPY_MODEL_8c025e3580c54275b2bdf4e62314b7f5",
            "placeholder": "​",
            "style": "IPY_MODEL_8bf0464f2a1645ab8931f34ca86729a7",
            "value": " 4.20k/4.20k [00:00&lt;00:00, 279kB/s]"
          }
        },
        "c4c601f07585480989a7d4f208cf831e": {
          "model_module": "@jupyter-widgets/base",
          "model_name": "LayoutModel",
          "model_module_version": "1.2.0",
          "state": {
            "_model_module": "@jupyter-widgets/base",
            "_model_module_version": "1.2.0",
            "_model_name": "LayoutModel",
            "_view_count": null,
            "_view_module": "@jupyter-widgets/base",
            "_view_module_version": "1.2.0",
            "_view_name": "LayoutView",
            "align_content": null,
            "align_items": null,
            "align_self": null,
            "border": null,
            "bottom": null,
            "display": null,
            "flex": null,
            "flex_flow": null,
            "grid_area": null,
            "grid_auto_columns": null,
            "grid_auto_flow": null,
            "grid_auto_rows": null,
            "grid_column": null,
            "grid_gap": null,
            "grid_row": null,
            "grid_template_areas": null,
            "grid_template_columns": null,
            "grid_template_rows": null,
            "height": null,
            "justify_content": null,
            "justify_items": null,
            "left": null,
            "margin": null,
            "max_height": null,
            "max_width": null,
            "min_height": null,
            "min_width": null,
            "object_fit": null,
            "object_position": null,
            "order": null,
            "overflow": null,
            "overflow_x": null,
            "overflow_y": null,
            "padding": null,
            "right": null,
            "top": null,
            "visibility": null,
            "width": null
          }
        },
        "39c5e37e2d0e497ab9bbab8b7c6d10a0": {
          "model_module": "@jupyter-widgets/base",
          "model_name": "LayoutModel",
          "model_module_version": "1.2.0",
          "state": {
            "_model_module": "@jupyter-widgets/base",
            "_model_module_version": "1.2.0",
            "_model_name": "LayoutModel",
            "_view_count": null,
            "_view_module": "@jupyter-widgets/base",
            "_view_module_version": "1.2.0",
            "_view_name": "LayoutView",
            "align_content": null,
            "align_items": null,
            "align_self": null,
            "border": null,
            "bottom": null,
            "display": null,
            "flex": null,
            "flex_flow": null,
            "grid_area": null,
            "grid_auto_columns": null,
            "grid_auto_flow": null,
            "grid_auto_rows": null,
            "grid_column": null,
            "grid_gap": null,
            "grid_row": null,
            "grid_template_areas": null,
            "grid_template_columns": null,
            "grid_template_rows": null,
            "height": null,
            "justify_content": null,
            "justify_items": null,
            "left": null,
            "margin": null,
            "max_height": null,
            "max_width": null,
            "min_height": null,
            "min_width": null,
            "object_fit": null,
            "object_position": null,
            "order": null,
            "overflow": null,
            "overflow_x": null,
            "overflow_y": null,
            "padding": null,
            "right": null,
            "top": null,
            "visibility": null,
            "width": null
          }
        },
        "e1e06f51d37b4edebfb8c41711a17a42": {
          "model_module": "@jupyter-widgets/controls",
          "model_name": "DescriptionStyleModel",
          "model_module_version": "1.5.0",
          "state": {
            "_model_module": "@jupyter-widgets/controls",
            "_model_module_version": "1.5.0",
            "_model_name": "DescriptionStyleModel",
            "_view_count": null,
            "_view_module": "@jupyter-widgets/base",
            "_view_module_version": "1.2.0",
            "_view_name": "StyleView",
            "description_width": ""
          }
        },
        "10abcff118984d99b58d759bae0bca33": {
          "model_module": "@jupyter-widgets/base",
          "model_name": "LayoutModel",
          "model_module_version": "1.2.0",
          "state": {
            "_model_module": "@jupyter-widgets/base",
            "_model_module_version": "1.2.0",
            "_model_name": "LayoutModel",
            "_view_count": null,
            "_view_module": "@jupyter-widgets/base",
            "_view_module_version": "1.2.0",
            "_view_name": "LayoutView",
            "align_content": null,
            "align_items": null,
            "align_self": null,
            "border": null,
            "bottom": null,
            "display": null,
            "flex": null,
            "flex_flow": null,
            "grid_area": null,
            "grid_auto_columns": null,
            "grid_auto_flow": null,
            "grid_auto_rows": null,
            "grid_column": null,
            "grid_gap": null,
            "grid_row": null,
            "grid_template_areas": null,
            "grid_template_columns": null,
            "grid_template_rows": null,
            "height": null,
            "justify_content": null,
            "justify_items": null,
            "left": null,
            "margin": null,
            "max_height": null,
            "max_width": null,
            "min_height": null,
            "min_width": null,
            "object_fit": null,
            "object_position": null,
            "order": null,
            "overflow": null,
            "overflow_x": null,
            "overflow_y": null,
            "padding": null,
            "right": null,
            "top": null,
            "visibility": null,
            "width": null
          }
        },
        "354b2c0eb5b848db9a4f1b3b6870c040": {
          "model_module": "@jupyter-widgets/controls",
          "model_name": "ProgressStyleModel",
          "model_module_version": "1.5.0",
          "state": {
            "_model_module": "@jupyter-widgets/controls",
            "_model_module_version": "1.5.0",
            "_model_name": "ProgressStyleModel",
            "_view_count": null,
            "_view_module": "@jupyter-widgets/base",
            "_view_module_version": "1.2.0",
            "_view_name": "StyleView",
            "bar_color": null,
            "description_width": ""
          }
        },
        "8c025e3580c54275b2bdf4e62314b7f5": {
          "model_module": "@jupyter-widgets/base",
          "model_name": "LayoutModel",
          "model_module_version": "1.2.0",
          "state": {
            "_model_module": "@jupyter-widgets/base",
            "_model_module_version": "1.2.0",
            "_model_name": "LayoutModel",
            "_view_count": null,
            "_view_module": "@jupyter-widgets/base",
            "_view_module_version": "1.2.0",
            "_view_name": "LayoutView",
            "align_content": null,
            "align_items": null,
            "align_self": null,
            "border": null,
            "bottom": null,
            "display": null,
            "flex": null,
            "flex_flow": null,
            "grid_area": null,
            "grid_auto_columns": null,
            "grid_auto_flow": null,
            "grid_auto_rows": null,
            "grid_column": null,
            "grid_gap": null,
            "grid_row": null,
            "grid_template_areas": null,
            "grid_template_columns": null,
            "grid_template_rows": null,
            "height": null,
            "justify_content": null,
            "justify_items": null,
            "left": null,
            "margin": null,
            "max_height": null,
            "max_width": null,
            "min_height": null,
            "min_width": null,
            "object_fit": null,
            "object_position": null,
            "order": null,
            "overflow": null,
            "overflow_x": null,
            "overflow_y": null,
            "padding": null,
            "right": null,
            "top": null,
            "visibility": null,
            "width": null
          }
        },
        "8bf0464f2a1645ab8931f34ca86729a7": {
          "model_module": "@jupyter-widgets/controls",
          "model_name": "DescriptionStyleModel",
          "model_module_version": "1.5.0",
          "state": {
            "_model_module": "@jupyter-widgets/controls",
            "_model_module_version": "1.5.0",
            "_model_name": "DescriptionStyleModel",
            "_view_count": null,
            "_view_module": "@jupyter-widgets/base",
            "_view_module_version": "1.2.0",
            "_view_name": "StyleView",
            "description_width": ""
          }
        },
        "273345162f8e46e29058723bb39f6e06": {
          "model_module": "@jupyter-widgets/controls",
          "model_name": "HBoxModel",
          "model_module_version": "1.5.0",
          "state": {
            "_dom_classes": [],
            "_model_module": "@jupyter-widgets/controls",
            "_model_module_version": "1.5.0",
            "_model_name": "HBoxModel",
            "_view_count": null,
            "_view_module": "@jupyter-widgets/controls",
            "_view_module_version": "1.5.0",
            "_view_name": "HBoxView",
            "box_style": "",
            "children": [
              "IPY_MODEL_99a73727097e4d41b937cb58221d5d59",
              "IPY_MODEL_f62164b76e9d4579adef01c0ae4d4c82",
              "IPY_MODEL_14584cba2bea442fbaed3d4f870caf26"
            ],
            "layout": "IPY_MODEL_58a91388663849a9acf4f98993f3be51"
          }
        },
        "99a73727097e4d41b937cb58221d5d59": {
          "model_module": "@jupyter-widgets/controls",
          "model_name": "HTMLModel",
          "model_module_version": "1.5.0",
          "state": {
            "_dom_classes": [],
            "_model_module": "@jupyter-widgets/controls",
            "_model_module_version": "1.5.0",
            "_model_name": "HTMLModel",
            "_view_count": null,
            "_view_module": "@jupyter-widgets/controls",
            "_view_module_version": "1.5.0",
            "_view_name": "HTMLView",
            "description": "",
            "description_tooltip": null,
            "layout": "IPY_MODEL_0114e31040184ffaabecc8400c5d7602",
            "placeholder": "​",
            "style": "IPY_MODEL_89ff8592137047c8bc93b50844c58639",
            "value": "Downloading builder script: 100%"
          }
        },
        "f62164b76e9d4579adef01c0ae4d4c82": {
          "model_module": "@jupyter-widgets/controls",
          "model_name": "FloatProgressModel",
          "model_module_version": "1.5.0",
          "state": {
            "_dom_classes": [],
            "_model_module": "@jupyter-widgets/controls",
            "_model_module_version": "1.5.0",
            "_model_name": "FloatProgressModel",
            "_view_count": null,
            "_view_module": "@jupyter-widgets/controls",
            "_view_module_version": "1.5.0",
            "_view_name": "ProgressView",
            "bar_style": "success",
            "description": "",
            "description_tooltip": null,
            "layout": "IPY_MODEL_74ae5c3f7a0b481b937abb5e1edb2730",
            "max": 6771,
            "min": 0,
            "orientation": "horizontal",
            "style": "IPY_MODEL_beba33915d2646fe9a7c41d86f4b5996",
            "value": 6771
          }
        },
        "14584cba2bea442fbaed3d4f870caf26": {
          "model_module": "@jupyter-widgets/controls",
          "model_name": "HTMLModel",
          "model_module_version": "1.5.0",
          "state": {
            "_dom_classes": [],
            "_model_module": "@jupyter-widgets/controls",
            "_model_module_version": "1.5.0",
            "_model_name": "HTMLModel",
            "_view_count": null,
            "_view_module": "@jupyter-widgets/controls",
            "_view_module_version": "1.5.0",
            "_view_name": "HTMLView",
            "description": "",
            "description_tooltip": null,
            "layout": "IPY_MODEL_1c82afa14dc046bbb50488b312c76597",
            "placeholder": "​",
            "style": "IPY_MODEL_34c15207b88f464b8aa574a84458df27",
            "value": " 6.77k/6.77k [00:00&lt;00:00, 397kB/s]"
          }
        },
        "58a91388663849a9acf4f98993f3be51": {
          "model_module": "@jupyter-widgets/base",
          "model_name": "LayoutModel",
          "model_module_version": "1.2.0",
          "state": {
            "_model_module": "@jupyter-widgets/base",
            "_model_module_version": "1.2.0",
            "_model_name": "LayoutModel",
            "_view_count": null,
            "_view_module": "@jupyter-widgets/base",
            "_view_module_version": "1.2.0",
            "_view_name": "LayoutView",
            "align_content": null,
            "align_items": null,
            "align_self": null,
            "border": null,
            "bottom": null,
            "display": null,
            "flex": null,
            "flex_flow": null,
            "grid_area": null,
            "grid_auto_columns": null,
            "grid_auto_flow": null,
            "grid_auto_rows": null,
            "grid_column": null,
            "grid_gap": null,
            "grid_row": null,
            "grid_template_areas": null,
            "grid_template_columns": null,
            "grid_template_rows": null,
            "height": null,
            "justify_content": null,
            "justify_items": null,
            "left": null,
            "margin": null,
            "max_height": null,
            "max_width": null,
            "min_height": null,
            "min_width": null,
            "object_fit": null,
            "object_position": null,
            "order": null,
            "overflow": null,
            "overflow_x": null,
            "overflow_y": null,
            "padding": null,
            "right": null,
            "top": null,
            "visibility": null,
            "width": null
          }
        },
        "0114e31040184ffaabecc8400c5d7602": {
          "model_module": "@jupyter-widgets/base",
          "model_name": "LayoutModel",
          "model_module_version": "1.2.0",
          "state": {
            "_model_module": "@jupyter-widgets/base",
            "_model_module_version": "1.2.0",
            "_model_name": "LayoutModel",
            "_view_count": null,
            "_view_module": "@jupyter-widgets/base",
            "_view_module_version": "1.2.0",
            "_view_name": "LayoutView",
            "align_content": null,
            "align_items": null,
            "align_self": null,
            "border": null,
            "bottom": null,
            "display": null,
            "flex": null,
            "flex_flow": null,
            "grid_area": null,
            "grid_auto_columns": null,
            "grid_auto_flow": null,
            "grid_auto_rows": null,
            "grid_column": null,
            "grid_gap": null,
            "grid_row": null,
            "grid_template_areas": null,
            "grid_template_columns": null,
            "grid_template_rows": null,
            "height": null,
            "justify_content": null,
            "justify_items": null,
            "left": null,
            "margin": null,
            "max_height": null,
            "max_width": null,
            "min_height": null,
            "min_width": null,
            "object_fit": null,
            "object_position": null,
            "order": null,
            "overflow": null,
            "overflow_x": null,
            "overflow_y": null,
            "padding": null,
            "right": null,
            "top": null,
            "visibility": null,
            "width": null
          }
        },
        "89ff8592137047c8bc93b50844c58639": {
          "model_module": "@jupyter-widgets/controls",
          "model_name": "DescriptionStyleModel",
          "model_module_version": "1.5.0",
          "state": {
            "_model_module": "@jupyter-widgets/controls",
            "_model_module_version": "1.5.0",
            "_model_name": "DescriptionStyleModel",
            "_view_count": null,
            "_view_module": "@jupyter-widgets/base",
            "_view_module_version": "1.2.0",
            "_view_name": "StyleView",
            "description_width": ""
          }
        },
        "74ae5c3f7a0b481b937abb5e1edb2730": {
          "model_module": "@jupyter-widgets/base",
          "model_name": "LayoutModel",
          "model_module_version": "1.2.0",
          "state": {
            "_model_module": "@jupyter-widgets/base",
            "_model_module_version": "1.2.0",
            "_model_name": "LayoutModel",
            "_view_count": null,
            "_view_module": "@jupyter-widgets/base",
            "_view_module_version": "1.2.0",
            "_view_name": "LayoutView",
            "align_content": null,
            "align_items": null,
            "align_self": null,
            "border": null,
            "bottom": null,
            "display": null,
            "flex": null,
            "flex_flow": null,
            "grid_area": null,
            "grid_auto_columns": null,
            "grid_auto_flow": null,
            "grid_auto_rows": null,
            "grid_column": null,
            "grid_gap": null,
            "grid_row": null,
            "grid_template_areas": null,
            "grid_template_columns": null,
            "grid_template_rows": null,
            "height": null,
            "justify_content": null,
            "justify_items": null,
            "left": null,
            "margin": null,
            "max_height": null,
            "max_width": null,
            "min_height": null,
            "min_width": null,
            "object_fit": null,
            "object_position": null,
            "order": null,
            "overflow": null,
            "overflow_x": null,
            "overflow_y": null,
            "padding": null,
            "right": null,
            "top": null,
            "visibility": null,
            "width": null
          }
        },
        "beba33915d2646fe9a7c41d86f4b5996": {
          "model_module": "@jupyter-widgets/controls",
          "model_name": "ProgressStyleModel",
          "model_module_version": "1.5.0",
          "state": {
            "_model_module": "@jupyter-widgets/controls",
            "_model_module_version": "1.5.0",
            "_model_name": "ProgressStyleModel",
            "_view_count": null,
            "_view_module": "@jupyter-widgets/base",
            "_view_module_version": "1.2.0",
            "_view_name": "StyleView",
            "bar_color": null,
            "description_width": ""
          }
        },
        "1c82afa14dc046bbb50488b312c76597": {
          "model_module": "@jupyter-widgets/base",
          "model_name": "LayoutModel",
          "model_module_version": "1.2.0",
          "state": {
            "_model_module": "@jupyter-widgets/base",
            "_model_module_version": "1.2.0",
            "_model_name": "LayoutModel",
            "_view_count": null,
            "_view_module": "@jupyter-widgets/base",
            "_view_module_version": "1.2.0",
            "_view_name": "LayoutView",
            "align_content": null,
            "align_items": null,
            "align_self": null,
            "border": null,
            "bottom": null,
            "display": null,
            "flex": null,
            "flex_flow": null,
            "grid_area": null,
            "grid_auto_columns": null,
            "grid_auto_flow": null,
            "grid_auto_rows": null,
            "grid_column": null,
            "grid_gap": null,
            "grid_row": null,
            "grid_template_areas": null,
            "grid_template_columns": null,
            "grid_template_rows": null,
            "height": null,
            "justify_content": null,
            "justify_items": null,
            "left": null,
            "margin": null,
            "max_height": null,
            "max_width": null,
            "min_height": null,
            "min_width": null,
            "object_fit": null,
            "object_position": null,
            "order": null,
            "overflow": null,
            "overflow_x": null,
            "overflow_y": null,
            "padding": null,
            "right": null,
            "top": null,
            "visibility": null,
            "width": null
          }
        },
        "34c15207b88f464b8aa574a84458df27": {
          "model_module": "@jupyter-widgets/controls",
          "model_name": "DescriptionStyleModel",
          "model_module_version": "1.5.0",
          "state": {
            "_model_module": "@jupyter-widgets/controls",
            "_model_module_version": "1.5.0",
            "_model_name": "DescriptionStyleModel",
            "_view_count": null,
            "_view_module": "@jupyter-widgets/base",
            "_view_module_version": "1.2.0",
            "_view_name": "StyleView",
            "description_width": ""
          }
        },
        "5bc51e7b435e4d17a520e2480784d028": {
          "model_module": "@jupyter-widgets/controls",
          "model_name": "HBoxModel",
          "model_module_version": "1.5.0",
          "state": {
            "_dom_classes": [],
            "_model_module": "@jupyter-widgets/controls",
            "_model_module_version": "1.5.0",
            "_model_name": "HBoxModel",
            "_view_count": null,
            "_view_module": "@jupyter-widgets/controls",
            "_view_module_version": "1.5.0",
            "_view_name": "HBoxView",
            "box_style": "",
            "children": [
              "IPY_MODEL_455e4b3032f942bf8a0e400a2946509b",
              "IPY_MODEL_d0a857ba47af4ae4ac63a2a37b1f834f",
              "IPY_MODEL_a1660ef1fcc84f189c26e10537639999"
            ],
            "layout": "IPY_MODEL_3f619fd3150b453f83b52eaa03e88be7"
          }
        },
        "455e4b3032f942bf8a0e400a2946509b": {
          "model_module": "@jupyter-widgets/controls",
          "model_name": "HTMLModel",
          "model_module_version": "1.5.0",
          "state": {
            "_dom_classes": [],
            "_model_module": "@jupyter-widgets/controls",
            "_model_module_version": "1.5.0",
            "_model_name": "HTMLModel",
            "_view_count": null,
            "_view_module": "@jupyter-widgets/controls",
            "_view_module_version": "1.5.0",
            "_view_name": "HTMLView",
            "description": "",
            "description_tooltip": null,
            "layout": "IPY_MODEL_81377debaa6e49b69d2c60034046a3fb",
            "placeholder": "​",
            "style": "IPY_MODEL_6259f26e1a3d457099b391028ac4ff9a",
            "value": "100%"
          }
        },
        "d0a857ba47af4ae4ac63a2a37b1f834f": {
          "model_module": "@jupyter-widgets/controls",
          "model_name": "FloatProgressModel",
          "model_module_version": "1.5.0",
          "state": {
            "_dom_classes": [],
            "_model_module": "@jupyter-widgets/controls",
            "_model_module_version": "1.5.0",
            "_model_name": "FloatProgressModel",
            "_view_count": null,
            "_view_module": "@jupyter-widgets/controls",
            "_view_module_version": "1.5.0",
            "_view_name": "ProgressView",
            "bar_style": "success",
            "description": "",
            "description_tooltip": null,
            "layout": "IPY_MODEL_386fc0e283bc40f49af9cd1d9a6f3f3c",
            "max": 3,
            "min": 0,
            "orientation": "horizontal",
            "style": "IPY_MODEL_3fce8790c6664e52be55fe93ae8ec8f9",
            "value": 3
          }
        },
        "a1660ef1fcc84f189c26e10537639999": {
          "model_module": "@jupyter-widgets/controls",
          "model_name": "HTMLModel",
          "model_module_version": "1.5.0",
          "state": {
            "_dom_classes": [],
            "_model_module": "@jupyter-widgets/controls",
            "_model_module_version": "1.5.0",
            "_model_name": "HTMLModel",
            "_view_count": null,
            "_view_module": "@jupyter-widgets/controls",
            "_view_module_version": "1.5.0",
            "_view_name": "HTMLView",
            "description": "",
            "description_tooltip": null,
            "layout": "IPY_MODEL_6db42f0d78004f8c940eb1b4a637fbee",
            "placeholder": "​",
            "style": "IPY_MODEL_bd4440eab1b74942ba1e13eb385517dd",
            "value": " 3/3 [00:00&lt;00:00,  8.05ba/s]"
          }
        },
        "3f619fd3150b453f83b52eaa03e88be7": {
          "model_module": "@jupyter-widgets/base",
          "model_name": "LayoutModel",
          "model_module_version": "1.2.0",
          "state": {
            "_model_module": "@jupyter-widgets/base",
            "_model_module_version": "1.2.0",
            "_model_name": "LayoutModel",
            "_view_count": null,
            "_view_module": "@jupyter-widgets/base",
            "_view_module_version": "1.2.0",
            "_view_name": "LayoutView",
            "align_content": null,
            "align_items": null,
            "align_self": null,
            "border": null,
            "bottom": null,
            "display": null,
            "flex": null,
            "flex_flow": null,
            "grid_area": null,
            "grid_auto_columns": null,
            "grid_auto_flow": null,
            "grid_auto_rows": null,
            "grid_column": null,
            "grid_gap": null,
            "grid_row": null,
            "grid_template_areas": null,
            "grid_template_columns": null,
            "grid_template_rows": null,
            "height": null,
            "justify_content": null,
            "justify_items": null,
            "left": null,
            "margin": null,
            "max_height": null,
            "max_width": null,
            "min_height": null,
            "min_width": null,
            "object_fit": null,
            "object_position": null,
            "order": null,
            "overflow": null,
            "overflow_x": null,
            "overflow_y": null,
            "padding": null,
            "right": null,
            "top": null,
            "visibility": null,
            "width": null
          }
        },
        "81377debaa6e49b69d2c60034046a3fb": {
          "model_module": "@jupyter-widgets/base",
          "model_name": "LayoutModel",
          "model_module_version": "1.2.0",
          "state": {
            "_model_module": "@jupyter-widgets/base",
            "_model_module_version": "1.2.0",
            "_model_name": "LayoutModel",
            "_view_count": null,
            "_view_module": "@jupyter-widgets/base",
            "_view_module_version": "1.2.0",
            "_view_name": "LayoutView",
            "align_content": null,
            "align_items": null,
            "align_self": null,
            "border": null,
            "bottom": null,
            "display": null,
            "flex": null,
            "flex_flow": null,
            "grid_area": null,
            "grid_auto_columns": null,
            "grid_auto_flow": null,
            "grid_auto_rows": null,
            "grid_column": null,
            "grid_gap": null,
            "grid_row": null,
            "grid_template_areas": null,
            "grid_template_columns": null,
            "grid_template_rows": null,
            "height": null,
            "justify_content": null,
            "justify_items": null,
            "left": null,
            "margin": null,
            "max_height": null,
            "max_width": null,
            "min_height": null,
            "min_width": null,
            "object_fit": null,
            "object_position": null,
            "order": null,
            "overflow": null,
            "overflow_x": null,
            "overflow_y": null,
            "padding": null,
            "right": null,
            "top": null,
            "visibility": null,
            "width": null
          }
        },
        "6259f26e1a3d457099b391028ac4ff9a": {
          "model_module": "@jupyter-widgets/controls",
          "model_name": "DescriptionStyleModel",
          "model_module_version": "1.5.0",
          "state": {
            "_model_module": "@jupyter-widgets/controls",
            "_model_module_version": "1.5.0",
            "_model_name": "DescriptionStyleModel",
            "_view_count": null,
            "_view_module": "@jupyter-widgets/base",
            "_view_module_version": "1.2.0",
            "_view_name": "StyleView",
            "description_width": ""
          }
        },
        "386fc0e283bc40f49af9cd1d9a6f3f3c": {
          "model_module": "@jupyter-widgets/base",
          "model_name": "LayoutModel",
          "model_module_version": "1.2.0",
          "state": {
            "_model_module": "@jupyter-widgets/base",
            "_model_module_version": "1.2.0",
            "_model_name": "LayoutModel",
            "_view_count": null,
            "_view_module": "@jupyter-widgets/base",
            "_view_module_version": "1.2.0",
            "_view_name": "LayoutView",
            "align_content": null,
            "align_items": null,
            "align_self": null,
            "border": null,
            "bottom": null,
            "display": null,
            "flex": null,
            "flex_flow": null,
            "grid_area": null,
            "grid_auto_columns": null,
            "grid_auto_flow": null,
            "grid_auto_rows": null,
            "grid_column": null,
            "grid_gap": null,
            "grid_row": null,
            "grid_template_areas": null,
            "grid_template_columns": null,
            "grid_template_rows": null,
            "height": null,
            "justify_content": null,
            "justify_items": null,
            "left": null,
            "margin": null,
            "max_height": null,
            "max_width": null,
            "min_height": null,
            "min_width": null,
            "object_fit": null,
            "object_position": null,
            "order": null,
            "overflow": null,
            "overflow_x": null,
            "overflow_y": null,
            "padding": null,
            "right": null,
            "top": null,
            "visibility": null,
            "width": null
          }
        },
        "3fce8790c6664e52be55fe93ae8ec8f9": {
          "model_module": "@jupyter-widgets/controls",
          "model_name": "ProgressStyleModel",
          "model_module_version": "1.5.0",
          "state": {
            "_model_module": "@jupyter-widgets/controls",
            "_model_module_version": "1.5.0",
            "_model_name": "ProgressStyleModel",
            "_view_count": null,
            "_view_module": "@jupyter-widgets/base",
            "_view_module_version": "1.2.0",
            "_view_name": "StyleView",
            "bar_color": null,
            "description_width": ""
          }
        },
        "6db42f0d78004f8c940eb1b4a637fbee": {
          "model_module": "@jupyter-widgets/base",
          "model_name": "LayoutModel",
          "model_module_version": "1.2.0",
          "state": {
            "_model_module": "@jupyter-widgets/base",
            "_model_module_version": "1.2.0",
            "_model_name": "LayoutModel",
            "_view_count": null,
            "_view_module": "@jupyter-widgets/base",
            "_view_module_version": "1.2.0",
            "_view_name": "LayoutView",
            "align_content": null,
            "align_items": null,
            "align_self": null,
            "border": null,
            "bottom": null,
            "display": null,
            "flex": null,
            "flex_flow": null,
            "grid_area": null,
            "grid_auto_columns": null,
            "grid_auto_flow": null,
            "grid_auto_rows": null,
            "grid_column": null,
            "grid_gap": null,
            "grid_row": null,
            "grid_template_areas": null,
            "grid_template_columns": null,
            "grid_template_rows": null,
            "height": null,
            "justify_content": null,
            "justify_items": null,
            "left": null,
            "margin": null,
            "max_height": null,
            "max_width": null,
            "min_height": null,
            "min_width": null,
            "object_fit": null,
            "object_position": null,
            "order": null,
            "overflow": null,
            "overflow_x": null,
            "overflow_y": null,
            "padding": null,
            "right": null,
            "top": null,
            "visibility": null,
            "width": null
          }
        },
        "bd4440eab1b74942ba1e13eb385517dd": {
          "model_module": "@jupyter-widgets/controls",
          "model_name": "DescriptionStyleModel",
          "model_module_version": "1.5.0",
          "state": {
            "_model_module": "@jupyter-widgets/controls",
            "_model_module_version": "1.5.0",
            "_model_name": "DescriptionStyleModel",
            "_view_count": null,
            "_view_module": "@jupyter-widgets/base",
            "_view_module_version": "1.2.0",
            "_view_name": "StyleView",
            "description_width": ""
          }
        },
        "0120e13b5f324c89b7f4c6879392b916": {
          "model_module": "@jupyter-widgets/controls",
          "model_name": "HBoxModel",
          "model_module_version": "1.5.0",
          "state": {
            "_dom_classes": [],
            "_model_module": "@jupyter-widgets/controls",
            "_model_module_version": "1.5.0",
            "_model_name": "HBoxModel",
            "_view_count": null,
            "_view_module": "@jupyter-widgets/controls",
            "_view_module_version": "1.5.0",
            "_view_name": "HBoxView",
            "box_style": "",
            "children": [
              "IPY_MODEL_b6c175dc711e47f6b716fe2d95c3206d",
              "IPY_MODEL_b3eef26bd77e4393affdcbb31f75bdc0",
              "IPY_MODEL_8d33f147e3224f958bc12e5a134ad21d"
            ],
            "layout": "IPY_MODEL_670ae9eaeccf4b29aa63388c11d59bb9"
          }
        },
        "b6c175dc711e47f6b716fe2d95c3206d": {
          "model_module": "@jupyter-widgets/controls",
          "model_name": "HTMLModel",
          "model_module_version": "1.5.0",
          "state": {
            "_dom_classes": [],
            "_model_module": "@jupyter-widgets/controls",
            "_model_module_version": "1.5.0",
            "_model_name": "HTMLModel",
            "_view_count": null,
            "_view_module": "@jupyter-widgets/controls",
            "_view_module_version": "1.5.0",
            "_view_name": "HTMLView",
            "description": "",
            "description_tooltip": null,
            "layout": "IPY_MODEL_d864874ec8194a618a8fa8b9cbc682b7",
            "placeholder": "​",
            "style": "IPY_MODEL_54f8b29fc61f4179b91f2157ca368b44",
            "value": "100%"
          }
        },
        "b3eef26bd77e4393affdcbb31f75bdc0": {
          "model_module": "@jupyter-widgets/controls",
          "model_name": "FloatProgressModel",
          "model_module_version": "1.5.0",
          "state": {
            "_dom_classes": [],
            "_model_module": "@jupyter-widgets/controls",
            "_model_module_version": "1.5.0",
            "_model_name": "FloatProgressModel",
            "_view_count": null,
            "_view_module": "@jupyter-widgets/controls",
            "_view_module_version": "1.5.0",
            "_view_name": "ProgressView",
            "bar_style": "success",
            "description": "",
            "description_tooltip": null,
            "layout": "IPY_MODEL_c162b088c0f448bd94d19533ff6b199a",
            "max": 3,
            "min": 0,
            "orientation": "horizontal",
            "style": "IPY_MODEL_6e218ea9a6114777a50d61d4f74a4699",
            "value": 3
          }
        },
        "8d33f147e3224f958bc12e5a134ad21d": {
          "model_module": "@jupyter-widgets/controls",
          "model_name": "HTMLModel",
          "model_module_version": "1.5.0",
          "state": {
            "_dom_classes": [],
            "_model_module": "@jupyter-widgets/controls",
            "_model_module_version": "1.5.0",
            "_model_name": "HTMLModel",
            "_view_count": null,
            "_view_module": "@jupyter-widgets/controls",
            "_view_module_version": "1.5.0",
            "_view_name": "HTMLView",
            "description": "",
            "description_tooltip": null,
            "layout": "IPY_MODEL_fdb51dad31f9423bb171ef25dc99e020",
            "placeholder": "​",
            "style": "IPY_MODEL_e6be3cf820734d9bbedeb32b55e75eaf",
            "value": " 3/3 [00:03&lt;00:00,  1.06s/ba]"
          }
        },
        "670ae9eaeccf4b29aa63388c11d59bb9": {
          "model_module": "@jupyter-widgets/base",
          "model_name": "LayoutModel",
          "model_module_version": "1.2.0",
          "state": {
            "_model_module": "@jupyter-widgets/base",
            "_model_module_version": "1.2.0",
            "_model_name": "LayoutModel",
            "_view_count": null,
            "_view_module": "@jupyter-widgets/base",
            "_view_module_version": "1.2.0",
            "_view_name": "LayoutView",
            "align_content": null,
            "align_items": null,
            "align_self": null,
            "border": null,
            "bottom": null,
            "display": null,
            "flex": null,
            "flex_flow": null,
            "grid_area": null,
            "grid_auto_columns": null,
            "grid_auto_flow": null,
            "grid_auto_rows": null,
            "grid_column": null,
            "grid_gap": null,
            "grid_row": null,
            "grid_template_areas": null,
            "grid_template_columns": null,
            "grid_template_rows": null,
            "height": null,
            "justify_content": null,
            "justify_items": null,
            "left": null,
            "margin": null,
            "max_height": null,
            "max_width": null,
            "min_height": null,
            "min_width": null,
            "object_fit": null,
            "object_position": null,
            "order": null,
            "overflow": null,
            "overflow_x": null,
            "overflow_y": null,
            "padding": null,
            "right": null,
            "top": null,
            "visibility": null,
            "width": null
          }
        },
        "d864874ec8194a618a8fa8b9cbc682b7": {
          "model_module": "@jupyter-widgets/base",
          "model_name": "LayoutModel",
          "model_module_version": "1.2.0",
          "state": {
            "_model_module": "@jupyter-widgets/base",
            "_model_module_version": "1.2.0",
            "_model_name": "LayoutModel",
            "_view_count": null,
            "_view_module": "@jupyter-widgets/base",
            "_view_module_version": "1.2.0",
            "_view_name": "LayoutView",
            "align_content": null,
            "align_items": null,
            "align_self": null,
            "border": null,
            "bottom": null,
            "display": null,
            "flex": null,
            "flex_flow": null,
            "grid_area": null,
            "grid_auto_columns": null,
            "grid_auto_flow": null,
            "grid_auto_rows": null,
            "grid_column": null,
            "grid_gap": null,
            "grid_row": null,
            "grid_template_areas": null,
            "grid_template_columns": null,
            "grid_template_rows": null,
            "height": null,
            "justify_content": null,
            "justify_items": null,
            "left": null,
            "margin": null,
            "max_height": null,
            "max_width": null,
            "min_height": null,
            "min_width": null,
            "object_fit": null,
            "object_position": null,
            "order": null,
            "overflow": null,
            "overflow_x": null,
            "overflow_y": null,
            "padding": null,
            "right": null,
            "top": null,
            "visibility": null,
            "width": null
          }
        },
        "54f8b29fc61f4179b91f2157ca368b44": {
          "model_module": "@jupyter-widgets/controls",
          "model_name": "DescriptionStyleModel",
          "model_module_version": "1.5.0",
          "state": {
            "_model_module": "@jupyter-widgets/controls",
            "_model_module_version": "1.5.0",
            "_model_name": "DescriptionStyleModel",
            "_view_count": null,
            "_view_module": "@jupyter-widgets/base",
            "_view_module_version": "1.2.0",
            "_view_name": "StyleView",
            "description_width": ""
          }
        },
        "c162b088c0f448bd94d19533ff6b199a": {
          "model_module": "@jupyter-widgets/base",
          "model_name": "LayoutModel",
          "model_module_version": "1.2.0",
          "state": {
            "_model_module": "@jupyter-widgets/base",
            "_model_module_version": "1.2.0",
            "_model_name": "LayoutModel",
            "_view_count": null,
            "_view_module": "@jupyter-widgets/base",
            "_view_module_version": "1.2.0",
            "_view_name": "LayoutView",
            "align_content": null,
            "align_items": null,
            "align_self": null,
            "border": null,
            "bottom": null,
            "display": null,
            "flex": null,
            "flex_flow": null,
            "grid_area": null,
            "grid_auto_columns": null,
            "grid_auto_flow": null,
            "grid_auto_rows": null,
            "grid_column": null,
            "grid_gap": null,
            "grid_row": null,
            "grid_template_areas": null,
            "grid_template_columns": null,
            "grid_template_rows": null,
            "height": null,
            "justify_content": null,
            "justify_items": null,
            "left": null,
            "margin": null,
            "max_height": null,
            "max_width": null,
            "min_height": null,
            "min_width": null,
            "object_fit": null,
            "object_position": null,
            "order": null,
            "overflow": null,
            "overflow_x": null,
            "overflow_y": null,
            "padding": null,
            "right": null,
            "top": null,
            "visibility": null,
            "width": null
          }
        },
        "6e218ea9a6114777a50d61d4f74a4699": {
          "model_module": "@jupyter-widgets/controls",
          "model_name": "ProgressStyleModel",
          "model_module_version": "1.5.0",
          "state": {
            "_model_module": "@jupyter-widgets/controls",
            "_model_module_version": "1.5.0",
            "_model_name": "ProgressStyleModel",
            "_view_count": null,
            "_view_module": "@jupyter-widgets/base",
            "_view_module_version": "1.2.0",
            "_view_name": "StyleView",
            "bar_color": null,
            "description_width": ""
          }
        },
        "fdb51dad31f9423bb171ef25dc99e020": {
          "model_module": "@jupyter-widgets/base",
          "model_name": "LayoutModel",
          "model_module_version": "1.2.0",
          "state": {
            "_model_module": "@jupyter-widgets/base",
            "_model_module_version": "1.2.0",
            "_model_name": "LayoutModel",
            "_view_count": null,
            "_view_module": "@jupyter-widgets/base",
            "_view_module_version": "1.2.0",
            "_view_name": "LayoutView",
            "align_content": null,
            "align_items": null,
            "align_self": null,
            "border": null,
            "bottom": null,
            "display": null,
            "flex": null,
            "flex_flow": null,
            "grid_area": null,
            "grid_auto_columns": null,
            "grid_auto_flow": null,
            "grid_auto_rows": null,
            "grid_column": null,
            "grid_gap": null,
            "grid_row": null,
            "grid_template_areas": null,
            "grid_template_columns": null,
            "grid_template_rows": null,
            "height": null,
            "justify_content": null,
            "justify_items": null,
            "left": null,
            "margin": null,
            "max_height": null,
            "max_width": null,
            "min_height": null,
            "min_width": null,
            "object_fit": null,
            "object_position": null,
            "order": null,
            "overflow": null,
            "overflow_x": null,
            "overflow_y": null,
            "padding": null,
            "right": null,
            "top": null,
            "visibility": null,
            "width": null
          }
        },
        "e6be3cf820734d9bbedeb32b55e75eaf": {
          "model_module": "@jupyter-widgets/controls",
          "model_name": "DescriptionStyleModel",
          "model_module_version": "1.5.0",
          "state": {
            "_model_module": "@jupyter-widgets/controls",
            "_model_module_version": "1.5.0",
            "_model_name": "DescriptionStyleModel",
            "_view_count": null,
            "_view_module": "@jupyter-widgets/base",
            "_view_module_version": "1.2.0",
            "_view_name": "StyleView",
            "description_width": ""
          }
        },
        "4b799bbbb8364758b542b3898c675ca2": {
          "model_module": "@jupyter-widgets/controls",
          "model_name": "HBoxModel",
          "model_module_version": "1.5.0",
          "state": {
            "_dom_classes": [],
            "_model_module": "@jupyter-widgets/controls",
            "_model_module_version": "1.5.0",
            "_model_name": "HBoxModel",
            "_view_count": null,
            "_view_module": "@jupyter-widgets/controls",
            "_view_module_version": "1.5.0",
            "_view_name": "HBoxView",
            "box_style": "",
            "children": [
              "IPY_MODEL_4cf1b79160c64c34afb95e85fa834528",
              "IPY_MODEL_cc90694650d94fb3b1f78c19b0e85722",
              "IPY_MODEL_79624b16c30c43cc99fb3f3a60d32fc4"
            ],
            "layout": "IPY_MODEL_4a56f4cb45be4707ae33dbfbf210930a"
          }
        },
        "4cf1b79160c64c34afb95e85fa834528": {
          "model_module": "@jupyter-widgets/controls",
          "model_name": "HTMLModel",
          "model_module_version": "1.5.0",
          "state": {
            "_dom_classes": [],
            "_model_module": "@jupyter-widgets/controls",
            "_model_module_version": "1.5.0",
            "_model_name": "HTMLModel",
            "_view_count": null,
            "_view_module": "@jupyter-widgets/controls",
            "_view_module_version": "1.5.0",
            "_view_name": "HTMLView",
            "description": "",
            "description_tooltip": null,
            "layout": "IPY_MODEL_8a2cc906a22843f5a6ef63193e001b07",
            "placeholder": "​",
            "style": "IPY_MODEL_06acdff0960b41959f7a0a246676e478",
            "value": "100%"
          }
        },
        "cc90694650d94fb3b1f78c19b0e85722": {
          "model_module": "@jupyter-widgets/controls",
          "model_name": "FloatProgressModel",
          "model_module_version": "1.5.0",
          "state": {
            "_dom_classes": [],
            "_model_module": "@jupyter-widgets/controls",
            "_model_module_version": "1.5.0",
            "_model_name": "FloatProgressModel",
            "_view_count": null,
            "_view_module": "@jupyter-widgets/controls",
            "_view_module_version": "1.5.0",
            "_view_name": "ProgressView",
            "bar_style": "success",
            "description": "",
            "description_tooltip": null,
            "layout": "IPY_MODEL_95806e10ed5e42dfb10ac06947c4f4ea",
            "max": 3,
            "min": 0,
            "orientation": "horizontal",
            "style": "IPY_MODEL_0dcb7a02e4144c3f85045381d6637432",
            "value": 3
          }
        },
        "79624b16c30c43cc99fb3f3a60d32fc4": {
          "model_module": "@jupyter-widgets/controls",
          "model_name": "HTMLModel",
          "model_module_version": "1.5.0",
          "state": {
            "_dom_classes": [],
            "_model_module": "@jupyter-widgets/controls",
            "_model_module_version": "1.5.0",
            "_model_name": "HTMLModel",
            "_view_count": null,
            "_view_module": "@jupyter-widgets/controls",
            "_view_module_version": "1.5.0",
            "_view_name": "HTMLView",
            "description": "",
            "description_tooltip": null,
            "layout": "IPY_MODEL_22f0a61401d84752bef282c2dd767b8b",
            "placeholder": "​",
            "style": "IPY_MODEL_f9677344619c4a3d926e34e9ef070205",
            "value": " 3/3 [00:03&lt;00:00,  1.26s/ba]"
          }
        },
        "4a56f4cb45be4707ae33dbfbf210930a": {
          "model_module": "@jupyter-widgets/base",
          "model_name": "LayoutModel",
          "model_module_version": "1.2.0",
          "state": {
            "_model_module": "@jupyter-widgets/base",
            "_model_module_version": "1.2.0",
            "_model_name": "LayoutModel",
            "_view_count": null,
            "_view_module": "@jupyter-widgets/base",
            "_view_module_version": "1.2.0",
            "_view_name": "LayoutView",
            "align_content": null,
            "align_items": null,
            "align_self": null,
            "border": null,
            "bottom": null,
            "display": null,
            "flex": null,
            "flex_flow": null,
            "grid_area": null,
            "grid_auto_columns": null,
            "grid_auto_flow": null,
            "grid_auto_rows": null,
            "grid_column": null,
            "grid_gap": null,
            "grid_row": null,
            "grid_template_areas": null,
            "grid_template_columns": null,
            "grid_template_rows": null,
            "height": null,
            "justify_content": null,
            "justify_items": null,
            "left": null,
            "margin": null,
            "max_height": null,
            "max_width": null,
            "min_height": null,
            "min_width": null,
            "object_fit": null,
            "object_position": null,
            "order": null,
            "overflow": null,
            "overflow_x": null,
            "overflow_y": null,
            "padding": null,
            "right": null,
            "top": null,
            "visibility": null,
            "width": null
          }
        },
        "8a2cc906a22843f5a6ef63193e001b07": {
          "model_module": "@jupyter-widgets/base",
          "model_name": "LayoutModel",
          "model_module_version": "1.2.0",
          "state": {
            "_model_module": "@jupyter-widgets/base",
            "_model_module_version": "1.2.0",
            "_model_name": "LayoutModel",
            "_view_count": null,
            "_view_module": "@jupyter-widgets/base",
            "_view_module_version": "1.2.0",
            "_view_name": "LayoutView",
            "align_content": null,
            "align_items": null,
            "align_self": null,
            "border": null,
            "bottom": null,
            "display": null,
            "flex": null,
            "flex_flow": null,
            "grid_area": null,
            "grid_auto_columns": null,
            "grid_auto_flow": null,
            "grid_auto_rows": null,
            "grid_column": null,
            "grid_gap": null,
            "grid_row": null,
            "grid_template_areas": null,
            "grid_template_columns": null,
            "grid_template_rows": null,
            "height": null,
            "justify_content": null,
            "justify_items": null,
            "left": null,
            "margin": null,
            "max_height": null,
            "max_width": null,
            "min_height": null,
            "min_width": null,
            "object_fit": null,
            "object_position": null,
            "order": null,
            "overflow": null,
            "overflow_x": null,
            "overflow_y": null,
            "padding": null,
            "right": null,
            "top": null,
            "visibility": null,
            "width": null
          }
        },
        "06acdff0960b41959f7a0a246676e478": {
          "model_module": "@jupyter-widgets/controls",
          "model_name": "DescriptionStyleModel",
          "model_module_version": "1.5.0",
          "state": {
            "_model_module": "@jupyter-widgets/controls",
            "_model_module_version": "1.5.0",
            "_model_name": "DescriptionStyleModel",
            "_view_count": null,
            "_view_module": "@jupyter-widgets/base",
            "_view_module_version": "1.2.0",
            "_view_name": "StyleView",
            "description_width": ""
          }
        },
        "95806e10ed5e42dfb10ac06947c4f4ea": {
          "model_module": "@jupyter-widgets/base",
          "model_name": "LayoutModel",
          "model_module_version": "1.2.0",
          "state": {
            "_model_module": "@jupyter-widgets/base",
            "_model_module_version": "1.2.0",
            "_model_name": "LayoutModel",
            "_view_count": null,
            "_view_module": "@jupyter-widgets/base",
            "_view_module_version": "1.2.0",
            "_view_name": "LayoutView",
            "align_content": null,
            "align_items": null,
            "align_self": null,
            "border": null,
            "bottom": null,
            "display": null,
            "flex": null,
            "flex_flow": null,
            "grid_area": null,
            "grid_auto_columns": null,
            "grid_auto_flow": null,
            "grid_auto_rows": null,
            "grid_column": null,
            "grid_gap": null,
            "grid_row": null,
            "grid_template_areas": null,
            "grid_template_columns": null,
            "grid_template_rows": null,
            "height": null,
            "justify_content": null,
            "justify_items": null,
            "left": null,
            "margin": null,
            "max_height": null,
            "max_width": null,
            "min_height": null,
            "min_width": null,
            "object_fit": null,
            "object_position": null,
            "order": null,
            "overflow": null,
            "overflow_x": null,
            "overflow_y": null,
            "padding": null,
            "right": null,
            "top": null,
            "visibility": null,
            "width": null
          }
        },
        "0dcb7a02e4144c3f85045381d6637432": {
          "model_module": "@jupyter-widgets/controls",
          "model_name": "ProgressStyleModel",
          "model_module_version": "1.5.0",
          "state": {
            "_model_module": "@jupyter-widgets/controls",
            "_model_module_version": "1.5.0",
            "_model_name": "ProgressStyleModel",
            "_view_count": null,
            "_view_module": "@jupyter-widgets/base",
            "_view_module_version": "1.2.0",
            "_view_name": "StyleView",
            "bar_color": null,
            "description_width": ""
          }
        },
        "22f0a61401d84752bef282c2dd767b8b": {
          "model_module": "@jupyter-widgets/base",
          "model_name": "LayoutModel",
          "model_module_version": "1.2.0",
          "state": {
            "_model_module": "@jupyter-widgets/base",
            "_model_module_version": "1.2.0",
            "_model_name": "LayoutModel",
            "_view_count": null,
            "_view_module": "@jupyter-widgets/base",
            "_view_module_version": "1.2.0",
            "_view_name": "LayoutView",
            "align_content": null,
            "align_items": null,
            "align_self": null,
            "border": null,
            "bottom": null,
            "display": null,
            "flex": null,
            "flex_flow": null,
            "grid_area": null,
            "grid_auto_columns": null,
            "grid_auto_flow": null,
            "grid_auto_rows": null,
            "grid_column": null,
            "grid_gap": null,
            "grid_row": null,
            "grid_template_areas": null,
            "grid_template_columns": null,
            "grid_template_rows": null,
            "height": null,
            "justify_content": null,
            "justify_items": null,
            "left": null,
            "margin": null,
            "max_height": null,
            "max_width": null,
            "min_height": null,
            "min_width": null,
            "object_fit": null,
            "object_position": null,
            "order": null,
            "overflow": null,
            "overflow_x": null,
            "overflow_y": null,
            "padding": null,
            "right": null,
            "top": null,
            "visibility": null,
            "width": null
          }
        },
        "f9677344619c4a3d926e34e9ef070205": {
          "model_module": "@jupyter-widgets/controls",
          "model_name": "DescriptionStyleModel",
          "model_module_version": "1.5.0",
          "state": {
            "_model_module": "@jupyter-widgets/controls",
            "_model_module_version": "1.5.0",
            "_model_name": "DescriptionStyleModel",
            "_view_count": null,
            "_view_module": "@jupyter-widgets/base",
            "_view_module_version": "1.2.0",
            "_view_name": "StyleView",
            "description_width": ""
          }
        }
      }
    }
  },
  "nbformat": 4,
  "nbformat_minor": 0
}